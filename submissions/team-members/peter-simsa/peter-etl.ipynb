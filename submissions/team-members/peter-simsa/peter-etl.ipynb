{
 "cells": [
  {
   "cell_type": "code",
   "execution_count": null,
   "id": "f308f91d-507f-4f54-9b88-09a578ed1572",
   "metadata": {},
   "outputs": [],
   "source": []
  },
  {
   "cell_type": "markdown",
   "id": "e35db8a5-b8cb-4e27-923b-bb138cc4180d",
   "metadata": {},
   "source": [
    "# SDS Kaggle salary estimation project - 2025\n",
    "### Data transformation and exploration\n",
    "source: https://www.kaggle.com/datasets/chopper53/machine-learning-engineer-salary-in-2024/data"
   ]
  },
  {
   "cell_type": "markdown",
   "id": "744a2c15-6d6b-447b-8a44-c55ec2ab0dbb",
   "metadata": {},
   "source": [
    "###  Data summary\n",
    "\n",
    "peter-eda-clean:\n",
    "- 2 col del : ['salary','salary_currency']   (16494, 11) -> (16494, 9)\n",
    "- duplicates dropped: (16494, 9) -> (10092, 9)\n",
    "- change column order: salary_in_usd at the end\n",
    "\n",
    "here:\n",
    "\n",
    "- <a href='#year'>work_year</a>: old years has significantly lower average than 2022. data before 2022 deleted. (10092, 9) -> (9801, 8)  \n",
    "- change datatype for <a href='#remote'>remote_ratio</a> from int -> object\n",
    "- <a href='#loc'>location</a>, <a href='#job'>job title</a>, <a href=\"#res\">residence</a> has myriads of values. Low represented values were merged. Variation was reduced by recategorisation by descriptive statistics using KMeans.\n",
    "  \n",
    "  <u>Location</u>: sample merge, new name 'other': below 25 datapoint, 70 -> 9 (61 merged, 339 datapoint)  \n",
    "  Reduction: 10 -> 5  \n",
    "  new categories:  \n",
    "                0        [AU, CA]  \n",
    "                1    [ES, IN, NL]  \n",
    "                2         [other]  \n",
    "                3    [DE, FR, GB]  \n",
    "                4            [US]  \n",
    "  <u>Job title</u>: sample merge, new name 'other': below 5 datapoint, 150 -> 90 (61 merged, 129 datapoint)\n",
    "  new categories: 10  \n",
    "  <u>Employee residence</u>: sample merge, new name'other': below 11 datapoint, 80 -> 23 (58 merged, 169 datapoint)  \n",
    "  new categories: 7  \n",
    "    0             [DE, FR, GB, PL, UA, other]  \n",
    "    1                                [CA, US]  \n",
    "    2    [AR, BR, ES, IN, IT, LT, LV, PT, ZA]  \n",
    "    3                                [AU, EG]  \n",
    "    4                                    [MX]  \n",
    "    5                                    [IE]  \n",
    "    6                                [CO, NL]  \n",
    "  \n",
    "- the <a href='#emp'>rest of the feature columns</a> remain\n",
    "- target <a href='#sal'>salary_in_usd</a> log transformed"
   ]
  },
  {
   "cell_type": "markdown",
   "id": "edcf1732-06a0-459f-b901-0bd2c972526c",
   "metadata": {},
   "source": [
    "other (underrepresented job titles): 'Machine Learning Research Engineer', 'Computational Biologist',\n",
    "       'Data Science Analyst', 'Data Operations Manager',\n",
    "       'Financial Data Analyst', 'Data Integration Developer',\n",
    "       'Admin & Data Analyst', 'Data Visualization Engineer',\n",
    "       'Data Strategy Manager', 'Principal Data Scientist',\n",
    "       'Software Data Engineer', 'Principal Machine Learning Engineer',\n",
    "       'Machine Learning Manager', 'Data DevOps Engineer', 'ETL Engineer',\n",
    "       'Lead Data Analyst', 'AI Product Manager', 'AI Research Scientist',\n",
    "       'Applied Machine Learning Engineer', 'Data Visualization Analyst',\n",
    "       'Computer Vision Software Engineer', 'Data Analyst Lead',\n",
    "       'ML Ops Engineer', 'Machine Learning Modeler', 'Bear Robotics',\n",
    "       'Data Pipeline Engineer', 'Director of Business Intelligence',\n",
    "       'Data Analytics Engineer', 'Data Scientist Lead', 'Data Modeller',\n",
    "       'Business Intelligence Data Analyst', 'Finance Data Analyst',\n",
    "       'Compliance Data Analyst', 'Cloud Data Engineer',\n",
    "       'Data Reporting Analyst', 'Machine Learning Specialist',\n",
    "       'Data Management Consultant', 'Manager Data Management',\n",
    "       'Consultant Data Engineer', 'Data Science Tech Lead',\n",
    "       'Azure Data Engineer', 'Deep Learning Researcher', 'Big Data Architect',\n",
    "       'Autonomous Vehicle Technician', 'BI Data Engineer',\n",
    "       'AWS Data Architect', 'Staff Data Analyst',\n",
    "       'Quantitative Research Analyst', 'Big Data Developer',\n",
    "       'Principal Data Architect', 'Marketing Data Analyst',\n",
    "       'Marketing Data Scientist', 'Managing Director Data Science',\n",
    "       'CRM Data Analyst', 'Principal Data Engineer', 'Power BI Developer',\n",
    "       'Data Analytics Associate', 'Applied Research Scientist',\n",
    "       'Analytics Engineering Manager', 'Lead Data Engineer',\n",
    "       'Principal Data Analyst'\n"
   ]
  },
  {
   "cell_type": "code",
   "execution_count": 133,
   "id": "4402f86f-1738-49f7-90cd-0c17ac97bb99",
   "metadata": {},
   "outputs": [
    {
     "name": "stdout",
     "output_type": "stream",
     "text": [
      "Job title categories:\n",
      "category 0:  ['AI Developer', 'AI Scientist', 'Applied Data Scientist', 'Business Intelligence Engineer', 'Data Analytics Manager', 'Data Product Owner', 'Data Quality Engineer', 'MLOps Engineer', 'NLP Engineer', 'other'] \n",
      "\n",
      "category 1:  ['Analytics Engineer', 'Machine Learning Engineer', 'Machine Learning Scientist', 'Prompt Engineer', 'Research Engineer', 'Research Scientist'] \n",
      "\n",
      "category 2:  ['Business Intelligence', 'Business Intelligence Manager', 'Business Intelligence Specialist', 'Cloud Database Engineer', 'Data Integration Engineer', 'Data Management Specialist', 'Data Modeler', 'Data Operations Engineer', 'Data Product Manager', 'Data Science Engineer', 'Data Science Lead', 'Data Science Practitioner', 'Data Strategist', 'ETL Developer', 'Machine Learning Infrastructure Engineer', 'Machine Learning Operations Engineer', 'Machine Learning Researcher', 'Robotics Engineer'] \n",
      "\n",
      "category 3:  ['AI Engineer', 'Applied Scientist', 'Computer Vision Engineer', 'Data Analytics Lead', 'Data Architect', 'Data Lead', 'Data Science', 'Data Science Manager', 'Deep Learning Engineer', 'Director of Data Science', 'Head of Data', 'Head of Data Science', 'ML Engineer', 'Machine Learning Software Engineer'] \n",
      "\n",
      "category 4:  ['AI Programmer', 'BI Data Analyst', 'Data Analytics Consultant', 'Data Analytics Specialist', 'Data Developer', 'Data Management Analyst', 'Data Operations Analyst', 'Data Operations Associate', 'Data Quality Analyst', 'Encounter Data Management Professional', 'Insight Analyst', 'Lead Machine Learning Engineer'] \n",
      "\n",
      "category 5:  ['AI Research Engineer', 'Applied Machine Learning Scientist', 'BI Analyst', 'BI Developer', 'Big Data Engineer', 'Business Data Analyst', 'Business Intelligence Analyst', 'Business Intelligence Developer', 'Data Integration Specialist', 'Data Manager', 'Data Operations Specialist', 'Data Quality Manager', 'Data Science Consultant', 'Data Specialist', 'Data Visualization Specialist', 'Lead Data Scientist', 'Machine Learning Developer', 'Product Data Analyst', 'Research Analyst'] \n",
      "\n",
      "category 6:  ['AI Software Engineer', 'Business Intelligence Lead', 'Data Infrastructure Engineer', 'Data Science Director', 'Decision Scientist', 'Robotics Software Engineer'] \n",
      "\n",
      "category 7:  ['Head of Machine Learning'] \n",
      "\n",
      "category 8:  ['AI Architect'] \n",
      "\n",
      "category 9:  ['Data Analyst', 'Data Engineer', 'Data Scientist'] \n",
      "\n"
     ]
    }
   ],
   "source": [
    "print('Job title categories:')\n",
    "for i in range(10):\n",
    "    print('category {}: '.format(i), (job_agg.reset_index().groupby('new_cat')['job_title'].apply(list))[i], '\\n')"
   ]
  },
  {
   "cell_type": "raw",
   "id": "46168dd3-330e-48d6-8869-2bd67233d255",
   "metadata": {},
   "source": [
    "### Conclusions  \n",
    "\n",
    "- salary_in_usd skewed towards right, needed scaling"
   ]
  },
  {
   "cell_type": "code",
   "execution_count": 1,
   "id": "748deb2c-a358-4270-8bdc-77743f899d7f",
   "metadata": {},
   "outputs": [],
   "source": [
    "import pandas as pd\n",
    "import numpy as np\n",
    "import matplotlib.pyplot as plt\n",
    "import seaborn as sns\n",
    "from scipy.stats import ttest_ind\n",
    "from sklearn.preprocessing import StandardScaler\n",
    "from sklearn.cluster import KMeans\n",
    "from sklearn.pipeline import Pipeline\n",
    "import warnings\n",
    "\n",
    "warnings.filterwarnings('ignore')\n",
    "\n",
    "def t_test(alpha=0.05, **kwargs: 'a:[name, data]'):\n",
    "    \"\"\" indepented t-test, for two means or data series\n",
    "        a: data to compare to,\n",
    "        b: data\n",
    "\n",
    "        alpha: threshold of significance\n",
    "        H0: a=b \n",
    "    ===========\n",
    "    return (t_score, p_value)\n",
    "    \"\"\"\n",
    "\n",
    "    tscore,  p_value = ttest_ind(kwargs['a'][1], kwargs['b'][1])\n",
    "\n",
    "   \n",
    "    print(\"\"\"The difference between {x} and {y} is {s} \n",
    "    with p-value of {p} (t-score: {t})\"\"\".format(x=kwargs['a'][0],\n",
    "                                                 y=kwargs['b'][0], \n",
    "                                                 s='significant' if p_value < alpha else 'NOT significant',\n",
    "                                                 p=p_value,\n",
    "                                                 t=tscore))\n",
    "   \n",
    "        \n"
   ]
  },
  {
   "cell_type": "code",
   "execution_count": 2,
   "id": "b267220b-006a-424b-a769-e8e6a592dbfc",
   "metadata": {},
   "outputs": [],
   "source": [
    "sns.set_style('darkgrid')"
   ]
  },
  {
   "cell_type": "code",
   "execution_count": 85,
   "id": "f829f5bf-004f-44f6-b732-ffce989bf8ac",
   "metadata": {},
   "outputs": [
    {
     "data": {
      "text/plain": [
       "(10092, 9)"
      ]
     },
     "execution_count": 85,
     "metadata": {},
     "output_type": "execute_result"
    }
   ],
   "source": [
    "df = pd.read_csv('salary_clean.csv', index_col=[0])\n",
    "df.shape"
   ]
  },
  {
   "cell_type": "code",
   "execution_count": 4,
   "id": "c6b0035b-27ab-4ab0-a1a8-503330005afe",
   "metadata": {},
   "outputs": [
    {
     "data": {
      "text/html": [
       "<div>\n",
       "<style scoped>\n",
       "    .dataframe tbody tr th:only-of-type {\n",
       "        vertical-align: middle;\n",
       "    }\n",
       "\n",
       "    .dataframe tbody tr th {\n",
       "        vertical-align: top;\n",
       "    }\n",
       "\n",
       "    .dataframe thead th {\n",
       "        text-align: right;\n",
       "    }\n",
       "</style>\n",
       "<table border=\"1\" class=\"dataframe\">\n",
       "  <thead>\n",
       "    <tr style=\"text-align: right;\">\n",
       "      <th></th>\n",
       "      <th>work_year</th>\n",
       "      <th>experience_level</th>\n",
       "      <th>employment_type</th>\n",
       "      <th>job_title</th>\n",
       "      <th>employee_residence</th>\n",
       "      <th>remote_ratio</th>\n",
       "      <th>company_location</th>\n",
       "      <th>company_size</th>\n",
       "      <th>salary_in_usd</th>\n",
       "    </tr>\n",
       "  </thead>\n",
       "  <tbody>\n",
       "    <tr>\n",
       "      <th>0</th>\n",
       "      <td>2024</td>\n",
       "      <td>MI</td>\n",
       "      <td>FT</td>\n",
       "      <td>Data Scientist</td>\n",
       "      <td>AU</td>\n",
       "      <td>0</td>\n",
       "      <td>AU</td>\n",
       "      <td>S</td>\n",
       "      <td>120000</td>\n",
       "    </tr>\n",
       "    <tr>\n",
       "      <th>1</th>\n",
       "      <td>2024</td>\n",
       "      <td>MI</td>\n",
       "      <td>FT</td>\n",
       "      <td>Data Scientist</td>\n",
       "      <td>AU</td>\n",
       "      <td>0</td>\n",
       "      <td>AU</td>\n",
       "      <td>S</td>\n",
       "      <td>70000</td>\n",
       "    </tr>\n",
       "    <tr>\n",
       "      <th>2</th>\n",
       "      <td>2024</td>\n",
       "      <td>MI</td>\n",
       "      <td>CT</td>\n",
       "      <td>Data Scientist</td>\n",
       "      <td>US</td>\n",
       "      <td>0</td>\n",
       "      <td>US</td>\n",
       "      <td>M</td>\n",
       "      <td>130000</td>\n",
       "    </tr>\n",
       "  </tbody>\n",
       "</table>\n",
       "</div>"
      ],
      "text/plain": [
       "   work_year experience_level employment_type       job_title  \\\n",
       "0       2024               MI              FT  Data Scientist   \n",
       "1       2024               MI              FT  Data Scientist   \n",
       "2       2024               MI              CT  Data Scientist   \n",
       "\n",
       "  employee_residence  remote_ratio company_location company_size  \\\n",
       "0                 AU             0               AU            S   \n",
       "1                 AU             0               AU            S   \n",
       "2                 US             0               US            M   \n",
       "\n",
       "   salary_in_usd  \n",
       "0         120000  \n",
       "1          70000  \n",
       "2         130000  "
      ]
     },
     "execution_count": 4,
     "metadata": {},
     "output_type": "execute_result"
    }
   ],
   "source": [
    "df[:3]"
   ]
  },
  {
   "cell_type": "markdown",
   "id": "1bb00c59-bff9-4b62-9622-70832a2c0771",
   "metadata": {},
   "source": [
    "<span id='year' style='font-weight: bold'>What's the business with time?</span>"
   ]
  },
  {
   "cell_type": "code",
   "execution_count": 3,
   "id": "e3d49e83-a843-408b-8acd-7d99978c60b4",
   "metadata": {},
   "outputs": [
    {
     "data": {
      "text/plain": [
       "work_year\n",
       "2023    4632\n",
       "2024    4053\n",
       "2022    1116\n",
       "2021     216\n",
       "2020      75\n",
       "Name: count, dtype: int64"
      ]
     },
     "execution_count": 3,
     "metadata": {},
     "output_type": "execute_result"
    }
   ],
   "source": [
    "# check salary change over time\n",
    "df.work_year.value_counts()"
   ]
  },
  {
   "cell_type": "code",
   "execution_count": 4,
   "id": "b7544cc0-b9e2-4307-99ee-43f8638bc5f9",
   "metadata": {},
   "outputs": [
    {
     "data": {
      "image/png": "[encoded data removed]",
      "text/plain": [
       "<Figure size 600x300 with 1 Axes>"
      ]
     },
     "metadata": {},
     "output_type": "display_data"
    }
   ],
   "source": [
    "sns.set_theme(rc={'figure.figsize': (6,3)})\n",
    "sns.boxplot(data=df, x='work_year', y='salary_in_usd');"
   ]
  },
  {
   "cell_type": "code",
   "execution_count": 5,
   "id": "8b127c75-d567-4ae8-82cf-7eab30c37cd9",
   "metadata": {},
   "outputs": [
    {
     "name": "stdout",
     "output_type": "stream",
     "text": [
      "The difference between year21 and year22 is significant \n",
      "    with p-value of 6.7643836395553875e-12 (t-score: -6.925067332604848)\n"
     ]
    }
   ],
   "source": [
    "y21 = df.loc[df.work_year == 2021, 'salary_in_usd']\n",
    "y22 = df.loc[df.work_year == 2022, 'salary_in_usd']\n",
    "\n",
    "t_test(a=['year21', y21], b=['year22', y22])"
   ]
  },
  {
   "cell_type": "code",
   "execution_count": 86,
   "id": "072ad73c-6c3f-4b4b-b645-003dd38fc63e",
   "metadata": {},
   "outputs": [
    {
     "data": {
      "text/plain": [
       "(9801, 9)"
      ]
     },
     "execution_count": 86,
     "metadata": {},
     "output_type": "execute_result"
    }
   ],
   "source": [
    "df = df.loc[df.work_year > 2021]\n",
    "df.shape"
   ]
  },
  {
   "cell_type": "code",
   "execution_count": 87,
   "id": "de90f2f4-fa3a-41f2-8367-a37f2beaa9e5",
   "metadata": {},
   "outputs": [
    {
     "data": {
      "text/plain": [
       "(9801, 8)"
      ]
     },
     "execution_count": 87,
     "metadata": {},
     "output_type": "execute_result"
    }
   ],
   "source": [
    "df.drop('work_year', axis=1, inplace=True)\n",
    "df.shape"
   ]
  },
  {
   "cell_type": "code",
   "execution_count": 88,
   "id": "6a1858ea-2a9f-4763-bb64-60bde3f779bb",
   "metadata": {},
   "outputs": [],
   "source": [
    "#df.to_csv('temp_year.csv', index=False)"
   ]
  },
  {
   "cell_type": "markdown",
   "id": "f6ef7bc2-3919-4e53-af65-c6bd72d825c4",
   "metadata": {},
   "source": [
    "<span id='remote' style='font-weight:bold'>Checking data types - change</span>"
   ]
  },
  {
   "cell_type": "code",
   "execution_count": 90,
   "id": "ea56d722-b257-4ac4-957d-32255088612a",
   "metadata": {},
   "outputs": [
    {
     "name": "stdout",
     "output_type": "stream",
     "text": [
      "(9801, 8)\n"
     ]
    },
    {
     "data": {
      "text/html": [
       "<div>\n",
       "<style scoped>\n",
       "    .dataframe tbody tr th:only-of-type {\n",
       "        vertical-align: middle;\n",
       "    }\n",
       "\n",
       "    .dataframe tbody tr th {\n",
       "        vertical-align: top;\n",
       "    }\n",
       "\n",
       "    .dataframe thead th {\n",
       "        text-align: right;\n",
       "    }\n",
       "</style>\n",
       "<table border=\"1\" class=\"dataframe\">\n",
       "  <thead>\n",
       "    <tr style=\"text-align: right;\">\n",
       "      <th></th>\n",
       "      <th>experience_level</th>\n",
       "      <th>employment_type</th>\n",
       "      <th>job_title</th>\n",
       "      <th>employee_residence</th>\n",
       "      <th>remote_ratio</th>\n",
       "      <th>company_location</th>\n",
       "      <th>company_size</th>\n",
       "      <th>salary_in_usd</th>\n",
       "    </tr>\n",
       "  </thead>\n",
       "  <tbody>\n",
       "    <tr>\n",
       "      <th>0</th>\n",
       "      <td>MI</td>\n",
       "      <td>FT</td>\n",
       "      <td>Data Scientist</td>\n",
       "      <td>AU</td>\n",
       "      <td>0</td>\n",
       "      <td>AU</td>\n",
       "      <td>S</td>\n",
       "      <td>120000</td>\n",
       "    </tr>\n",
       "    <tr>\n",
       "      <th>1</th>\n",
       "      <td>MI</td>\n",
       "      <td>FT</td>\n",
       "      <td>Data Scientist</td>\n",
       "      <td>AU</td>\n",
       "      <td>0</td>\n",
       "      <td>AU</td>\n",
       "      <td>S</td>\n",
       "      <td>70000</td>\n",
       "    </tr>\n",
       "    <tr>\n",
       "      <th>2</th>\n",
       "      <td>MI</td>\n",
       "      <td>CT</td>\n",
       "      <td>Data Scientist</td>\n",
       "      <td>US</td>\n",
       "      <td>0</td>\n",
       "      <td>US</td>\n",
       "      <td>M</td>\n",
       "      <td>130000</td>\n",
       "    </tr>\n",
       "  </tbody>\n",
       "</table>\n",
       "</div>"
      ],
      "text/plain": [
       "  experience_level employment_type       job_title employee_residence  \\\n",
       "0               MI              FT  Data Scientist                 AU   \n",
       "1               MI              FT  Data Scientist                 AU   \n",
       "2               MI              CT  Data Scientist                 US   \n",
       "\n",
       "   remote_ratio company_location company_size  salary_in_usd  \n",
       "0             0               AU            S         120000  \n",
       "1             0               AU            S          70000  \n",
       "2             0               US            M         130000  "
      ]
     },
     "execution_count": 90,
     "metadata": {},
     "output_type": "execute_result"
    }
   ],
   "source": [
    "#df = pd.read_csv('temp_year.csv')\n",
    "print(df.shape)\n",
    "df[:3]"
   ]
  },
  {
   "cell_type": "code",
   "execution_count": 30,
   "id": "3f9ec2e9-c879-4557-bc2a-2d7f9d3e3e71",
   "metadata": {},
   "outputs": [
    {
     "data": {
      "text/plain": [
       "experience_level      object\n",
       "employment_type       object\n",
       "job_title             object\n",
       "employee_residence    object\n",
       "remote_ratio           int64\n",
       "company_location      object\n",
       "company_size          object\n",
       "salary_in_usd          int64\n",
       "dtype: object"
      ]
     },
     "execution_count": 30,
     "metadata": {},
     "output_type": "execute_result"
    }
   ],
   "source": [
    "df.dtypes"
   ]
  },
  {
   "cell_type": "code",
   "execution_count": 91,
   "id": "4f4998a8-8780-4154-a534-70a7be551579",
   "metadata": {},
   "outputs": [],
   "source": [
    "df['remote_ratio'] = df.remote_ratio.astype('object')"
   ]
  },
  {
   "cell_type": "markdown",
   "id": "99a98021-9463-4ec3-a8be-aa7f1c5fb58b",
   "metadata": {},
   "source": [
    "<span style='font-weight:bold'>Check feature value distribution</spen>"
   ]
  },
  {
   "cell_type": "code",
   "execution_count": 92,
   "id": "ffe07543-a903-4734-b883-fd267e6e7ff8",
   "metadata": {},
   "outputs": [
    {
     "data": {
      "image/png": "[encoded data removed]",
      "text/plain": [
       "<Figure size 1500x400 with 8 Axes>"
      ]
     },
     "metadata": {},
     "output_type": "display_data"
    }
   ],
   "source": [
    "fig, axes = plt.subplots(2,4, figsize=(15,4))\n",
    "axes = axes.flat\n",
    "\n",
    "for c, ax in zip(df.columns[:-1], axes[:-1]):\n",
    "    sns.countplot(data=df, x=c, ax=ax)\n",
    "\n",
    "sns.boxplot(data=df, x='salary_in_usd', ax=axes[7])\n",
    "\n",
    "plt.tight_layout()\n",
    "plt.suptitle('Value counts in features', size=12, c='blue')\n",
    "plt.show()"
   ]
  },
  {
   "cell_type": "code",
   "execution_count": 93,
   "id": "b70e48ce-42a1-4c33-9f47-cdf95afef471",
   "metadata": {},
   "outputs": [
    {
     "name": "stdout",
     "output_type": "stream",
     "text": [
      "location [8226  522  390   81   67   51   50   46   29   25   20   20   17   16\n",
      "   14   13   12   12   11   11   10   10    9    9    9    9    7    6\n",
      "    6    5    5    4    4    4    4    3    3    3    3    3    3    3\n",
      "    3    2    2    2    2    2    2    2    2    2    2    2    2    2\n",
      "    2    2    2    1    1    1    1    1    1    1    1    1    1    1] \n",
      " job [1790 1774 1354  923  354  306  278  218  206  172  165  140  113  110\n",
      "  106  105  103   94   85   75   63   50   47   45   43   40   36   31\n",
      "   30   27   26   25   24   23   23   23   23   23   23   22   22   20\n",
      "   20   20   20   19   19   18   17   16   16   15   15   14   14   14\n",
      "   13   12   12   12   12   11   11   11   10   10   10   10    9    8\n",
      "    8    8    8    8    8    8    7    7    7    7    6    6    6    5\n",
      "    5    5    5    5    5    4    4    4    4    4    4    4    4    4\n",
      "    4    3    3    3    3    3    3    3    3    3    2    2    2    2\n",
      "    2    2    2    2    2    2    2    2    2    2    2    2    2    2\n",
      "    2    2    1    1    1    1    1    1    1    1    1    1    1    1\n",
      "    1    1    1    1    1    1    1    1    1    1] \n",
      " residence [8190  517  391   75   70   58   52   48   28   26   21   20   17   17\n",
      "   16   13   13   13   12   12   12   11   10   10    9    8    8    7\n",
      "    7    6    5    5    5    4    4    4    4    3    3    3    3    3\n",
      "    3    3    2    2    2    2    2    2    2    2    2    2    2    2\n",
      "    2    2    2    2    1    1    1    1    1    1    1    1    1    1\n",
      "    1    1    1    1    1    1    1    1    1    1]\n"
     ]
    }
   ],
   "source": [
    "print('location',df.company_location.value_counts().values,'\\n',\n",
    "'job',df.job_title.value_counts().values, '\\n',\n",
    "'residence',df.employee_residence.value_counts().values)"
   ]
  },
  {
   "cell_type": "markdown",
   "id": "619e6bc1-b663-4a1e-95aa-66436c9d78b0",
   "metadata": {},
   "source": [
    "<span id='loc' style='font-weight: bold'>Fixing location: low sample size merge, Variation reduction</span>"
   ]
  },
  {
   "cell_type": "code",
   "execution_count": 94,
   "id": "05c6df29-a94c-41f2-a654-516dc1ce8ee4",
   "metadata": {},
   "outputs": [
    {
     "data": {
      "text/plain": [
       "(61, 339, 70)"
      ]
     },
     "execution_count": 94,
     "metadata": {},
     "output_type": "execute_result"
    }
   ],
   "source": [
    "#'location',\n",
    "loc_low = df.company_location.value_counts().loc[df.company_location.value_counts() < 26]\n",
    "loc_low.size,loc_low.sum(),df.company_location.unique().size"
   ]
  },
  {
   "cell_type": "code",
   "execution_count": 95,
   "id": "c57da549-79a6-4aec-883a-cf500d367fa4",
   "metadata": {},
   "outputs": [
    {
     "data": {
      "image/png": "[encoded data removed]",
      "text/plain": [
       "<Figure size 700x300 with 2 Axes>"
      ]
     },
     "metadata": {},
     "output_type": "display_data"
    }
   ],
   "source": [
    "fig, ax = plt.subplots(1,2, figsize=(7,3), sharey=True)\n",
    "df.loc[df.company_location.isin(loc_low.index)].plot(kind='box',ax=ax[0], title='smalls')\n",
    "sns.boxplot(data=df.loc[~df.company_location.isin(loc_low.index)], x='company_location',y='salary_in_usd', ax=ax[1]).set_title('Mass')\n",
    "plt.show()"
   ]
  },
  {
   "cell_type": "code",
   "execution_count": 96,
   "id": "111cc5f4-f30d-4b14-abce-3b91942173a4",
   "metadata": {},
   "outputs": [],
   "source": [
    "df['company_location'] = df.company_location.apply(lambda x: 'other' if x in loc_low.index else x)"
   ]
  },
  {
   "cell_type": "code",
   "execution_count": 97,
   "id": "4f0f9dc0-994b-46c8-8f1a-c2cd3e196902",
   "metadata": {},
   "outputs": [
    {
     "data": {
      "text/plain": [
       "company_location\n",
       "US       8226\n",
       "GB        522\n",
       "CA        390\n",
       "other     339\n",
       "DE         81\n",
       "ES         67\n",
       "AU         51\n",
       "FR         50\n",
       "IN         46\n",
       "NL         29\n",
       "Name: count, dtype: int64"
      ]
     },
     "execution_count": 97,
     "metadata": {},
     "output_type": "execute_result"
    }
   ],
   "source": [
    "df.company_location.value_counts()"
   ]
  },
  {
   "cell_type": "code",
   "execution_count": 98,
   "id": "aa3edaba-139f-43f6-9d3d-dfd301967444",
   "metadata": {},
   "outputs": [
    {
     "data": {
      "text/html": [
       "<div>\n",
       "<style scoped>\n",
       "    .dataframe tbody tr th:only-of-type {\n",
       "        vertical-align: middle;\n",
       "    }\n",
       "\n",
       "    .dataframe tbody tr th {\n",
       "        vertical-align: top;\n",
       "    }\n",
       "\n",
       "    .dataframe thead tr th {\n",
       "        text-align: left;\n",
       "    }\n",
       "\n",
       "    .dataframe thead tr:last-of-type th {\n",
       "        text-align: right;\n",
       "    }\n",
       "</style>\n",
       "<table border=\"1\" class=\"dataframe\">\n",
       "  <thead>\n",
       "    <tr>\n",
       "      <th></th>\n",
       "      <th colspan=\"5\" halign=\"left\">salary_in_usd</th>\n",
       "    </tr>\n",
       "    <tr>\n",
       "      <th></th>\n",
       "      <th>mean</th>\n",
       "      <th>min</th>\n",
       "      <th>max</th>\n",
       "      <th>std</th>\n",
       "      <th>quantile</th>\n",
       "    </tr>\n",
       "    <tr>\n",
       "      <th>company_location</th>\n",
       "      <th></th>\n",
       "      <th></th>\n",
       "      <th></th>\n",
       "      <th></th>\n",
       "      <th></th>\n",
       "    </tr>\n",
       "  </thead>\n",
       "  <tbody>\n",
       "    <tr>\n",
       "      <th>AU</th>\n",
       "      <td>127265.921569</td>\n",
       "      <td>40000</td>\n",
       "      <td>300000</td>\n",
       "      <td>69656.576914</td>\n",
       "      <td>105000.0</td>\n",
       "    </tr>\n",
       "    <tr>\n",
       "      <th>CA</th>\n",
       "      <td>145047.541026</td>\n",
       "      <td>40747</td>\n",
       "      <td>800000</td>\n",
       "      <td>67521.489800</td>\n",
       "      <td>138250.0</td>\n",
       "    </tr>\n",
       "    <tr>\n",
       "      <th>DE</th>\n",
       "      <td>98655.962963</td>\n",
       "      <td>16666</td>\n",
       "      <td>275000</td>\n",
       "      <td>58526.068228</td>\n",
       "      <td>77777.0</td>\n",
       "    </tr>\n",
       "    <tr>\n",
       "      <th>ES</th>\n",
       "      <td>59314.895522</td>\n",
       "      <td>21593</td>\n",
       "      <td>253750</td>\n",
       "      <td>35466.931243</td>\n",
       "      <td>48585.0</td>\n",
       "    </tr>\n",
       "    <tr>\n",
       "      <th>FR</th>\n",
       "      <td>96950.640000</td>\n",
       "      <td>28368</td>\n",
       "      <td>244400</td>\n",
       "      <td>59273.964260</td>\n",
       "      <td>74561.5</td>\n",
       "    </tr>\n",
       "    <tr>\n",
       "      <th>GB</th>\n",
       "      <td>96732.603448</td>\n",
       "      <td>26992</td>\n",
       "      <td>430967</td>\n",
       "      <td>59922.885445</td>\n",
       "      <td>80036.0</td>\n",
       "    </tr>\n",
       "    <tr>\n",
       "      <th>IN</th>\n",
       "      <td>45979.717391</td>\n",
       "      <td>15809</td>\n",
       "      <td>172700</td>\n",
       "      <td>36157.766735</td>\n",
       "      <td>35305.0</td>\n",
       "    </tr>\n",
       "    <tr>\n",
       "      <th>NL</th>\n",
       "      <td>78178.827586</td>\n",
       "      <td>25000</td>\n",
       "      <td>134960</td>\n",
       "      <td>30698.621279</td>\n",
       "      <td>77777.0</td>\n",
       "    </tr>\n",
       "    <tr>\n",
       "      <th>US</th>\n",
       "      <td>156912.304158</td>\n",
       "      <td>20000</td>\n",
       "      <td>750000</td>\n",
       "      <td>69714.431547</td>\n",
       "      <td>147384.0</td>\n",
       "    </tr>\n",
       "    <tr>\n",
       "      <th>other</th>\n",
       "      <td>75029.817109</td>\n",
       "      <td>15000</td>\n",
       "      <td>774000</td>\n",
       "      <td>63961.479799</td>\n",
       "      <td>60000.0</td>\n",
       "    </tr>\n",
       "  </tbody>\n",
       "</table>\n",
       "</div>"
      ],
      "text/plain": [
       "                  salary_in_usd                                       \n",
       "                           mean    min     max           std  quantile\n",
       "company_location                                                      \n",
       "AU                127265.921569  40000  300000  69656.576914  105000.0\n",
       "CA                145047.541026  40747  800000  67521.489800  138250.0\n",
       "DE                 98655.962963  16666  275000  58526.068228   77777.0\n",
       "ES                 59314.895522  21593  253750  35466.931243   48585.0\n",
       "FR                 96950.640000  28368  244400  59273.964260   74561.5\n",
       "GB                 96732.603448  26992  430967  59922.885445   80036.0\n",
       "IN                 45979.717391  15809  172700  36157.766735   35305.0\n",
       "NL                 78178.827586  25000  134960  30698.621279   77777.0\n",
       "US                156912.304158  20000  750000  69714.431547  147384.0\n",
       "other              75029.817109  15000  774000  63961.479799   60000.0"
      ]
     },
     "execution_count": 98,
     "metadata": {},
     "output_type": "execute_result"
    }
   ],
   "source": [
    "loc_agg = df.groupby('company_location').agg({'salary_in_usd': ['mean','min','max','std','quantile']})\n",
    "loc_agg"
   ]
  },
  {
   "cell_type": "code",
   "execution_count": 99,
   "id": "e588bbde-9e47-4c89-84b0-ca0f01cf4b48",
   "metadata": {},
   "outputs": [],
   "source": [
    "locpipe = Pipeline([('scaler', StandardScaler()),\n",
    "               ('kmeans', KMeans(n_clusters=5))], verbose=False)"
   ]
  },
  {
   "cell_type": "code",
   "execution_count": 100,
   "id": "f1de6f0a-2329-45b9-8601-64b41f739c1f",
   "metadata": {},
   "outputs": [],
   "source": [
    "inertia = []\n",
    "for n in range(3,11):\n",
    "    locpipe.set_params(kmeans__n_clusters=n)\n",
    "    locpipe.fit_transform(loc_agg)\n",
    "    inertia.append(locpipe.named_steps['kmeans'].inertia_)"
   ]
  },
  {
   "cell_type": "code",
   "execution_count": 101,
   "id": "0cd5928f-3fac-485e-8dcf-6ade30f3087c",
   "metadata": {},
   "outputs": [
    {
     "data": {
      "image/png": "[encoded data removed]",
      "text/plain": [
       "<Figure size 640x480 with 1 Axes>"
      ]
     },
     "metadata": {},
     "output_type": "display_data"
    }
   ],
   "source": [
    "sns.lineplot(inertia).set_title('WCSS for location');"
   ]
  },
  {
   "cell_type": "code",
   "execution_count": 102,
   "id": "9fb761f4-ddec-4c99-91db-bd6a4e5eb592",
   "metadata": {},
   "outputs": [
    {
     "data": {
      "text/plain": [
       "[14.602927460727926,\n",
       " 9.990278657343339,\n",
       " 6.0593729376929435,\n",
       " 3.40628816772106,\n",
       " 1.8162745123291528,\n",
       " 0.7295052989839842,\n",
       " 0.3090770539015355,\n",
       " 0.0]"
      ]
     },
     "execution_count": 102,
     "metadata": {},
     "output_type": "execute_result"
    }
   ],
   "source": [
    "inertia"
   ]
  },
  {
   "cell_type": "code",
   "execution_count": 103,
   "id": "b7216d6d-0678-4679-b0c3-203861c6a478",
   "metadata": {},
   "outputs": [
    {
     "data": {
      "text/plain": [
       "array([4.6126488 , 3.93090572, 2.65308477, 1.59001366, 1.08676921,\n",
       "       0.42042825, 0.30907705])"
      ]
     },
     "execution_count": 103,
     "metadata": {},
     "output_type": "execute_result"
    }
   ],
   "source": [
    "np.array(inertia[:-1]) - np.array(inertia[1:])"
   ]
  },
  {
   "cell_type": "code",
   "execution_count": 104,
   "id": "dda9834d-f73f-4b99-927a-fea382028300",
   "metadata": {},
   "outputs": [
    {
     "data": {
      "text/plain": [
       "array([[1.15175622e+00, 4.13115235e+00, 3.98697969e+00, 2.28540726e+00,\n",
       "        3.27239959e+00],\n",
       "       [1.15175622e+00, 5.36064325e+00, 4.24064774e+00, 3.57900572e+00,\n",
       "        2.40466882e+00],\n",
       "       [3.43191690e+00, 2.22319183e+00, 2.23105630e+00, 8.51183182e-01,\n",
       "        3.38304646e+00],\n",
       "       [4.57119111e+00, 3.40664272e-01, 3.04038094e+00, 2.20225074e+00,\n",
       "        5.11937771e+00],\n",
       "       [2.64397726e+00, 2.31046179e+00, 2.74897893e+00, 5.80175577e-01,\n",
       "        3.62934805e+00],\n",
       "       [2.38665083e+00, 2.52480434e+00, 2.14125472e+00, 5.78558344e-01,\n",
       "        3.11525937e+00],\n",
       "       [5.33734705e+00, 9.13444389e-01, 3.30183483e+00, 2.75284044e+00,\n",
       "        5.68756119e+00],\n",
       "       [4.16558840e+00, 1.02956744e+00, 3.68795389e+00, 2.20045663e+00,\n",
       "        4.82957531e+00],\n",
       "       [2.63039412e+00, 5.15980413e+00, 3.56637497e+00, 3.31291238e+00,\n",
       "        4.21468485e-08],\n",
       "       [3.95132987e+00, 3.25251654e+00, 0.00000000e+00, 2.28936839e+00,\n",
       "        3.56637497e+00]])"
      ]
     },
     "execution_count": 104,
     "metadata": {},
     "output_type": "execute_result"
    }
   ],
   "source": [
    "locpipe.set_params(kmeans__n_clusters=5)\n",
    "locpipe.fit_transform(loc_agg)"
   ]
  },
  {
   "cell_type": "code",
   "execution_count": 105,
   "id": "c732c0a6-4f93-4713-ba0a-f6328dc57e93",
   "metadata": {},
   "outputs": [
    {
     "data": {
      "text/plain": [
       "6.0593729376929435"
      ]
     },
     "execution_count": 105,
     "metadata": {},
     "output_type": "execute_result"
    }
   ],
   "source": [
    "locpipe.named_steps['kmeans'].inertia_"
   ]
  },
  {
   "cell_type": "code",
   "execution_count": 106,
   "id": "7351f2e6-d1dd-4e77-994f-5432af5eb291",
   "metadata": {},
   "outputs": [
    {
     "data": {
      "text/plain": [
       "array([0, 0, 3, 1, 3, 3, 1, 1, 4, 2], dtype=int32)"
      ]
     },
     "execution_count": 106,
     "metadata": {},
     "output_type": "execute_result"
    }
   ],
   "source": [
    "locpipe.named_steps['kmeans'].labels_"
   ]
  },
  {
   "cell_type": "code",
   "execution_count": 107,
   "id": "286a77dd-d5e8-402d-b69a-05bb5d686773",
   "metadata": {},
   "outputs": [
    {
     "data": {
      "text/html": [
       "<div>\n",
       "<style scoped>\n",
       "    .dataframe tbody tr th:only-of-type {\n",
       "        vertical-align: middle;\n",
       "    }\n",
       "\n",
       "    .dataframe tbody tr th {\n",
       "        vertical-align: top;\n",
       "    }\n",
       "\n",
       "    .dataframe thead tr th {\n",
       "        text-align: left;\n",
       "    }\n",
       "\n",
       "    .dataframe thead tr:last-of-type th {\n",
       "        text-align: right;\n",
       "    }\n",
       "</style>\n",
       "<table border=\"1\" class=\"dataframe\">\n",
       "  <thead>\n",
       "    <tr>\n",
       "      <th></th>\n",
       "      <th colspan=\"5\" halign=\"left\">salary_in_usd</th>\n",
       "      <th>new_cat</th>\n",
       "    </tr>\n",
       "    <tr>\n",
       "      <th></th>\n",
       "      <th>mean</th>\n",
       "      <th>min</th>\n",
       "      <th>max</th>\n",
       "      <th>std</th>\n",
       "      <th>quantile</th>\n",
       "      <th></th>\n",
       "    </tr>\n",
       "    <tr>\n",
       "      <th>company_location</th>\n",
       "      <th></th>\n",
       "      <th></th>\n",
       "      <th></th>\n",
       "      <th></th>\n",
       "      <th></th>\n",
       "      <th></th>\n",
       "    </tr>\n",
       "  </thead>\n",
       "  <tbody>\n",
       "    <tr>\n",
       "      <th>AU</th>\n",
       "      <td>127265.921569</td>\n",
       "      <td>40000</td>\n",
       "      <td>300000</td>\n",
       "      <td>69656.576914</td>\n",
       "      <td>105000.0</td>\n",
       "      <td>0</td>\n",
       "    </tr>\n",
       "    <tr>\n",
       "      <th>CA</th>\n",
       "      <td>145047.541026</td>\n",
       "      <td>40747</td>\n",
       "      <td>800000</td>\n",
       "      <td>67521.489800</td>\n",
       "      <td>138250.0</td>\n",
       "      <td>0</td>\n",
       "    </tr>\n",
       "    <tr>\n",
       "      <th>DE</th>\n",
       "      <td>98655.962963</td>\n",
       "      <td>16666</td>\n",
       "      <td>275000</td>\n",
       "      <td>58526.068228</td>\n",
       "      <td>77777.0</td>\n",
       "      <td>3</td>\n",
       "    </tr>\n",
       "    <tr>\n",
       "      <th>ES</th>\n",
       "      <td>59314.895522</td>\n",
       "      <td>21593</td>\n",
       "      <td>253750</td>\n",
       "      <td>35466.931243</td>\n",
       "      <td>48585.0</td>\n",
       "      <td>1</td>\n",
       "    </tr>\n",
       "    <tr>\n",
       "      <th>FR</th>\n",
       "      <td>96950.640000</td>\n",
       "      <td>28368</td>\n",
       "      <td>244400</td>\n",
       "      <td>59273.964260</td>\n",
       "      <td>74561.5</td>\n",
       "      <td>3</td>\n",
       "    </tr>\n",
       "    <tr>\n",
       "      <th>GB</th>\n",
       "      <td>96732.603448</td>\n",
       "      <td>26992</td>\n",
       "      <td>430967</td>\n",
       "      <td>59922.885445</td>\n",
       "      <td>80036.0</td>\n",
       "      <td>3</td>\n",
       "    </tr>\n",
       "    <tr>\n",
       "      <th>IN</th>\n",
       "      <td>45979.717391</td>\n",
       "      <td>15809</td>\n",
       "      <td>172700</td>\n",
       "      <td>36157.766735</td>\n",
       "      <td>35305.0</td>\n",
       "      <td>1</td>\n",
       "    </tr>\n",
       "    <tr>\n",
       "      <th>NL</th>\n",
       "      <td>78178.827586</td>\n",
       "      <td>25000</td>\n",
       "      <td>134960</td>\n",
       "      <td>30698.621279</td>\n",
       "      <td>77777.0</td>\n",
       "      <td>1</td>\n",
       "    </tr>\n",
       "    <tr>\n",
       "      <th>US</th>\n",
       "      <td>156912.304158</td>\n",
       "      <td>20000</td>\n",
       "      <td>750000</td>\n",
       "      <td>69714.431547</td>\n",
       "      <td>147384.0</td>\n",
       "      <td>4</td>\n",
       "    </tr>\n",
       "    <tr>\n",
       "      <th>other</th>\n",
       "      <td>75029.817109</td>\n",
       "      <td>15000</td>\n",
       "      <td>774000</td>\n",
       "      <td>63961.479799</td>\n",
       "      <td>60000.0</td>\n",
       "      <td>2</td>\n",
       "    </tr>\n",
       "  </tbody>\n",
       "</table>\n",
       "</div>"
      ],
      "text/plain": [
       "                  salary_in_usd                                        new_cat\n",
       "                           mean    min     max           std  quantile        \n",
       "company_location                                                              \n",
       "AU                127265.921569  40000  300000  69656.576914  105000.0       0\n",
       "CA                145047.541026  40747  800000  67521.489800  138250.0       0\n",
       "DE                 98655.962963  16666  275000  58526.068228   77777.0       3\n",
       "ES                 59314.895522  21593  253750  35466.931243   48585.0       1\n",
       "FR                 96950.640000  28368  244400  59273.964260   74561.5       3\n",
       "GB                 96732.603448  26992  430967  59922.885445   80036.0       3\n",
       "IN                 45979.717391  15809  172700  36157.766735   35305.0       1\n",
       "NL                 78178.827586  25000  134960  30698.621279   77777.0       1\n",
       "US                156912.304158  20000  750000  69714.431547  147384.0       4\n",
       "other              75029.817109  15000  774000  63961.479799   60000.0       2"
      ]
     },
     "execution_count": 107,
     "metadata": {},
     "output_type": "execute_result"
    }
   ],
   "source": [
    "loc_agg['new_cat'] = locpipe.named_steps['kmeans'].labels_\n",
    "loc_agg"
   ]
  },
  {
   "cell_type": "code",
   "execution_count": 108,
   "id": "de1fe6fa-ae97-4ea0-b9d8-e10331b28471",
   "metadata": {},
   "outputs": [
    {
     "data": {
      "text/plain": [
       "new_cat\n",
       "0        [AU, CA]\n",
       "1    [ES, IN, NL]\n",
       "2         [other]\n",
       "3    [DE, FR, GB]\n",
       "4            [US]\n",
       "Name: company_location, dtype: object"
      ]
     },
     "execution_count": 108,
     "metadata": {},
     "output_type": "execute_result"
    }
   ],
   "source": [
    "loc_agg.reset_index().groupby('new_cat')['company_location'].apply(list)"
   ]
  },
  {
   "cell_type": "code",
   "execution_count": 109,
   "id": "909f2b2d-3bf9-4807-ba8d-d16972c75feb",
   "metadata": {},
   "outputs": [],
   "source": [
    "filter = {k:v for k,v in zip(loc_agg.index, loc_agg.new_cat)}"
   ]
  },
  {
   "cell_type": "code",
   "execution_count": 110,
   "id": "7352b069-bf0d-429b-8018-a53146f87e22",
   "metadata": {},
   "outputs": [
    {
     "data": {
      "text/plain": [
       "{'AU': 0,\n",
       " 'CA': 0,\n",
       " 'DE': 3,\n",
       " 'ES': 1,\n",
       " 'FR': 3,\n",
       " 'GB': 3,\n",
       " 'IN': 1,\n",
       " 'NL': 1,\n",
       " 'US': 4,\n",
       " 'other': 2}"
      ]
     },
     "execution_count": 110,
     "metadata": {},
     "output_type": "execute_result"
    }
   ],
   "source": [
    "filter"
   ]
  },
  {
   "cell_type": "code",
   "execution_count": 111,
   "id": "01aaeab6-0c47-4896-9f48-f1c0adc52280",
   "metadata": {},
   "outputs": [],
   "source": [
    "df.company_location = df.company_location.map(filter)"
   ]
  },
  {
   "cell_type": "code",
   "execution_count": 112,
   "id": "86f39c6f-b986-43e3-8ab7-8b572b01cd52",
   "metadata": {},
   "outputs": [
    {
     "data": {
      "image/png": "[encoded data removed]",
      "text/plain": [
       "<Figure size 640x480 with 1 Axes>"
      ]
     },
     "metadata": {},
     "output_type": "display_data"
    }
   ],
   "source": [
    "sns.boxplot(df, x='company_location', y='salary_in_usd').set_title('Salary by merged locations');"
   ]
  },
  {
   "cell_type": "code",
   "execution_count": 113,
   "id": "7ee5ef6e-85b3-4785-951e-101f0fb901dd",
   "metadata": {},
   "outputs": [],
   "source": [
    "#df.to_csv('temp_loc.csv', index=False)"
   ]
  },
  {
   "cell_type": "markdown",
   "id": "8f509d25-b3ad-4dca-82e9-6d8b3680a9e5",
   "metadata": {},
   "source": [
    "<span id='job' style='font-weight:bold'>Job title</span>"
   ]
  },
  {
   "cell_type": "code",
   "execution_count": 6,
   "id": "c9320470-fa6e-4306-9459-dded49329487",
   "metadata": {},
   "outputs": [
    {
     "data": {
      "text/html": [
       "<div>\n",
       "<style scoped>\n",
       "    .dataframe tbody tr th:only-of-type {\n",
       "        vertical-align: middle;\n",
       "    }\n",
       "\n",
       "    .dataframe tbody tr th {\n",
       "        vertical-align: top;\n",
       "    }\n",
       "\n",
       "    .dataframe thead th {\n",
       "        text-align: right;\n",
       "    }\n",
       "</style>\n",
       "<table border=\"1\" class=\"dataframe\">\n",
       "  <thead>\n",
       "    <tr style=\"text-align: right;\">\n",
       "      <th></th>\n",
       "      <th>experience_level</th>\n",
       "      <th>employment_type</th>\n",
       "      <th>job_title</th>\n",
       "      <th>employee_residence</th>\n",
       "      <th>remote_ratio</th>\n",
       "      <th>company_location</th>\n",
       "      <th>company_size</th>\n",
       "      <th>salary_in_usd</th>\n",
       "    </tr>\n",
       "  </thead>\n",
       "  <tbody>\n",
       "    <tr>\n",
       "      <th>0</th>\n",
       "      <td>MI</td>\n",
       "      <td>FT</td>\n",
       "      <td>Data Scientist</td>\n",
       "      <td>AU</td>\n",
       "      <td>0</td>\n",
       "      <td>0</td>\n",
       "      <td>S</td>\n",
       "      <td>120000</td>\n",
       "    </tr>\n",
       "    <tr>\n",
       "      <th>1</th>\n",
       "      <td>MI</td>\n",
       "      <td>FT</td>\n",
       "      <td>Data Scientist</td>\n",
       "      <td>AU</td>\n",
       "      <td>0</td>\n",
       "      <td>0</td>\n",
       "      <td>S</td>\n",
       "      <td>70000</td>\n",
       "    </tr>\n",
       "    <tr>\n",
       "      <th>2</th>\n",
       "      <td>MI</td>\n",
       "      <td>CT</td>\n",
       "      <td>Data Scientist</td>\n",
       "      <td>US</td>\n",
       "      <td>0</td>\n",
       "      <td>4</td>\n",
       "      <td>M</td>\n",
       "      <td>130000</td>\n",
       "    </tr>\n",
       "  </tbody>\n",
       "</table>\n",
       "</div>"
      ],
      "text/plain": [
       "  experience_level employment_type       job_title employee_residence  \\\n",
       "0               MI              FT  Data Scientist                 AU   \n",
       "1               MI              FT  Data Scientist                 AU   \n",
       "2               MI              CT  Data Scientist                 US   \n",
       "\n",
       "   remote_ratio  company_location company_size  salary_in_usd  \n",
       "0             0                 0            S         120000  \n",
       "1             0                 0            S          70000  \n",
       "2             0                 4            M         130000  "
      ]
     },
     "execution_count": 6,
     "metadata": {},
     "output_type": "execute_result"
    }
   ],
   "source": [
    "#df = pd.read_csv('temp_loc.csv')\n",
    "df[:3]"
   ]
  },
  {
   "cell_type": "code",
   "execution_count": 7,
   "id": "25bb1486-5990-4503-a5e3-7bffa0c890ac",
   "metadata": {},
   "outputs": [
    {
     "data": {
      "text/plain": [
       "(61, 129, 150)"
      ]
     },
     "execution_count": 7,
     "metadata": {},
     "output_type": "execute_result"
    }
   ],
   "source": [
    "job_low = df.job_title.value_counts().loc[df.job_title.value_counts() < 5]\n",
    "job_low.size,job_low.sum(),df.job_title.unique().size"
   ]
  },
  {
   "cell_type": "code",
   "execution_count": 116,
   "id": "2173689a-b7dd-4202-a45e-774d45fac615",
   "metadata": {},
   "outputs": [
    {
     "data": {
      "image/png": "[encoded data removed]",
      "text/plain": [
       "<Figure size 700x300 with 2 Axes>"
      ]
     },
     "metadata": {},
     "output_type": "display_data"
    }
   ],
   "source": [
    "fig, ax = plt.subplots(1,2, figsize=(7,3), sharey=True)\n",
    "df.loc[df.job_title.isin(job_low.index), 'salary_in_usd'].plot(kind='box',ax=ax[0], title='smalls')\n",
    "sns.boxplot(data=df.loc[~df.job_title.isin(job_low.index)], x='job_title',y='salary_in_usd', ax=ax[1]).set_title('Mass')\n",
    "plt.show()"
   ]
  },
  {
   "cell_type": "code",
   "execution_count": 9,
   "id": "3685943b-44d8-4465-bfeb-9bd4edce3109",
   "metadata": {},
   "outputs": [],
   "source": [
    "df['job_title'] = df.job_title.apply(lambda x: 'other' if x in job_low.index else x)"
   ]
  },
  {
   "cell_type": "code",
   "execution_count": 10,
   "id": "c9924275-78e6-4362-9e17-7d91dccf6432",
   "metadata": {},
   "outputs": [
    {
     "data": {
      "text/plain": [
       "job_title\n",
       "Data Engineer                     1790\n",
       "Data Scientist                    1774\n",
       "Data Analyst                      1354\n",
       "Machine Learning Engineer          923\n",
       "Analytics Engineer                 354\n",
       "                                  ... \n",
       "Data Quality Engineer                5\n",
       "Lead Machine Learning Engineer       5\n",
       "Data Science Director                5\n",
       "Big Data Engineer                    5\n",
       "Product Data Analyst                 5\n",
       "Name: count, Length: 90, dtype: int64"
      ]
     },
     "execution_count": 10,
     "metadata": {},
     "output_type": "execute_result"
    }
   ],
   "source": [
    "df.job_title.value_counts()"
   ]
  },
  {
   "cell_type": "code",
   "execution_count": 119,
   "id": "5fa0d419-bbdf-4f0d-a4e1-d5d415484ba1",
   "metadata": {},
   "outputs": [
    {
     "data": {
      "text/html": [
       "<div>\n",
       "<style scoped>\n",
       "    .dataframe tbody tr th:only-of-type {\n",
       "        vertical-align: middle;\n",
       "    }\n",
       "\n",
       "    .dataframe tbody tr th {\n",
       "        vertical-align: top;\n",
       "    }\n",
       "\n",
       "    .dataframe thead tr th {\n",
       "        text-align: left;\n",
       "    }\n",
       "\n",
       "    .dataframe thead tr:last-of-type th {\n",
       "        text-align: right;\n",
       "    }\n",
       "</style>\n",
       "<table border=\"1\" class=\"dataframe\">\n",
       "  <thead>\n",
       "    <tr>\n",
       "      <th></th>\n",
       "      <th colspan=\"5\" halign=\"left\">salary_in_usd</th>\n",
       "    </tr>\n",
       "    <tr>\n",
       "      <th></th>\n",
       "      <th>mean</th>\n",
       "      <th>min</th>\n",
       "      <th>max</th>\n",
       "      <th>std</th>\n",
       "      <th>quantile</th>\n",
       "    </tr>\n",
       "    <tr>\n",
       "      <th>job_title</th>\n",
       "      <th></th>\n",
       "      <th></th>\n",
       "      <th></th>\n",
       "      <th></th>\n",
       "      <th></th>\n",
       "    </tr>\n",
       "  </thead>\n",
       "  <tbody>\n",
       "    <tr>\n",
       "      <th>AI Architect</th>\n",
       "      <td>248782.000000</td>\n",
       "      <td>99750</td>\n",
       "      <td>800000</td>\n",
       "      <td>144166.785127</td>\n",
       "      <td>204000.0</td>\n",
       "    </tr>\n",
       "    <tr>\n",
       "      <th>AI Developer</th>\n",
       "      <td>135466.789474</td>\n",
       "      <td>33333</td>\n",
       "      <td>275000</td>\n",
       "      <td>75070.869938</td>\n",
       "      <td>124000.0</td>\n",
       "    </tr>\n",
       "    <tr>\n",
       "      <th>AI Engineer</th>\n",
       "      <td>165578.766990</td>\n",
       "      <td>21593</td>\n",
       "      <td>400000</td>\n",
       "      <td>82043.929331</td>\n",
       "      <td>166000.0</td>\n",
       "    </tr>\n",
       "    <tr>\n",
       "      <th>AI Programmer</th>\n",
       "      <td>62042.000000</td>\n",
       "      <td>30000</td>\n",
       "      <td>120000</td>\n",
       "      <td>30466.643153</td>\n",
       "      <td>60207.0</td>\n",
       "    </tr>\n",
       "    <tr>\n",
       "      <th>AI Research Engineer</th>\n",
       "      <td>82963.000000</td>\n",
       "      <td>24322</td>\n",
       "      <td>200000</td>\n",
       "      <td>67704.744573</td>\n",
       "      <td>63333.0</td>\n",
       "    </tr>\n",
       "    <tr>\n",
       "      <th>...</th>\n",
       "      <td>...</td>\n",
       "      <td>...</td>\n",
       "      <td>...</td>\n",
       "      <td>...</td>\n",
       "      <td>...</td>\n",
       "    </tr>\n",
       "    <tr>\n",
       "      <th>Research Engineer</th>\n",
       "      <td>181941.697248</td>\n",
       "      <td>16455</td>\n",
       "      <td>720000</td>\n",
       "      <td>95903.426151</td>\n",
       "      <td>165500.0</td>\n",
       "    </tr>\n",
       "    <tr>\n",
       "      <th>Research Scientist</th>\n",
       "      <td>190691.094771</td>\n",
       "      <td>23000</td>\n",
       "      <td>720000</td>\n",
       "      <td>85135.730888</td>\n",
       "      <td>175000.0</td>\n",
       "    </tr>\n",
       "    <tr>\n",
       "      <th>Robotics Engineer</th>\n",
       "      <td>140416.666667</td>\n",
       "      <td>65000</td>\n",
       "      <td>240000</td>\n",
       "      <td>53798.374990</td>\n",
       "      <td>151000.0</td>\n",
       "    </tr>\n",
       "    <tr>\n",
       "      <th>Robotics Software Engineer</th>\n",
       "      <td>196625.000000</td>\n",
       "      <td>138000</td>\n",
       "      <td>282000</td>\n",
       "      <td>47016.524451</td>\n",
       "      <td>193000.0</td>\n",
       "    </tr>\n",
       "    <tr>\n",
       "      <th>other</th>\n",
       "      <td>119274.945736</td>\n",
       "      <td>18000</td>\n",
       "      <td>399880</td>\n",
       "      <td>67984.280876</td>\n",
       "      <td>105267.0</td>\n",
       "    </tr>\n",
       "  </tbody>\n",
       "</table>\n",
       "<p>90 rows × 5 columns</p>\n",
       "</div>"
      ],
      "text/plain": [
       "                            salary_in_usd                                 \\\n",
       "                                     mean     min     max            std   \n",
       "job_title                                                                  \n",
       "AI Architect                248782.000000   99750  800000  144166.785127   \n",
       "AI Developer                135466.789474   33333  275000   75070.869938   \n",
       "AI Engineer                 165578.766990   21593  400000   82043.929331   \n",
       "AI Programmer                62042.000000   30000  120000   30466.643153   \n",
       "AI Research Engineer         82963.000000   24322  200000   67704.744573   \n",
       "...                                   ...     ...     ...            ...   \n",
       "Research Engineer           181941.697248   16455  720000   95903.426151   \n",
       "Research Scientist          190691.094771   23000  720000   85135.730888   \n",
       "Robotics Engineer           140416.666667   65000  240000   53798.374990   \n",
       "Robotics Software Engineer  196625.000000  138000  282000   47016.524451   \n",
       "other                       119274.945736   18000  399880   67984.280876   \n",
       "\n",
       "                                      \n",
       "                            quantile  \n",
       "job_title                             \n",
       "AI Architect                204000.0  \n",
       "AI Developer                124000.0  \n",
       "AI Engineer                 166000.0  \n",
       "AI Programmer                60207.0  \n",
       "AI Research Engineer         63333.0  \n",
       "...                              ...  \n",
       "Research Engineer           165500.0  \n",
       "Research Scientist          175000.0  \n",
       "Robotics Engineer           151000.0  \n",
       "Robotics Software Engineer  193000.0  \n",
       "other                       105267.0  \n",
       "\n",
       "[90 rows x 5 columns]"
      ]
     },
     "execution_count": 119,
     "metadata": {},
     "output_type": "execute_result"
    }
   ],
   "source": [
    "job_agg = df.groupby('job_title').agg({'salary_in_usd': ['mean','min','max','std','quantile']})\n",
    "job_agg"
   ]
  },
  {
   "cell_type": "code",
   "execution_count": 120,
   "id": "108d009d-c6b6-4ae4-909d-d6e91d342692",
   "metadata": {},
   "outputs": [],
   "source": [
    "jobpipe = Pipeline([('scaler', StandardScaler()),\n",
    "               ('kmeans', KMeans(n_clusters=5))], verbose=False)"
   ]
  },
  {
   "cell_type": "code",
   "execution_count": 121,
   "id": "6065841f-2dd4-4c7f-afe8-1a7b161cde63",
   "metadata": {},
   "outputs": [],
   "source": [
    "inertia = []\n",
    "for n in range(3,20):\n",
    "    jobpipe.set_params(kmeans__n_clusters=n)\n",
    "    jobpipe.fit_transform(job_agg)\n",
    "    inertia.append(jobpipe.named_steps['kmeans'].inertia_)"
   ]
  },
  {
   "cell_type": "code",
   "execution_count": 122,
   "id": "6d874bfc-c9a6-48b5-9159-f926b925f4b5",
   "metadata": {},
   "outputs": [
    {
     "data": {
      "image/png": "[encoded data removed]",
      "text/plain": [
       "<Figure size 640x480 with 1 Axes>"
      ]
     },
     "metadata": {},
     "output_type": "display_data"
    }
   ],
   "source": [
    "sns.lineplot(inertia).set_title('WCSS for jobtitle');"
   ]
  },
  {
   "cell_type": "code",
   "execution_count": 123,
   "id": "dff2b618-bf75-4fe8-ac9e-2484b641e54a",
   "metadata": {},
   "outputs": [
    {
     "data": {
      "text/plain": [
       "[196.1413354624569,\n",
       " 158.59791864649318,\n",
       " 128.9722561139035,\n",
       " 109.77139736305958,\n",
       " 92.296626014977,\n",
       " 83.84742422003497,\n",
       " 76.01210249694056,\n",
       " 69.87346896676625,\n",
       " 64.86666614022829,\n",
       " 61.56890210358098,\n",
       " 55.12422905629144,\n",
       " 51.10175002946694,\n",
       " 48.20252880451444,\n",
       " 44.49274136198107,\n",
       " 41.29814791226801,\n",
       " 39.29887700190514,\n",
       " 36.17720094922289]"
      ]
     },
     "execution_count": 123,
     "metadata": {},
     "output_type": "execute_result"
    }
   ],
   "source": [
    "list(inertia)"
   ]
  },
  {
   "cell_type": "code",
   "execution_count": 124,
   "id": "bbb857fd-2312-48c4-88e0-4007110a9a63",
   "metadata": {},
   "outputs": [
    {
     "data": {
      "text/plain": [
       "array([37.54341682, 29.62566253, 19.20085875, 17.47477135,  8.44920179,\n",
       "        7.83532172,  6.13863353,  5.00680283,  3.29776404,  6.44467305,\n",
       "        4.02247903,  2.89922122,  3.70978744,  3.19459345,  1.99927091,\n",
       "        3.12167605])"
      ]
     },
     "execution_count": 124,
     "metadata": {},
     "output_type": "execute_result"
    }
   ],
   "source": [
    "np.array(inertia[:-1]) - np.array(inertia[1:])"
   ]
  },
  {
   "cell_type": "code",
   "execution_count": null,
   "id": "9f2069b1-7d00-4896-a213-62e2215ebabb",
   "metadata": {},
   "outputs": [],
   "source": [
    "jobpipe.set_params(kmeans__n_clusters=10)\n",
    "jobpipe.fit_transform(job_agg)"
   ]
  },
  {
   "cell_type": "code",
   "execution_count": 126,
   "id": "8b207f8e-c2a8-4fd4-aca0-13af595d9d51",
   "metadata": {},
   "outputs": [
    {
     "data": {
      "text/plain": [
       "70.22904273718676"
      ]
     },
     "execution_count": 126,
     "metadata": {},
     "output_type": "execute_result"
    }
   ],
   "source": [
    "jobpipe.named_steps['kmeans'].inertia_"
   ]
  },
  {
   "cell_type": "code",
   "execution_count": 127,
   "id": "1bdd0050-3da9-4b44-b80b-1af10c431285",
   "metadata": {},
   "outputs": [
    {
     "data": {
      "text/plain": [
       "array([8, 0, 3, 4, 5, 0, 6, 1, 0, 5, 3, 5, 4, 5, 5, 5, 2, 5, 5, 0, 6, 2,\n",
       "       2, 2, 3, 9, 4, 3, 0, 4, 3, 4, 9, 6, 2, 5, 3, 4, 2, 5, 2, 4, 4, 2,\n",
       "       5, 2, 0, 4, 0, 5, 3, 5, 6, 2, 2, 3, 2, 9, 5, 2, 5, 6, 3, 3, 2, 4,\n",
       "       3, 3, 7, 4, 5, 4, 3, 0, 5, 1, 2, 2, 2, 1, 3, 0, 5, 1, 5, 1, 1, 2,\n",
       "       6, 0], dtype=int32)"
      ]
     },
     "execution_count": 127,
     "metadata": {},
     "output_type": "execute_result"
    }
   ],
   "source": [
    "jobpipe.named_steps['kmeans'].labels_"
   ]
  },
  {
   "cell_type": "code",
   "execution_count": 128,
   "id": "bdc9a661-8ee1-42a9-aa0c-06b029dce285",
   "metadata": {},
   "outputs": [
    {
     "data": {
      "text/html": [
       "<div>\n",
       "<style scoped>\n",
       "    .dataframe tbody tr th:only-of-type {\n",
       "        vertical-align: middle;\n",
       "    }\n",
       "\n",
       "    .dataframe tbody tr th {\n",
       "        vertical-align: top;\n",
       "    }\n",
       "\n",
       "    .dataframe thead tr th {\n",
       "        text-align: left;\n",
       "    }\n",
       "\n",
       "    .dataframe thead tr:last-of-type th {\n",
       "        text-align: right;\n",
       "    }\n",
       "</style>\n",
       "<table border=\"1\" class=\"dataframe\">\n",
       "  <thead>\n",
       "    <tr>\n",
       "      <th></th>\n",
       "      <th colspan=\"5\" halign=\"left\">salary_in_usd</th>\n",
       "      <th>new_cat</th>\n",
       "    </tr>\n",
       "    <tr>\n",
       "      <th></th>\n",
       "      <th>mean</th>\n",
       "      <th>min</th>\n",
       "      <th>max</th>\n",
       "      <th>std</th>\n",
       "      <th>quantile</th>\n",
       "      <th></th>\n",
       "    </tr>\n",
       "    <tr>\n",
       "      <th>job_title</th>\n",
       "      <th></th>\n",
       "      <th></th>\n",
       "      <th></th>\n",
       "      <th></th>\n",
       "      <th></th>\n",
       "      <th></th>\n",
       "    </tr>\n",
       "  </thead>\n",
       "  <tbody>\n",
       "    <tr>\n",
       "      <th>AI Architect</th>\n",
       "      <td>248782.000000</td>\n",
       "      <td>99750</td>\n",
       "      <td>800000</td>\n",
       "      <td>144166.785127</td>\n",
       "      <td>204000.0</td>\n",
       "      <td>8</td>\n",
       "    </tr>\n",
       "    <tr>\n",
       "      <th>AI Developer</th>\n",
       "      <td>135466.789474</td>\n",
       "      <td>33333</td>\n",
       "      <td>275000</td>\n",
       "      <td>75070.869938</td>\n",
       "      <td>124000.0</td>\n",
       "      <td>0</td>\n",
       "    </tr>\n",
       "    <tr>\n",
       "      <th>AI Engineer</th>\n",
       "      <td>165578.766990</td>\n",
       "      <td>21593</td>\n",
       "      <td>400000</td>\n",
       "      <td>82043.929331</td>\n",
       "      <td>166000.0</td>\n",
       "      <td>3</td>\n",
       "    </tr>\n",
       "    <tr>\n",
       "      <th>AI Programmer</th>\n",
       "      <td>62042.000000</td>\n",
       "      <td>30000</td>\n",
       "      <td>120000</td>\n",
       "      <td>30466.643153</td>\n",
       "      <td>60207.0</td>\n",
       "      <td>4</td>\n",
       "    </tr>\n",
       "    <tr>\n",
       "      <th>AI Research Engineer</th>\n",
       "      <td>82963.000000</td>\n",
       "      <td>24322</td>\n",
       "      <td>200000</td>\n",
       "      <td>67704.744573</td>\n",
       "      <td>63333.0</td>\n",
       "      <td>5</td>\n",
       "    </tr>\n",
       "    <tr>\n",
       "      <th>...</th>\n",
       "      <td>...</td>\n",
       "      <td>...</td>\n",
       "      <td>...</td>\n",
       "      <td>...</td>\n",
       "      <td>...</td>\n",
       "      <td>...</td>\n",
       "    </tr>\n",
       "    <tr>\n",
       "      <th>Research Engineer</th>\n",
       "      <td>181941.697248</td>\n",
       "      <td>16455</td>\n",
       "      <td>720000</td>\n",
       "      <td>95903.426151</td>\n",
       "      <td>165500.0</td>\n",
       "      <td>1</td>\n",
       "    </tr>\n",
       "    <tr>\n",
       "      <th>Research Scientist</th>\n",
       "      <td>190691.094771</td>\n",
       "      <td>23000</td>\n",
       "      <td>720000</td>\n",
       "      <td>85135.730888</td>\n",
       "      <td>175000.0</td>\n",
       "      <td>1</td>\n",
       "    </tr>\n",
       "    <tr>\n",
       "      <th>Robotics Engineer</th>\n",
       "      <td>140416.666667</td>\n",
       "      <td>65000</td>\n",
       "      <td>240000</td>\n",
       "      <td>53798.374990</td>\n",
       "      <td>151000.0</td>\n",
       "      <td>2</td>\n",
       "    </tr>\n",
       "    <tr>\n",
       "      <th>Robotics Software Engineer</th>\n",
       "      <td>196625.000000</td>\n",
       "      <td>138000</td>\n",
       "      <td>282000</td>\n",
       "      <td>47016.524451</td>\n",
       "      <td>193000.0</td>\n",
       "      <td>6</td>\n",
       "    </tr>\n",
       "    <tr>\n",
       "      <th>other</th>\n",
       "      <td>119274.945736</td>\n",
       "      <td>18000</td>\n",
       "      <td>399880</td>\n",
       "      <td>67984.280876</td>\n",
       "      <td>105267.0</td>\n",
       "      <td>0</td>\n",
       "    </tr>\n",
       "  </tbody>\n",
       "</table>\n",
       "<p>90 rows × 6 columns</p>\n",
       "</div>"
      ],
      "text/plain": [
       "                            salary_in_usd                                 \\\n",
       "                                     mean     min     max            std   \n",
       "job_title                                                                  \n",
       "AI Architect                248782.000000   99750  800000  144166.785127   \n",
       "AI Developer                135466.789474   33333  275000   75070.869938   \n",
       "AI Engineer                 165578.766990   21593  400000   82043.929331   \n",
       "AI Programmer                62042.000000   30000  120000   30466.643153   \n",
       "AI Research Engineer         82963.000000   24322  200000   67704.744573   \n",
       "...                                   ...     ...     ...            ...   \n",
       "Research Engineer           181941.697248   16455  720000   95903.426151   \n",
       "Research Scientist          190691.094771   23000  720000   85135.730888   \n",
       "Robotics Engineer           140416.666667   65000  240000   53798.374990   \n",
       "Robotics Software Engineer  196625.000000  138000  282000   47016.524451   \n",
       "other                       119274.945736   18000  399880   67984.280876   \n",
       "\n",
       "                                     new_cat  \n",
       "                            quantile          \n",
       "job_title                                     \n",
       "AI Architect                204000.0       8  \n",
       "AI Developer                124000.0       0  \n",
       "AI Engineer                 166000.0       3  \n",
       "AI Programmer                60207.0       4  \n",
       "AI Research Engineer         63333.0       5  \n",
       "...                              ...     ...  \n",
       "Research Engineer           165500.0       1  \n",
       "Research Scientist          175000.0       1  \n",
       "Robotics Engineer           151000.0       2  \n",
       "Robotics Software Engineer  193000.0       6  \n",
       "other                       105267.0       0  \n",
       "\n",
       "[90 rows x 6 columns]"
      ]
     },
     "execution_count": 128,
     "metadata": {},
     "output_type": "execute_result"
    }
   ],
   "source": [
    "job_agg['new_cat'] = jobpipe.named_steps['kmeans'].labels_\n",
    "job_agg"
   ]
  },
  {
   "cell_type": "code",
   "execution_count": 129,
   "id": "7411cef3-ad42-4496-9039-2e0645473c10",
   "metadata": {},
   "outputs": [],
   "source": [
    "filter = {k:v for k,v in zip(job_agg.index, job_agg.new_cat)}"
   ]
  },
  {
   "cell_type": "code",
   "execution_count": 130,
   "id": "3aa1f695-ecdf-4849-830c-a0d15f0a5a70",
   "metadata": {},
   "outputs": [],
   "source": [
    "df.job_title = df.job_title.map(filter)"
   ]
  },
  {
   "cell_type": "code",
   "execution_count": 131,
   "id": "de685d65-b215-420a-9f2a-bc2e70e8b0b7",
   "metadata": {},
   "outputs": [
    {
     "data": {
      "image/png": "[encoded data removed]",
      "text/plain": [
       "<Figure size 640x480 with 1 Axes>"
      ]
     },
     "metadata": {},
     "output_type": "display_data"
    }
   ],
   "source": [
    "sns.boxplot(df, x='job_title', y='salary_in_usd').set_title('Salary by merged jobtitle');"
   ]
  },
  {
   "cell_type": "code",
   "execution_count": 132,
   "id": "0a2c288e-5c2a-4bd3-b431-f3a05dda5c02",
   "metadata": {},
   "outputs": [],
   "source": [
    "#df.to_csv('temp_job.csv', index=False)"
   ]
  },
  {
   "cell_type": "markdown",
   "id": "e8ad2577-ed7e-4f09-9fa3-761fbcc491a5",
   "metadata": {},
   "source": [
    "<span id='res' style='font-weight: bold'>fixing employee residence</span>"
   ]
  },
  {
   "cell_type": "code",
   "execution_count": 134,
   "id": "61edbff8-308f-4d97-ad64-c8d2d362e576",
   "metadata": {},
   "outputs": [
    {
     "name": "stdout",
     "output_type": "stream",
     "text": [
      "(9801, 8)\n"
     ]
    },
    {
     "data": {
      "text/html": [
       "<div>\n",
       "<style scoped>\n",
       "    .dataframe tbody tr th:only-of-type {\n",
       "        vertical-align: middle;\n",
       "    }\n",
       "\n",
       "    .dataframe tbody tr th {\n",
       "        vertical-align: top;\n",
       "    }\n",
       "\n",
       "    .dataframe thead th {\n",
       "        text-align: right;\n",
       "    }\n",
       "</style>\n",
       "<table border=\"1\" class=\"dataframe\">\n",
       "  <thead>\n",
       "    <tr style=\"text-align: right;\">\n",
       "      <th></th>\n",
       "      <th>experience_level</th>\n",
       "      <th>employment_type</th>\n",
       "      <th>job_title</th>\n",
       "      <th>employee_residence</th>\n",
       "      <th>remote_ratio</th>\n",
       "      <th>company_location</th>\n",
       "      <th>company_size</th>\n",
       "      <th>salary_in_usd</th>\n",
       "    </tr>\n",
       "  </thead>\n",
       "  <tbody>\n",
       "    <tr>\n",
       "      <th>0</th>\n",
       "      <td>MI</td>\n",
       "      <td>FT</td>\n",
       "      <td>9</td>\n",
       "      <td>AU</td>\n",
       "      <td>0</td>\n",
       "      <td>0</td>\n",
       "      <td>S</td>\n",
       "      <td>120000</td>\n",
       "    </tr>\n",
       "    <tr>\n",
       "      <th>1</th>\n",
       "      <td>MI</td>\n",
       "      <td>FT</td>\n",
       "      <td>9</td>\n",
       "      <td>AU</td>\n",
       "      <td>0</td>\n",
       "      <td>0</td>\n",
       "      <td>S</td>\n",
       "      <td>70000</td>\n",
       "    </tr>\n",
       "    <tr>\n",
       "      <th>2</th>\n",
       "      <td>MI</td>\n",
       "      <td>CT</td>\n",
       "      <td>9</td>\n",
       "      <td>US</td>\n",
       "      <td>0</td>\n",
       "      <td>4</td>\n",
       "      <td>M</td>\n",
       "      <td>130000</td>\n",
       "    </tr>\n",
       "  </tbody>\n",
       "</table>\n",
       "</div>"
      ],
      "text/plain": [
       "  experience_level employment_type  job_title employee_residence  \\\n",
       "0               MI              FT          9                 AU   \n",
       "1               MI              FT          9                 AU   \n",
       "2               MI              CT          9                 US   \n",
       "\n",
       "   remote_ratio  company_location company_size  salary_in_usd  \n",
       "0             0                 0            S         120000  \n",
       "1             0                 0            S          70000  \n",
       "2             0                 4            M         130000  "
      ]
     },
     "execution_count": 134,
     "metadata": {},
     "output_type": "execute_result"
    }
   ],
   "source": [
    "#df = pd.read_csv('temp_job.csv')\n",
    "print(df.shape)\n",
    "df[:3]"
   ]
  },
  {
   "cell_type": "code",
   "execution_count": 135,
   "id": "2b9d1a1c-fdf1-41df-88f6-5d0057a92f2a",
   "metadata": {},
   "outputs": [
    {
     "data": {
      "text/plain": [
       "array([8190,  517,  391,   75,   70,   58,   52,   48,   28,   26,   21,\n",
       "         20,   17,   17,   16,   13,   13,   13,   12,   12,   12,   11,\n",
       "         10,   10,    9,    8,    8,    7,    7,    6,    5,    5,    5,\n",
       "          4,    4,    4,    4,    3,    3,    3,    3,    3,    3,    3,\n",
       "          2,    2,    2,    2,    2,    2,    2,    2,    2,    2,    2,\n",
       "          2,    2,    2,    2,    2,    1,    1,    1,    1,    1,    1,\n",
       "          1,    1,    1,    1,    1,    1,    1,    1,    1,    1,    1,\n",
       "          1,    1,    1])"
      ]
     },
     "execution_count": 135,
     "metadata": {},
     "output_type": "execute_result"
    }
   ],
   "source": [
    "df.employee_residence.value_counts().values"
   ]
  },
  {
   "cell_type": "code",
   "execution_count": 136,
   "id": "5a4fb052-2228-47e9-9334-092972455f26",
   "metadata": {},
   "outputs": [
    {
     "data": {
      "text/plain": [
       "(58, 169, 80)"
      ]
     },
     "execution_count": 136,
     "metadata": {},
     "output_type": "execute_result"
    }
   ],
   "source": [
    "res_low = df.employee_residence.value_counts().loc[df.employee_residence.value_counts() < 11]\n",
    "res_low.size,res_low.sum(),df.employee_residence.unique().size"
   ]
  },
  {
   "cell_type": "code",
   "execution_count": 137,
   "id": "9047b5b0-47db-47fc-9b13-771b163a8ea3",
   "metadata": {},
   "outputs": [
    {
     "data": {
      "image/png": "[encoded data removed]",
      "text/plain": [
       "<Figure size 700x300 with 2 Axes>"
      ]
     },
     "metadata": {},
     "output_type": "display_data"
    }
   ],
   "source": [
    "fig, ax = plt.subplots(1,2, figsize=(7,3), sharey=True)\n",
    "df.loc[df.employee_residence.isin(res_low.index), 'salary_in_usd'].plot(kind='box',ax=ax[0], title='smalls')\n",
    "sns.boxplot(data=df.loc[~df.employee_residence.isin(res_low.index)], x='employee_residence',y='salary_in_usd', ax=ax[1]).set_title('Mass')\n",
    "plt.show()"
   ]
  },
  {
   "cell_type": "code",
   "execution_count": 138,
   "id": "2632cca8-c006-4092-9035-2b0caf126a56",
   "metadata": {},
   "outputs": [
    {
     "data": {
      "text/plain": [
       "employee_residence\n",
       "US       8190\n",
       "GB        517\n",
       "CA        391\n",
       "other     169\n",
       "DE         75\n",
       "ES         70\n",
       "IN         58\n",
       "FR         52\n",
       "AU         48\n",
       "NL         28\n",
       "PT         26\n",
       "BR         21\n",
       "LT         20\n",
       "IT         17\n",
       "ZA         17\n",
       "LV         16\n",
       "AR         13\n",
       "MX         13\n",
       "CO         13\n",
       "PL         12\n",
       "EG         12\n",
       "IE         12\n",
       "UA         11\n",
       "Name: count, dtype: int64"
      ]
     },
     "execution_count": 138,
     "metadata": {},
     "output_type": "execute_result"
    }
   ],
   "source": [
    "df['employee_residence'] = df.employee_residence.apply(lambda x: 'other' if x in res_low.index else x)\n",
    "df.employee_residence.value_counts()"
   ]
  },
  {
   "cell_type": "code",
   "execution_count": 139,
   "id": "797f5753-d77e-4d99-a42d-8da8f4b71135",
   "metadata": {},
   "outputs": [
    {
     "data": {
      "text/html": [
       "<div>\n",
       "<style scoped>\n",
       "    .dataframe tbody tr th:only-of-type {\n",
       "        vertical-align: middle;\n",
       "    }\n",
       "\n",
       "    .dataframe tbody tr th {\n",
       "        vertical-align: top;\n",
       "    }\n",
       "\n",
       "    .dataframe thead tr th {\n",
       "        text-align: left;\n",
       "    }\n",
       "\n",
       "    .dataframe thead tr:last-of-type th {\n",
       "        text-align: right;\n",
       "    }\n",
       "</style>\n",
       "<table border=\"1\" class=\"dataframe\">\n",
       "  <thead>\n",
       "    <tr>\n",
       "      <th></th>\n",
       "      <th colspan=\"5\" halign=\"left\">salary_in_usd</th>\n",
       "    </tr>\n",
       "    <tr>\n",
       "      <th></th>\n",
       "      <th>mean</th>\n",
       "      <th>min</th>\n",
       "      <th>max</th>\n",
       "      <th>std</th>\n",
       "      <th>quantile</th>\n",
       "    </tr>\n",
       "    <tr>\n",
       "      <th>employee_residence</th>\n",
       "      <th></th>\n",
       "      <th></th>\n",
       "      <th></th>\n",
       "      <th></th>\n",
       "      <th></th>\n",
       "    </tr>\n",
       "  </thead>\n",
       "  <tbody>\n",
       "    <tr>\n",
       "      <th>AR</th>\n",
       "      <td>58461.538462</td>\n",
       "      <td>30000</td>\n",
       "      <td>92000</td>\n",
       "      <td>19526.116633</td>\n",
       "      <td>60000.0</td>\n",
       "    </tr>\n",
       "    <tr>\n",
       "      <th>AU</th>\n",
       "      <td>129733.270833</td>\n",
       "      <td>40000</td>\n",
       "      <td>300000</td>\n",
       "      <td>69510.162748</td>\n",
       "      <td>105600.0</td>\n",
       "    </tr>\n",
       "    <tr>\n",
       "      <th>BR</th>\n",
       "      <td>60122.476190</td>\n",
       "      <td>19910</td>\n",
       "      <td>115000</td>\n",
       "      <td>27477.643850</td>\n",
       "      <td>54000.0</td>\n",
       "    </tr>\n",
       "    <tr>\n",
       "      <th>CA</th>\n",
       "      <td>145165.107417</td>\n",
       "      <td>40747</td>\n",
       "      <td>800000</td>\n",
       "      <td>67246.985956</td>\n",
       "      <td>138000.0</td>\n",
       "    </tr>\n",
       "    <tr>\n",
       "      <th>CO</th>\n",
       "      <td>78846.153846</td>\n",
       "      <td>48000</td>\n",
       "      <td>131000</td>\n",
       "      <td>24942.754973</td>\n",
       "      <td>72000.0</td>\n",
       "    </tr>\n",
       "    <tr>\n",
       "      <th>DE</th>\n",
       "      <td>104474.453333</td>\n",
       "      <td>16666</td>\n",
       "      <td>275000</td>\n",
       "      <td>58230.655620</td>\n",
       "      <td>86374.0</td>\n",
       "    </tr>\n",
       "    <tr>\n",
       "      <th>EG</th>\n",
       "      <td>133000.000000</td>\n",
       "      <td>22800</td>\n",
       "      <td>242000</td>\n",
       "      <td>71884.098634</td>\n",
       "      <td>99750.0</td>\n",
       "    </tr>\n",
       "    <tr>\n",
       "      <th>ES</th>\n",
       "      <td>61843.228571</td>\n",
       "      <td>21593</td>\n",
       "      <td>253750</td>\n",
       "      <td>38467.093711</td>\n",
       "      <td>51128.0</td>\n",
       "    </tr>\n",
       "    <tr>\n",
       "      <th>FR</th>\n",
       "      <td>99192.673077</td>\n",
       "      <td>28368</td>\n",
       "      <td>323905</td>\n",
       "      <td>66419.247836</td>\n",
       "      <td>74561.5</td>\n",
       "    </tr>\n",
       "    <tr>\n",
       "      <th>GB</th>\n",
       "      <td>97094.887814</td>\n",
       "      <td>28299</td>\n",
       "      <td>430967</td>\n",
       "      <td>60060.821768</td>\n",
       "      <td>80041.0</td>\n",
       "    </tr>\n",
       "    <tr>\n",
       "      <th>IE</th>\n",
       "      <td>104694.916667</td>\n",
       "      <td>68293</td>\n",
       "      <td>172309</td>\n",
       "      <td>33896.783252</td>\n",
       "      <td>98585.5</td>\n",
       "    </tr>\n",
       "    <tr>\n",
       "      <th>IN</th>\n",
       "      <td>49823.689655</td>\n",
       "      <td>15809</td>\n",
       "      <td>200000</td>\n",
       "      <td>38878.171236</td>\n",
       "      <td>37318.5</td>\n",
       "    </tr>\n",
       "    <tr>\n",
       "      <th>IT</th>\n",
       "      <td>53283.588235</td>\n",
       "      <td>24165</td>\n",
       "      <td>97712</td>\n",
       "      <td>20180.757097</td>\n",
       "      <td>53984.0</td>\n",
       "    </tr>\n",
       "    <tr>\n",
       "      <th>LT</th>\n",
       "      <td>61942.350000</td>\n",
       "      <td>28666</td>\n",
       "      <td>125333</td>\n",
       "      <td>29630.996479</td>\n",
       "      <td>51999.5</td>\n",
       "    </tr>\n",
       "    <tr>\n",
       "      <th>LV</th>\n",
       "      <td>57059.687500</td>\n",
       "      <td>34666</td>\n",
       "      <td>86666</td>\n",
       "      <td>20160.276207</td>\n",
       "      <td>46799.5</td>\n",
       "    </tr>\n",
       "    <tr>\n",
       "      <th>MX</th>\n",
       "      <td>141930.615385</td>\n",
       "      <td>17598</td>\n",
       "      <td>774000</td>\n",
       "      <td>202322.425232</td>\n",
       "      <td>72000.0</td>\n",
       "    </tr>\n",
       "    <tr>\n",
       "      <th>NL</th>\n",
       "      <td>78516.357143</td>\n",
       "      <td>32390</td>\n",
       "      <td>134960</td>\n",
       "      <td>29664.804546</td>\n",
       "      <td>76677.0</td>\n",
       "    </tr>\n",
       "    <tr>\n",
       "      <th>PL</th>\n",
       "      <td>81870.333333</td>\n",
       "      <td>18160</td>\n",
       "      <td>209000</td>\n",
       "      <td>55776.004923</td>\n",
       "      <td>65723.5</td>\n",
       "    </tr>\n",
       "    <tr>\n",
       "      <th>PT</th>\n",
       "      <td>54918.576923</td>\n",
       "      <td>21013</td>\n",
       "      <td>150000</td>\n",
       "      <td>29958.700758</td>\n",
       "      <td>45886.0</td>\n",
       "    </tr>\n",
       "    <tr>\n",
       "      <th>UA</th>\n",
       "      <td>98272.727273</td>\n",
       "      <td>25000</td>\n",
       "      <td>240000</td>\n",
       "      <td>71246.180121</td>\n",
       "      <td>60000.0</td>\n",
       "    </tr>\n",
       "    <tr>\n",
       "      <th>US</th>\n",
       "      <td>157203.860440</td>\n",
       "      <td>24000</td>\n",
       "      <td>750000</td>\n",
       "      <td>69592.858923</td>\n",
       "      <td>147500.0</td>\n",
       "    </tr>\n",
       "    <tr>\n",
       "      <th>ZA</th>\n",
       "      <td>52430.058824</td>\n",
       "      <td>32177</td>\n",
       "      <td>124935</td>\n",
       "      <td>22845.678438</td>\n",
       "      <td>42457.0</td>\n",
       "    </tr>\n",
       "    <tr>\n",
       "      <th>other</th>\n",
       "      <td>74933.142012</td>\n",
       "      <td>15000</td>\n",
       "      <td>417937</td>\n",
       "      <td>58406.827709</td>\n",
       "      <td>56536.0</td>\n",
       "    </tr>\n",
       "  </tbody>\n",
       "</table>\n",
       "</div>"
      ],
      "text/plain": [
       "                    salary_in_usd                                        \n",
       "                             mean    min     max            std  quantile\n",
       "employee_residence                                                       \n",
       "AR                   58461.538462  30000   92000   19526.116633   60000.0\n",
       "AU                  129733.270833  40000  300000   69510.162748  105600.0\n",
       "BR                   60122.476190  19910  115000   27477.643850   54000.0\n",
       "CA                  145165.107417  40747  800000   67246.985956  138000.0\n",
       "CO                   78846.153846  48000  131000   24942.754973   72000.0\n",
       "DE                  104474.453333  16666  275000   58230.655620   86374.0\n",
       "EG                  133000.000000  22800  242000   71884.098634   99750.0\n",
       "ES                   61843.228571  21593  253750   38467.093711   51128.0\n",
       "FR                   99192.673077  28368  323905   66419.247836   74561.5\n",
       "GB                   97094.887814  28299  430967   60060.821768   80041.0\n",
       "IE                  104694.916667  68293  172309   33896.783252   98585.5\n",
       "IN                   49823.689655  15809  200000   38878.171236   37318.5\n",
       "IT                   53283.588235  24165   97712   20180.757097   53984.0\n",
       "LT                   61942.350000  28666  125333   29630.996479   51999.5\n",
       "LV                   57059.687500  34666   86666   20160.276207   46799.5\n",
       "MX                  141930.615385  17598  774000  202322.425232   72000.0\n",
       "NL                   78516.357143  32390  134960   29664.804546   76677.0\n",
       "PL                   81870.333333  18160  209000   55776.004923   65723.5\n",
       "PT                   54918.576923  21013  150000   29958.700758   45886.0\n",
       "UA                   98272.727273  25000  240000   71246.180121   60000.0\n",
       "US                  157203.860440  24000  750000   69592.858923  147500.0\n",
       "ZA                   52430.058824  32177  124935   22845.678438   42457.0\n",
       "other                74933.142012  15000  417937   58406.827709   56536.0"
      ]
     },
     "execution_count": 139,
     "metadata": {},
     "output_type": "execute_result"
    }
   ],
   "source": [
    "res_agg = df.groupby('employee_residence').agg({'salary_in_usd': ['mean','min','max','std','quantile']})\n",
    "res_agg"
   ]
  },
  {
   "cell_type": "code",
   "execution_count": 140,
   "id": "1c01c384-15a6-469b-99bc-9d415744123a",
   "metadata": {},
   "outputs": [],
   "source": [
    "respipe = Pipeline([('scaler', StandardScaler()),\n",
    "               ('kmeans', KMeans(n_clusters=5))], verbose=False)"
   ]
  },
  {
   "cell_type": "code",
   "execution_count": 141,
   "id": "4b067f83-1f3a-44d7-a234-7449471ed680",
   "metadata": {},
   "outputs": [],
   "source": [
    "inertia = []\n",
    "for n in range(3,10):\n",
    "    respipe.set_params(kmeans__n_clusters=n)\n",
    "    respipe.fit_transform(res_agg)\n",
    "    inertia.append(respipe.named_steps['kmeans'].inertia_)"
   ]
  },
  {
   "cell_type": "code",
   "execution_count": 142,
   "id": "f6f8d423-b577-488b-89b9-2a147ee9987e",
   "metadata": {},
   "outputs": [
    {
     "data": {
      "image/png": "[encoded data removed]",
      "text/plain": [
       "<Figure size 600x300 with 1 Axes>"
      ]
     },
     "metadata": {},
     "output_type": "display_data"
    }
   ],
   "source": [
    "sns.set_theme(rc={'figure.figsize':(6,3)})\n",
    "sns.lineplot(inertia).set_title('WCSS for residence grouping');"
   ]
  },
  {
   "cell_type": "code",
   "execution_count": 143,
   "id": "0e0c20f3-d2d1-4561-a9b4-fea8e26ba50d",
   "metadata": {},
   "outputs": [
    {
     "name": "stdout",
     "output_type": "stream",
     "text": [
      "[46.632990444294585, 31.970147836208454, 18.66637042078363, 13.556804615955217, 10.634607748964623, 8.716402769593612, 7.127021019411606]\n"
     ]
    }
   ],
   "source": [
    "print(inertia)"
   ]
  },
  {
   "cell_type": "code",
   "execution_count": 144,
   "id": "e6c5088d-53e3-4fdb-94fb-34df5323fc76",
   "metadata": {},
   "outputs": [
    {
     "data": {
      "text/plain": [
       "array([-14.66284261, -13.30377742,  -5.1095658 ,  -2.92219687,\n",
       "        -1.91820498,  -1.58938175])"
      ]
     },
     "execution_count": 144,
     "metadata": {},
     "output_type": "execute_result"
    }
   ],
   "source": [
    "np.array(inertia[1:]) - np.array(inertia[:-1])"
   ]
  },
  {
   "cell_type": "code",
   "execution_count": 145,
   "id": "c2ac4c75-2464-44ad-bca3-d76541803c75",
   "metadata": {},
   "outputs": [
    {
     "data": {
      "text/plain": [
       "10.634607748964624"
      ]
     },
     "execution_count": 145,
     "metadata": {},
     "output_type": "execute_result"
    }
   ],
   "source": [
    "respipe.set_params(kmeans__n_clusters=7)\n",
    "respipe.fit_transform(res_agg)\n",
    "respipe.named_steps['kmeans'].inertia_"
   ]
  },
  {
   "cell_type": "code",
   "execution_count": 146,
   "id": "39eb10da-7430-4883-acda-201b1ccbe5e3",
   "metadata": {},
   "outputs": [
    {
     "data": {
      "text/plain": [
       "array([2, 3, 2, 1, 6, 0, 3, 2, 0, 0, 5, 2, 2, 2, 2, 4, 6, 0, 2, 0, 1, 2,\n",
       "       0], dtype=int32)"
      ]
     },
     "execution_count": 146,
     "metadata": {},
     "output_type": "execute_result"
    }
   ],
   "source": [
    "respipe.named_steps['kmeans'].labels_"
   ]
  },
  {
   "cell_type": "code",
   "execution_count": 147,
   "id": "cfc88ae0-58f4-4414-a7fe-71c8de26968a",
   "metadata": {},
   "outputs": [
    {
     "data": {
      "text/html": [
       "<div>\n",
       "<style scoped>\n",
       "    .dataframe tbody tr th:only-of-type {\n",
       "        vertical-align: middle;\n",
       "    }\n",
       "\n",
       "    .dataframe tbody tr th {\n",
       "        vertical-align: top;\n",
       "    }\n",
       "\n",
       "    .dataframe thead tr th {\n",
       "        text-align: left;\n",
       "    }\n",
       "\n",
       "    .dataframe thead tr:last-of-type th {\n",
       "        text-align: right;\n",
       "    }\n",
       "</style>\n",
       "<table border=\"1\" class=\"dataframe\">\n",
       "  <thead>\n",
       "    <tr>\n",
       "      <th></th>\n",
       "      <th colspan=\"5\" halign=\"left\">salary_in_usd</th>\n",
       "      <th>new_cat</th>\n",
       "    </tr>\n",
       "    <tr>\n",
       "      <th></th>\n",
       "      <th>mean</th>\n",
       "      <th>min</th>\n",
       "      <th>max</th>\n",
       "      <th>std</th>\n",
       "      <th>quantile</th>\n",
       "      <th></th>\n",
       "    </tr>\n",
       "    <tr>\n",
       "      <th>employee_residence</th>\n",
       "      <th></th>\n",
       "      <th></th>\n",
       "      <th></th>\n",
       "      <th></th>\n",
       "      <th></th>\n",
       "      <th></th>\n",
       "    </tr>\n",
       "  </thead>\n",
       "  <tbody>\n",
       "    <tr>\n",
       "      <th>AR</th>\n",
       "      <td>58461.538462</td>\n",
       "      <td>30000</td>\n",
       "      <td>92000</td>\n",
       "      <td>19526.116633</td>\n",
       "      <td>60000.0</td>\n",
       "      <td>2</td>\n",
       "    </tr>\n",
       "    <tr>\n",
       "      <th>AU</th>\n",
       "      <td>129733.270833</td>\n",
       "      <td>40000</td>\n",
       "      <td>300000</td>\n",
       "      <td>69510.162748</td>\n",
       "      <td>105600.0</td>\n",
       "      <td>3</td>\n",
       "    </tr>\n",
       "    <tr>\n",
       "      <th>BR</th>\n",
       "      <td>60122.476190</td>\n",
       "      <td>19910</td>\n",
       "      <td>115000</td>\n",
       "      <td>27477.643850</td>\n",
       "      <td>54000.0</td>\n",
       "      <td>2</td>\n",
       "    </tr>\n",
       "    <tr>\n",
       "      <th>CA</th>\n",
       "      <td>145165.107417</td>\n",
       "      <td>40747</td>\n",
       "      <td>800000</td>\n",
       "      <td>67246.985956</td>\n",
       "      <td>138000.0</td>\n",
       "      <td>1</td>\n",
       "    </tr>\n",
       "    <tr>\n",
       "      <th>CO</th>\n",
       "      <td>78846.153846</td>\n",
       "      <td>48000</td>\n",
       "      <td>131000</td>\n",
       "      <td>24942.754973</td>\n",
       "      <td>72000.0</td>\n",
       "      <td>6</td>\n",
       "    </tr>\n",
       "    <tr>\n",
       "      <th>DE</th>\n",
       "      <td>104474.453333</td>\n",
       "      <td>16666</td>\n",
       "      <td>275000</td>\n",
       "      <td>58230.655620</td>\n",
       "      <td>86374.0</td>\n",
       "      <td>0</td>\n",
       "    </tr>\n",
       "    <tr>\n",
       "      <th>EG</th>\n",
       "      <td>133000.000000</td>\n",
       "      <td>22800</td>\n",
       "      <td>242000</td>\n",
       "      <td>71884.098634</td>\n",
       "      <td>99750.0</td>\n",
       "      <td>3</td>\n",
       "    </tr>\n",
       "    <tr>\n",
       "      <th>ES</th>\n",
       "      <td>61843.228571</td>\n",
       "      <td>21593</td>\n",
       "      <td>253750</td>\n",
       "      <td>38467.093711</td>\n",
       "      <td>51128.0</td>\n",
       "      <td>2</td>\n",
       "    </tr>\n",
       "    <tr>\n",
       "      <th>FR</th>\n",
       "      <td>99192.673077</td>\n",
       "      <td>28368</td>\n",
       "      <td>323905</td>\n",
       "      <td>66419.247836</td>\n",
       "      <td>74561.5</td>\n",
       "      <td>0</td>\n",
       "    </tr>\n",
       "    <tr>\n",
       "      <th>GB</th>\n",
       "      <td>97094.887814</td>\n",
       "      <td>28299</td>\n",
       "      <td>430967</td>\n",
       "      <td>60060.821768</td>\n",
       "      <td>80041.0</td>\n",
       "      <td>0</td>\n",
       "    </tr>\n",
       "    <tr>\n",
       "      <th>IE</th>\n",
       "      <td>104694.916667</td>\n",
       "      <td>68293</td>\n",
       "      <td>172309</td>\n",
       "      <td>33896.783252</td>\n",
       "      <td>98585.5</td>\n",
       "      <td>5</td>\n",
       "    </tr>\n",
       "    <tr>\n",
       "      <th>IN</th>\n",
       "      <td>49823.689655</td>\n",
       "      <td>15809</td>\n",
       "      <td>200000</td>\n",
       "      <td>38878.171236</td>\n",
       "      <td>37318.5</td>\n",
       "      <td>2</td>\n",
       "    </tr>\n",
       "    <tr>\n",
       "      <th>IT</th>\n",
       "      <td>53283.588235</td>\n",
       "      <td>24165</td>\n",
       "      <td>97712</td>\n",
       "      <td>20180.757097</td>\n",
       "      <td>53984.0</td>\n",
       "      <td>2</td>\n",
       "    </tr>\n",
       "    <tr>\n",
       "      <th>LT</th>\n",
       "      <td>61942.350000</td>\n",
       "      <td>28666</td>\n",
       "      <td>125333</td>\n",
       "      <td>29630.996479</td>\n",
       "      <td>51999.5</td>\n",
       "      <td>2</td>\n",
       "    </tr>\n",
       "    <tr>\n",
       "      <th>LV</th>\n",
       "      <td>57059.687500</td>\n",
       "      <td>34666</td>\n",
       "      <td>86666</td>\n",
       "      <td>20160.276207</td>\n",
       "      <td>46799.5</td>\n",
       "      <td>2</td>\n",
       "    </tr>\n",
       "    <tr>\n",
       "      <th>MX</th>\n",
       "      <td>141930.615385</td>\n",
       "      <td>17598</td>\n",
       "      <td>774000</td>\n",
       "      <td>202322.425232</td>\n",
       "      <td>72000.0</td>\n",
       "      <td>4</td>\n",
       "    </tr>\n",
       "    <tr>\n",
       "      <th>NL</th>\n",
       "      <td>78516.357143</td>\n",
       "      <td>32390</td>\n",
       "      <td>134960</td>\n",
       "      <td>29664.804546</td>\n",
       "      <td>76677.0</td>\n",
       "      <td>6</td>\n",
       "    </tr>\n",
       "    <tr>\n",
       "      <th>PL</th>\n",
       "      <td>81870.333333</td>\n",
       "      <td>18160</td>\n",
       "      <td>209000</td>\n",
       "      <td>55776.004923</td>\n",
       "      <td>65723.5</td>\n",
       "      <td>0</td>\n",
       "    </tr>\n",
       "    <tr>\n",
       "      <th>PT</th>\n",
       "      <td>54918.576923</td>\n",
       "      <td>21013</td>\n",
       "      <td>150000</td>\n",
       "      <td>29958.700758</td>\n",
       "      <td>45886.0</td>\n",
       "      <td>2</td>\n",
       "    </tr>\n",
       "    <tr>\n",
       "      <th>UA</th>\n",
       "      <td>98272.727273</td>\n",
       "      <td>25000</td>\n",
       "      <td>240000</td>\n",
       "      <td>71246.180121</td>\n",
       "      <td>60000.0</td>\n",
       "      <td>0</td>\n",
       "    </tr>\n",
       "    <tr>\n",
       "      <th>US</th>\n",
       "      <td>157203.860440</td>\n",
       "      <td>24000</td>\n",
       "      <td>750000</td>\n",
       "      <td>69592.858923</td>\n",
       "      <td>147500.0</td>\n",
       "      <td>1</td>\n",
       "    </tr>\n",
       "    <tr>\n",
       "      <th>ZA</th>\n",
       "      <td>52430.058824</td>\n",
       "      <td>32177</td>\n",
       "      <td>124935</td>\n",
       "      <td>22845.678438</td>\n",
       "      <td>42457.0</td>\n",
       "      <td>2</td>\n",
       "    </tr>\n",
       "    <tr>\n",
       "      <th>other</th>\n",
       "      <td>74933.142012</td>\n",
       "      <td>15000</td>\n",
       "      <td>417937</td>\n",
       "      <td>58406.827709</td>\n",
       "      <td>56536.0</td>\n",
       "      <td>0</td>\n",
       "    </tr>\n",
       "  </tbody>\n",
       "</table>\n",
       "</div>"
      ],
      "text/plain": [
       "                    salary_in_usd                                          \\\n",
       "                             mean    min     max            std  quantile   \n",
       "employee_residence                                                          \n",
       "AR                   58461.538462  30000   92000   19526.116633   60000.0   \n",
       "AU                  129733.270833  40000  300000   69510.162748  105600.0   \n",
       "BR                   60122.476190  19910  115000   27477.643850   54000.0   \n",
       "CA                  145165.107417  40747  800000   67246.985956  138000.0   \n",
       "CO                   78846.153846  48000  131000   24942.754973   72000.0   \n",
       "DE                  104474.453333  16666  275000   58230.655620   86374.0   \n",
       "EG                  133000.000000  22800  242000   71884.098634   99750.0   \n",
       "ES                   61843.228571  21593  253750   38467.093711   51128.0   \n",
       "FR                   99192.673077  28368  323905   66419.247836   74561.5   \n",
       "GB                   97094.887814  28299  430967   60060.821768   80041.0   \n",
       "IE                  104694.916667  68293  172309   33896.783252   98585.5   \n",
       "IN                   49823.689655  15809  200000   38878.171236   37318.5   \n",
       "IT                   53283.588235  24165   97712   20180.757097   53984.0   \n",
       "LT                   61942.350000  28666  125333   29630.996479   51999.5   \n",
       "LV                   57059.687500  34666   86666   20160.276207   46799.5   \n",
       "MX                  141930.615385  17598  774000  202322.425232   72000.0   \n",
       "NL                   78516.357143  32390  134960   29664.804546   76677.0   \n",
       "PL                   81870.333333  18160  209000   55776.004923   65723.5   \n",
       "PT                   54918.576923  21013  150000   29958.700758   45886.0   \n",
       "UA                   98272.727273  25000  240000   71246.180121   60000.0   \n",
       "US                  157203.860440  24000  750000   69592.858923  147500.0   \n",
       "ZA                   52430.058824  32177  124935   22845.678438   42457.0   \n",
       "other                74933.142012  15000  417937   58406.827709   56536.0   \n",
       "\n",
       "                   new_cat  \n",
       "                            \n",
       "employee_residence          \n",
       "AR                       2  \n",
       "AU                       3  \n",
       "BR                       2  \n",
       "CA                       1  \n",
       "CO                       6  \n",
       "DE                       0  \n",
       "EG                       3  \n",
       "ES                       2  \n",
       "FR                       0  \n",
       "GB                       0  \n",
       "IE                       5  \n",
       "IN                       2  \n",
       "IT                       2  \n",
       "LT                       2  \n",
       "LV                       2  \n",
       "MX                       4  \n",
       "NL                       6  \n",
       "PL                       0  \n",
       "PT                       2  \n",
       "UA                       0  \n",
       "US                       1  \n",
       "ZA                       2  \n",
       "other                    0  "
      ]
     },
     "execution_count": 147,
     "metadata": {},
     "output_type": "execute_result"
    }
   ],
   "source": [
    "res_agg['new_cat']= respipe.named_steps['kmeans'].labels_\n",
    "res_agg"
   ]
  },
  {
   "cell_type": "code",
   "execution_count": 148,
   "id": "2eee0fe9-a3d9-4717-812b-d8b5066ea745",
   "metadata": {},
   "outputs": [
    {
     "data": {
      "text/plain": [
       "new_cat\n",
       "0             [DE, FR, GB, PL, UA, other]\n",
       "1                                [CA, US]\n",
       "2    [AR, BR, ES, IN, IT, LT, LV, PT, ZA]\n",
       "3                                [AU, EG]\n",
       "4                                    [MX]\n",
       "5                                    [IE]\n",
       "6                                [CO, NL]\n",
       "Name: employee_residence, dtype: object"
      ]
     },
     "execution_count": 148,
     "metadata": {},
     "output_type": "execute_result"
    }
   ],
   "source": [
    "res_agg.reset_index().groupby('new_cat')['employee_residence'].apply(list)"
   ]
  },
  {
   "cell_type": "code",
   "execution_count": 149,
   "id": "d488015d-3a43-48e1-bfe6-8c35cc685901",
   "metadata": {},
   "outputs": [],
   "source": [
    "filter = {k:v for k,v in zip(res_agg.index,res_agg.new_cat)}"
   ]
  },
  {
   "cell_type": "code",
   "execution_count": 150,
   "id": "70c5802a-7b1d-45ef-97a0-fbd5cdfb6cad",
   "metadata": {},
   "outputs": [
    {
     "data": {
      "text/plain": [
       "employee_residence\n",
       "1    8581\n",
       "0     836\n",
       "2     258\n",
       "3      60\n",
       "6      41\n",
       "4      13\n",
       "5      12\n",
       "Name: count, dtype: int64"
      ]
     },
     "execution_count": 150,
     "metadata": {},
     "output_type": "execute_result"
    }
   ],
   "source": [
    "df.employee_residence = df.employee_residence.map(filter)\n",
    "df.employee_residence.value_counts()"
   ]
  },
  {
   "cell_type": "code",
   "execution_count": 151,
   "id": "dfe86a7a-ed40-4d91-a6e2-f775b5501649",
   "metadata": {},
   "outputs": [
    {
     "data": {
      "image/png": "[encoded data removed]",
      "text/plain": [
       "<Figure size 600x300 with 1 Axes>"
      ]
     },
     "metadata": {},
     "output_type": "display_data"
    }
   ],
   "source": [
    "sns.boxplot(df, x='employee_residence', y='salary_in_usd').set_title('Salary by new residence categories');"
   ]
  },
  {
   "cell_type": "code",
   "execution_count": 152,
   "id": "aa24e2d4-2287-451e-9d7e-763973e6366c",
   "metadata": {},
   "outputs": [
    {
     "data": {
      "text/plain": [
       "(9801, 8)"
      ]
     },
     "execution_count": 152,
     "metadata": {},
     "output_type": "execute_result"
    }
   ],
   "source": [
    "#df.to_csv('temp_res.csv', index=False)\n",
    "df.shape"
   ]
  },
  {
   "cell_type": "markdown",
   "id": "c70203b4-50e2-48a2-a15c-22b0da400247",
   "metadata": {},
   "source": [
    "<span id='emp' style='font-weight:bold'>employee_type</span>"
   ]
  },
  {
   "cell_type": "code",
   "execution_count": 2,
   "id": "46e5ba44-e63e-4414-a00f-82d46300334a",
   "metadata": {},
   "outputs": [
    {
     "data": {
      "text/html": [
       "<div>\n",
       "<style scoped>\n",
       "    .dataframe tbody tr th:only-of-type {\n",
       "        vertical-align: middle;\n",
       "    }\n",
       "\n",
       "    .dataframe tbody tr th {\n",
       "        vertical-align: top;\n",
       "    }\n",
       "\n",
       "    .dataframe thead th {\n",
       "        text-align: right;\n",
       "    }\n",
       "</style>\n",
       "<table border=\"1\" class=\"dataframe\">\n",
       "  <thead>\n",
       "    <tr style=\"text-align: right;\">\n",
       "      <th></th>\n",
       "      <th>experience_level</th>\n",
       "      <th>employment_type</th>\n",
       "      <th>job_title</th>\n",
       "      <th>employee_residence</th>\n",
       "      <th>remote_ratio</th>\n",
       "      <th>company_location</th>\n",
       "      <th>company_size</th>\n",
       "      <th>salary_in_usd</th>\n",
       "    </tr>\n",
       "  </thead>\n",
       "  <tbody>\n",
       "    <tr>\n",
       "      <th>0</th>\n",
       "      <td>MI</td>\n",
       "      <td>FT</td>\n",
       "      <td>9</td>\n",
       "      <td>3</td>\n",
       "      <td>0</td>\n",
       "      <td>0</td>\n",
       "      <td>S</td>\n",
       "      <td>120000</td>\n",
       "    </tr>\n",
       "    <tr>\n",
       "      <th>1</th>\n",
       "      <td>MI</td>\n",
       "      <td>FT</td>\n",
       "      <td>9</td>\n",
       "      <td>3</td>\n",
       "      <td>0</td>\n",
       "      <td>0</td>\n",
       "      <td>S</td>\n",
       "      <td>70000</td>\n",
       "    </tr>\n",
       "    <tr>\n",
       "      <th>2</th>\n",
       "      <td>MI</td>\n",
       "      <td>CT</td>\n",
       "      <td>9</td>\n",
       "      <td>1</td>\n",
       "      <td>0</td>\n",
       "      <td>4</td>\n",
       "      <td>M</td>\n",
       "      <td>130000</td>\n",
       "    </tr>\n",
       "  </tbody>\n",
       "</table>\n",
       "</div>"
      ],
      "text/plain": [
       "  experience_level employment_type  job_title  employee_residence  \\\n",
       "0               MI              FT          9                   3   \n",
       "1               MI              FT          9                   3   \n",
       "2               MI              CT          9                   1   \n",
       "\n",
       "   remote_ratio  company_location company_size  salary_in_usd  \n",
       "0             0                 0            S         120000  \n",
       "1             0                 0            S          70000  \n",
       "2             0                 4            M         130000  "
      ]
     },
     "execution_count": 2,
     "metadata": {},
     "output_type": "execute_result"
    }
   ],
   "source": [
    "df = pd.read_csv('temp_res.csv')\n",
    "df.head(3)"
   ]
  },
  {
   "cell_type": "code",
   "execution_count": 4,
   "id": "cee732f7-1eb4-486a-8053-8275081b5f86",
   "metadata": {},
   "outputs": [
    {
     "data": {
      "image/png": "[encoded data removed]",
      "text/plain": [
       "<Figure size 1500x300 with 3 Axes>"
      ]
     },
     "metadata": {},
     "output_type": "display_data"
    }
   ],
   "source": [
    "fig, axes = plt.subplots(1,3, figsize=(15,3))\n",
    "axes = axes.flat\n",
    "\n",
    "for c, ax in zip(df.select_dtypes('object').columns, axes):\n",
    "    sns.countplot(data=df, x=c, ax=ax)\n",
    "\n",
    "plt.tight_layout()\n",
    "plt.suptitle('Value counts in features', size=12, c='blue')\n",
    "plt.show()"
   ]
  },
  {
   "cell_type": "code",
   "execution_count": 5,
   "id": "126c274e-2a29-48a7-94cf-cd56573029f4",
   "metadata": {},
   "outputs": [
    {
     "data": {
      "text/plain": [
       "employment_type\n",
       "FT    9737\n",
       "PT      32\n",
       "CT      22\n",
       "FL      10\n",
       "Name: count, dtype: int64"
      ]
     },
     "execution_count": 5,
     "metadata": {},
     "output_type": "execute_result"
    }
   ],
   "source": [
    "df.employment_type.value_counts()"
   ]
  },
  {
   "cell_type": "code",
   "execution_count": 27,
   "id": "441149b8-891d-4afe-bcc1-873951ecabcf",
   "metadata": {},
   "outputs": [
    {
     "data": {
      "image/png": "[encoded data removed]",
      "text/plain": [
       "<Figure size 700x1000 with 12 Axes>"
      ]
     },
     "metadata": {},
     "output_type": "display_data"
    }
   ],
   "source": [
    "ct = df.loc[df.employment_type == 'CT']\n",
    "cols  =ct.columns.drop(['employment_type','salary_in_usd'])\n",
    "\n",
    "fig, ax = plt.subplots(len(cols),2, figsize=(7,10))\n",
    "ax= ax.flat\n",
    "n=0\n",
    "for c in cols:\n",
    "    sns.countplot(data=ct, x=c, ax=ax[n]).set_title('filtered {}'.format(c), size=10 )\n",
    "    sns.countplot(data=df, x=c, ax=ax[n+1]).set_title('original', size=10, color='blue')\n",
    "    n+=2\n",
    "\n",
    "plt.tight_layout()\n",
    "plt.show()"
   ]
  },
  {
   "cell_type": "code",
   "execution_count": 30,
   "id": "547b8b10-9ef6-4c00-9ab0-668defe24c60",
   "metadata": {},
   "outputs": [
    {
     "name": "stdout",
     "output_type": "stream",
     "text": [
      "The difference between ct and original is significant \n",
      "    with p-value of 0.0011867371225710922 (t-score: -3.242998998257071)\n",
      "The difference between pt and original is significant \n",
      "    with p-value of 1.620053232976362e-05 (t-score: -4.313847369310084)\n",
      "The difference between fl and original is significant \n",
      "    with p-value of 1.9402773712545497e-05 (t-score: -4.273751181472327)\n"
     ]
    }
   ],
   "source": [
    "t_test(a=['ct', ct.salary_in_usd], b=['original', df.salary_in_usd])\n",
    "t_test(a=['pt', df.loc[df.employment_type == 'PT','salary_in_usd']], b=['original', df.salary_in_usd])\n",
    "t_test(a=['fl', df.loc[df.employment_type == 'FL','salary_in_usd']], b=['original', df.salary_in_usd])\n"
   ]
  },
  {
   "cell_type": "markdown",
   "id": "a6bff7cb-ace4-439a-8e92-1a9ec1b8b732",
   "metadata": {},
   "source": [
    "<span id='sal' style='font-weight:bold'>salary transformation</span>"
   ]
  },
  {
   "cell_type": "code",
   "execution_count": 14,
   "id": "7851fdd9-e973-408b-8531-2d277d579538",
   "metadata": {},
   "outputs": [
    {
     "data": {
      "image/png": "[encoded data removed]",
      "text/plain": [
       "<Figure size 500x200 with 2 Axes>"
      ]
     },
     "metadata": {},
     "output_type": "display_data"
    }
   ],
   "source": [
    "fig, ax = plt.subplots(1,2, figsize=(5,2))\n",
    "\n",
    "df.salary_in_usd.plot(kind='hist', ax=ax[0], title='original')\n",
    "plt.hist(np.log(df.salary_in_usd))\n",
    "\n",
    "ax[1].set_title('Log transformed')\n",
    "\n",
    "plt.suptitle('Salary')\n",
    "plt.tight_layout()\n",
    "plt.show()"
   ]
  },
  {
   "cell_type": "code",
   "execution_count": 15,
   "id": "b8f8cea2-327a-48b7-9716-43587b87169c",
   "metadata": {},
   "outputs": [],
   "source": [
    "df.salary_in_usd = np.log(df.salary_in_usd)"
   ]
  },
  {
   "cell_type": "code",
   "execution_count": 17,
   "id": "27987b37-b9aa-4066-9514-f4f7166cf367",
   "metadata": {},
   "outputs": [],
   "source": [
    "df.to_csv('salary_trans.csv', index=False)"
   ]
  },
  {
   "cell_type": "code",
   "execution_count": null,
   "id": "2bb8c8bf-c026-4026-b2f5-f1a2063c6a2e",
   "metadata": {},
   "outputs": [],
   "source": []
  }
 ],
 "metadata": {
  "kernelspec": {
   "display_name": "anaconda-ai-2024.04-py310",
   "language": "python",
   "name": "conda-env-anaconda-ai-2024.04-py310-py"
  },
  "language_info": {
   "codemirror_mode": {
    "name": "ipython",
    "version": 3
   },
   "file_extension": ".py",
   "mimetype": "text/x-python",
   "name": "python",
   "nbconvert_exporter": "python",
   "pygments_lexer": "ipython3",
   "version": "3.10.13"
  }
 },
 "nbformat": 4,
 "nbformat_minor": 5
}
