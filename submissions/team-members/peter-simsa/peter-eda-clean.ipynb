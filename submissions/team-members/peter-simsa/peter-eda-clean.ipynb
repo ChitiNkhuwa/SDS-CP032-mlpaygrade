{
 "cells": [
  {
   "cell_type": "markdown",
   "id": "98003262-e06f-4b62-9762-524a09d0164e",
   "metadata": {},
   "source": [
    "# SDS Kaggle salary estimation project - 2025\n",
    "### Data retrival and cleaning\n",
    "source: https://www.kaggle.com/datasets/chopper53/machine-learning-engineer-salary-in-2024/data"
   ]
  },
  {
   "cell_type": "markdown",
   "id": "d0353a17-119a-4ec8-8191-f23ecfe88166",
   "metadata": {},
   "source": [
    "##  Data summary\n",
    "- 2 col del : ['salary','salary_currency']   (16494, 11) -> (16494, 9)\n",
    "- duplicates dropped: (16494, 9) -> (10092, 9)\n",
    "- change column order: salary_in_usd at the end"
   ]
  },
  {
   "cell_type": "code",
   "execution_count": null,
   "id": "290e03ea-9361-42f5-9dbf-95c57469521d",
   "metadata": {},
   "outputs": [],
   "source": [
    "# pip install kagglehub"
   ]
  },
  {
   "cell_type": "code",
   "execution_count": 45,
   "id": "ec5e05cd-d8c0-4343-bf26-3487602885f1",
   "metadata": {},
   "outputs": [],
   "source": [
    "import pandas as pd\n",
    "import matplotlib.pyplot as plt\n"
   ]
  },
  {
   "cell_type": "markdown",
   "id": "d9ccbcd8-28c1-41aa-88fb-b1ff40aae894",
   "metadata": {},
   "source": [
    "## Download data and save localy. (change markdown to code)\n",
    "import kagglehub  \n",
    "import os\n",
    "\n",
    "path = kagglehub.dataset_download(\"chopper53/machine-learning-engineer-salary-in-2024\")  \n",
    "print(os.listdir(path))\n",
    "\n",
    "file = path+'/'+os.listdir(path)[0]\n",
    "\n",
    "pd.read_csv(file).to_csv('salary.csv')"
   ]
  },
  {
   "cell_type": "code",
   "execution_count": 27,
   "id": "60e96a6c-db12-4cd5-a959-695768dcd34e",
   "metadata": {},
   "outputs": [
    {
     "data": {
      "text/plain": [
       "(16494, 11)"
      ]
     },
     "execution_count": 27,
     "metadata": {},
     "output_type": "execute_result"
    }
   ],
   "source": [
    "df = pd.read_csv('salary.csv', index_col=[0])\n",
    "df.shape"
   ]
  },
  {
   "cell_type": "code",
   "execution_count": 5,
   "id": "bbd1271c-58f5-4cb3-b504-57bb956b8174",
   "metadata": {},
   "outputs": [
    {
     "data": {
      "text/plain": [
       "Index(['work_year', 'experience_level', 'employment_type', 'job_title',\n",
       "       'salary', 'salary_currency', 'salary_in_usd', 'employee_residence',\n",
       "       'remote_ratio', 'company_location', 'company_size'],\n",
       "      dtype='object')"
      ]
     },
     "execution_count": 5,
     "metadata": {},
     "output_type": "execute_result"
    }
   ],
   "source": [
    "df.columns"
   ]
  },
  {
   "cell_type": "code",
   "execution_count": 6,
   "id": "eee9c816-401a-424c-a640-0311a16f0be9",
   "metadata": {},
   "outputs": [
    {
     "data": {
      "text/html": [
       "<div>\n",
       "<style scoped>\n",
       "    .dataframe tbody tr th:only-of-type {\n",
       "        vertical-align: middle;\n",
       "    }\n",
       "\n",
       "    .dataframe tbody tr th {\n",
       "        vertical-align: top;\n",
       "    }\n",
       "\n",
       "    .dataframe thead th {\n",
       "        text-align: right;\n",
       "    }\n",
       "</style>\n",
       "<table border=\"1\" class=\"dataframe\">\n",
       "  <thead>\n",
       "    <tr style=\"text-align: right;\">\n",
       "      <th></th>\n",
       "      <th>work_year</th>\n",
       "      <th>experience_level</th>\n",
       "      <th>employment_type</th>\n",
       "      <th>job_title</th>\n",
       "      <th>salary</th>\n",
       "      <th>salary_currency</th>\n",
       "      <th>salary_in_usd</th>\n",
       "      <th>employee_residence</th>\n",
       "      <th>remote_ratio</th>\n",
       "      <th>company_location</th>\n",
       "      <th>company_size</th>\n",
       "    </tr>\n",
       "  </thead>\n",
       "  <tbody>\n",
       "    <tr>\n",
       "      <th>0</th>\n",
       "      <td>2024</td>\n",
       "      <td>MI</td>\n",
       "      <td>FT</td>\n",
       "      <td>Data Scientist</td>\n",
       "      <td>120000</td>\n",
       "      <td>USD</td>\n",
       "      <td>120000</td>\n",
       "      <td>AU</td>\n",
       "      <td>0</td>\n",
       "      <td>AU</td>\n",
       "      <td>S</td>\n",
       "    </tr>\n",
       "    <tr>\n",
       "      <th>1</th>\n",
       "      <td>2024</td>\n",
       "      <td>MI</td>\n",
       "      <td>FT</td>\n",
       "      <td>Data Scientist</td>\n",
       "      <td>70000</td>\n",
       "      <td>USD</td>\n",
       "      <td>70000</td>\n",
       "      <td>AU</td>\n",
       "      <td>0</td>\n",
       "      <td>AU</td>\n",
       "      <td>S</td>\n",
       "    </tr>\n",
       "    <tr>\n",
       "      <th>2</th>\n",
       "      <td>2024</td>\n",
       "      <td>MI</td>\n",
       "      <td>CT</td>\n",
       "      <td>Data Scientist</td>\n",
       "      <td>130000</td>\n",
       "      <td>USD</td>\n",
       "      <td>130000</td>\n",
       "      <td>US</td>\n",
       "      <td>0</td>\n",
       "      <td>US</td>\n",
       "      <td>M</td>\n",
       "    </tr>\n",
       "  </tbody>\n",
       "</table>\n",
       "</div>"
      ],
      "text/plain": [
       "   work_year experience_level employment_type       job_title  salary  \\\n",
       "0       2024               MI              FT  Data Scientist  120000   \n",
       "1       2024               MI              FT  Data Scientist   70000   \n",
       "2       2024               MI              CT  Data Scientist  130000   \n",
       "\n",
       "  salary_currency  salary_in_usd employee_residence  remote_ratio  \\\n",
       "0             USD         120000                 AU             0   \n",
       "1             USD          70000                 AU             0   \n",
       "2             USD         130000                 US             0   \n",
       "\n",
       "  company_location company_size  \n",
       "0               AU            S  \n",
       "1               AU            S  \n",
       "2               US            M  "
      ]
     },
     "execution_count": 6,
     "metadata": {},
     "output_type": "execute_result"
    }
   ],
   "source": [
    "df[:3]"
   ]
  },
  {
   "cell_type": "code",
   "execution_count": 28,
   "id": "929dd0d9-8dad-494f-8e3e-69b7b3a67467",
   "metadata": {
    "scrolled": true
   },
   "outputs": [
    {
     "data": {
      "text/plain": [
       "(16494, 9)"
      ]
     },
     "execution_count": 28,
     "metadata": {},
     "output_type": "execute_result"
    }
   ],
   "source": [
    "df.drop(['salary','salary_currency'], axis=1, inplace=True)\n",
    "df.shape"
   ]
  },
  {
   "cell_type": "code",
   "execution_count": 10,
   "id": "a8277087-a8e0-4d25-9dd0-4c3428ea38ed",
   "metadata": {},
   "outputs": [
    {
     "data": {
      "text/plain": [
       "work_year             0\n",
       "experience_level      0\n",
       "employment_type       0\n",
       "job_title             0\n",
       "salary_in_usd         0\n",
       "employee_residence    0\n",
       "remote_ratio          0\n",
       "company_location      0\n",
       "company_size          0\n",
       "dtype: int64"
      ]
     },
     "execution_count": 10,
     "metadata": {},
     "output_type": "execute_result"
    }
   ],
   "source": [
    "# Check for missing datapoint\n",
    "df.isna().sum()"
   ]
  },
  {
   "cell_type": "code",
   "execution_count": 32,
   "id": "aa7b2f32-b908-470c-8ecc-8c4af88b466f",
   "metadata": {},
   "outputs": [
    {
     "data": {
      "text/plain": [
       "(6402, 9)"
      ]
     },
     "execution_count": 32,
     "metadata": {},
     "output_type": "execute_result"
    }
   ],
   "source": [
    "# Check for duplicates\n",
    "df.loc[df.duplicated(keep='first')].shape"
   ]
  },
  {
   "cell_type": "code",
   "execution_count": 14,
   "id": "6e342857-6e0d-4e80-923a-ce4840f6453a",
   "metadata": {},
   "outputs": [
    {
     "data": {
      "image/png": "[encoded data removed]",
      "text/plain": [
       "<Figure size 500x300 with 2 Axes>"
      ]
     },
     "metadata": {},
     "output_type": "display_data"
    }
   ],
   "source": [
    "fig, ax = plt.subplots(1,2, figsize=(5,3))\n",
    "df.loc[df.duplicated(keep='first'), 'work_year'].value_counts().plot(kind='bar', ax=ax[0], title='duplicates')\n",
    "df.work_year.value_counts().plot(kind='bar',ax=ax[1], title='original')\n",
    "\n",
    "plt.tight_layout()\n",
    "plt.show()"
   ]
  },
  {
   "cell_type": "code",
   "execution_count": 38,
   "id": "e9e195f6-45ec-400e-b569-12bfb9e0a6fe",
   "metadata": {},
   "outputs": [
    {
     "data": {
      "text/plain": [
       "(10092, 9)"
      ]
     },
     "execution_count": 38,
     "metadata": {},
     "output_type": "execute_result"
    }
   ],
   "source": [
    "df.drop_duplicates(keep='first', inplace=True)\n",
    "df.shape"
   ]
  },
  {
   "cell_type": "code",
   "execution_count": 41,
   "id": "3989ca8e-f0e1-49b7-8445-ea95911d6eeb",
   "metadata": {},
   "outputs": [],
   "source": [
    "df.reset_index(drop=True, inplace=True)"
   ]
  },
  {
   "cell_type": "code",
   "execution_count": 14,
   "id": "4099a919-e2d2-4aad-b3dc-55a79332fc29",
   "metadata": {},
   "outputs": [
    {
     "data": {
      "image/png": "[encoded data removed]",
      "text/plain": [
       "<Figure size 400x200 with 1 Axes>"
      ]
     },
     "metadata": {},
     "output_type": "display_data"
    }
   ],
   "source": [
    "df.work_year.value_counts().plot(kind='bar', title='clean', figsize=(4,2));"
   ]
  },
  {
   "cell_type": "code",
   "execution_count": 47,
   "id": "a2fe2c95-9a59-4e2c-bc38-eb5143f92304",
   "metadata": {},
   "outputs": [],
   "source": [
    "df = df[['work_year', 'experience_level', 'employment_type', 'job_title',\n",
    "       'employee_residence', 'remote_ratio', 'company_location', 'company_size', 'salary_in_usd']]"
   ]
  },
  {
   "cell_type": "code",
   "execution_count": 49,
   "id": "439c25e9-d276-48bf-9cb4-e65db63a2a7d",
   "metadata": {},
   "outputs": [],
   "source": [
    "df.to_csv('salary_clean.csv')"
   ]
  },
  {
   "cell_type": "code",
   "execution_count": null,
   "id": "829d405c-394f-4d4e-97e6-e8809b1cc7ab",
   "metadata": {},
   "outputs": [],
   "source": []
  }
 ],
 "metadata": {
  "kernelspec": {
   "display_name": "anaconda-ai-2024.04-py310",
   "language": "python",
   "name": "conda-env-anaconda-ai-2024.04-py310-py"
  },
  "language_info": {
   "codemirror_mode": {
    "name": "ipython",
    "version": 3
   },
   "file_extension": ".py",
   "mimetype": "text/x-python",
   "name": "python",
   "nbconvert_exporter": "python",
   "pygments_lexer": "ipython3",
   "version": "3.10.13"
  }
 },
 "nbformat": 4,
 "nbformat_minor": 5
}
