{
 "cells": [
  {
   "cell_type": "code",
   "execution_count": 1,
   "id": "4fde668a",
   "metadata": {},
   "outputs": [
    {
     "name": "stderr",
     "output_type": "stream",
     "text": [
      "/home/hien/Work/AI/SDS-CP032-mlpaygrade/.venv/lib/python3.12/site-packages/juliacall/__init__.py:61: UserWarning: torch was imported before juliacall. This may cause a segfault. To avoid this, import juliacall before importing torch. For updates, see https://github.com/pytorch/pytorch/issues/78829.\n",
      "  warnings.warn(\n"
     ]
    },
    {
     "name": "stdout",
     "output_type": "stream",
     "text": [
      "Detected IPython. Loading juliacall extension. See https://juliapy.github.io/PythonCall.jl/stable/compat/#IPython\n"
     ]
    }
   ],
   "source": [
    "from pathlib import Path\n",
    "import numpy as np\n",
    "import pandas as pd\n",
    "import matplotlib.pyplot as plt\n",
    "from lib.utils import train_nn_model, sr_tuning\n",
    "from sklearn.model_selection import train_test_split\n",
    "from sklearn.preprocessing import LabelEncoder, OrdinalEncoder, StandardScaler\n",
    "from sklearn.compose import ColumnTransformer\n",
    "from sklearn.metrics import mean_squared_error, r2_score, root_mean_squared_error\n",
    "from pysr import PySRRegressor\n",
    "import torch\n",
    "import torch.nn as nn\n",
    "import torch.nn.functional as F\n",
    "import torch.optim as optim\n",
    "from torch.utils.data import TensorDataset\n",
    "from torch.utils.data import DataLoader\n",
    "import re\n",
    "import optuna"
   ]
  },
  {
   "cell_type": "code",
   "execution_count": 2,
   "id": "1272b164",
   "metadata": {},
   "outputs": [],
   "source": [
    "cwd = Path.cwd()\n",
    "source_data = Path(cwd)/\"data\"\n",
    "output = Path(cwd)/\"output\"\n",
    "preprocessed_data = cwd/'output/preprocessed_data'"
   ]
  },
  {
   "cell_type": "markdown",
   "id": "44fdc28f",
   "metadata": {},
   "source": [
    "# Loading Dataset"
   ]
  },
  {
   "cell_type": "code",
   "execution_count": 3,
   "id": "87a7337c",
   "metadata": {},
   "outputs": [
    {
     "name": "stdout",
     "output_type": "stream",
     "text": [
      "<class 'pandas.core.frame.DataFrame'>\n",
      "RangeIndex: 16494 entries, 0 to 16493\n",
      "Data columns (total 19 columns):\n",
      " #   Column                Non-Null Count  Dtype  \n",
      "---  ------                --------------  -----  \n",
      " 0   experience_level      16494 non-null  object \n",
      " 1   company_size          16494 non-null  object \n",
      " 2   work_year             16494 non-null  object \n",
      " 3   remote_ratio          16494 non-null  object \n",
      " 4   salary_currency       16494 non-null  object \n",
      " 5   employment_type       16494 non-null  object \n",
      " 6   job_type              16494 non-null  object \n",
      " 7   employee_continent    16494 non-null  object \n",
      " 8   company_continent     16494 non-null  object \n",
      " 9   job_level             16494 non-null  object \n",
      " 10  exp_level_job         16494 non-null  object \n",
      " 11  exp_level_econtinent  16494 non-null  object \n",
      " 12  job_level_exp         16494 non-null  object \n",
      " 13  work_year_econtinent  16494 non-null  object \n",
      " 14  kmeans_group          16494 non-null  object \n",
      " 15  same_continent        16494 non-null  int64  \n",
      " 16  job_title_popularity  16494 non-null  int64  \n",
      " 17  GDP_USD               16494 non-null  float64\n",
      " 18  log_salaries          16494 non-null  float64\n",
      "dtypes: float64(2), int64(2), object(15)\n",
      "memory usage: 2.4+ MB\n"
     ]
    }
   ],
   "source": [
    "salaries = pd.read_parquet(preprocessed_data/'preprocessed_data.parquet')\n",
    "salaries.info()"
   ]
  },
  {
   "cell_type": "code",
   "execution_count": 4,
   "id": "b69755ce",
   "metadata": {},
   "outputs": [],
   "source": [
    "X_train = np.load(preprocessed_data/'preprocessed_X_train.npy')\n",
    "y_train = np.load(preprocessed_data/'preprocessed_y_train.npy')\n",
    "X_test = np.load(preprocessed_data/'preprocessed_X_test.npy')\n",
    "y_test = np.load(preprocessed_data/'preprocessed_y_test.npy')"
   ]
  },
  {
   "cell_type": "code",
   "execution_count": 5,
   "id": "ae891714",
   "metadata": {},
   "outputs": [
    {
     "data": {
      "text/html": [
       "<div>\n",
       "<style scoped>\n",
       "    .dataframe tbody tr th:only-of-type {\n",
       "        vertical-align: middle;\n",
       "    }\n",
       "\n",
       "    .dataframe tbody tr th {\n",
       "        vertical-align: top;\n",
       "    }\n",
       "\n",
       "    .dataframe thead th {\n",
       "        text-align: right;\n",
       "    }\n",
       "</style>\n",
       "<table border=\"1\" class=\"dataframe\">\n",
       "  <thead>\n",
       "    <tr style=\"text-align: right;\">\n",
       "      <th></th>\n",
       "      <th>Unnamed: 0</th>\n",
       "      <th>0</th>\n",
       "    </tr>\n",
       "  </thead>\n",
       "  <tbody>\n",
       "    <tr>\n",
       "      <th>0</th>\n",
       "      <td>nom__employee_continent_North America</td>\n",
       "      <td>0.330858</td>\n",
       "    </tr>\n",
       "    <tr>\n",
       "      <th>1</th>\n",
       "      <td>nom__kmeans_group_4</td>\n",
       "      <td>0.121863</td>\n",
       "    </tr>\n",
       "    <tr>\n",
       "      <th>2</th>\n",
       "      <td>nom__salary_currency_USD</td>\n",
       "      <td>0.088748</td>\n",
       "    </tr>\n",
       "    <tr>\n",
       "      <th>3</th>\n",
       "      <td>ord__experience_level</td>\n",
       "      <td>0.064487</td>\n",
       "    </tr>\n",
       "    <tr>\n",
       "      <th>4</th>\n",
       "      <td>remainder__GDP_USD</td>\n",
       "      <td>0.044038</td>\n",
       "    </tr>\n",
       "    <tr>\n",
       "      <th>...</th>\n",
       "      <td>...</td>\n",
       "      <td>...</td>\n",
       "    </tr>\n",
       "    <tr>\n",
       "      <th>146</th>\n",
       "      <td>nom__salary_currency_CLP</td>\n",
       "      <td>0.000000</td>\n",
       "    </tr>\n",
       "    <tr>\n",
       "      <th>147</th>\n",
       "      <td>nom__salary_currency_ZAR</td>\n",
       "      <td>0.000000</td>\n",
       "    </tr>\n",
       "    <tr>\n",
       "      <th>148</th>\n",
       "      <td>nom__job_level_exp_Head_MI</td>\n",
       "      <td>0.000000</td>\n",
       "    </tr>\n",
       "    <tr>\n",
       "      <th>149</th>\n",
       "      <td>nom__salary_currency_NZD</td>\n",
       "      <td>0.000000</td>\n",
       "    </tr>\n",
       "    <tr>\n",
       "      <th>150</th>\n",
       "      <td>nom__exp_level_job_MI_Robotics</td>\n",
       "      <td>0.000000</td>\n",
       "    </tr>\n",
       "  </tbody>\n",
       "</table>\n",
       "<p>151 rows × 2 columns</p>\n",
       "</div>"
      ],
      "text/plain": [
       "                                Unnamed: 0         0\n",
       "0    nom__employee_continent_North America  0.330858\n",
       "1                      nom__kmeans_group_4  0.121863\n",
       "2                 nom__salary_currency_USD  0.088748\n",
       "3                    ord__experience_level  0.064487\n",
       "4                       remainder__GDP_USD  0.044038\n",
       "..                                     ...       ...\n",
       "146               nom__salary_currency_CLP  0.000000\n",
       "147               nom__salary_currency_ZAR  0.000000\n",
       "148             nom__job_level_exp_Head_MI  0.000000\n",
       "149               nom__salary_currency_NZD  0.000000\n",
       "150         nom__exp_level_job_MI_Robotics  0.000000\n",
       "\n",
       "[151 rows x 2 columns]"
      ]
     },
     "execution_count": 5,
     "metadata": {},
     "output_type": "execute_result"
    }
   ],
   "source": [
    "features = pd.read_csv(preprocessed_data/'final_features.csv')\n",
    "features"
   ]
  },
  {
   "cell_type": "markdown",
   "id": "5375f97e",
   "metadata": {},
   "source": [
    "# Deep Learning"
   ]
  },
  {
   "cell_type": "code",
   "execution_count": 6,
   "id": "44e907ea",
   "metadata": {},
   "outputs": [],
   "source": [
    "class ANNModel(nn.Module):\n",
    "    def __init__(self, input_dim):\n",
    "        super(ANNModel, self).__init__()\n",
    "        self.fc1 = nn.Linear(input_dim, 128)\n",
    "        self.dropout1 = nn.Dropout(0.2)\n",
    "        self.fc2 = nn.Linear(128, 64)\n",
    "        self.dropout2 = nn.Dropout(0.2)\n",
    "        self.fc3 = nn.Linear(64, 32)\n",
    "        self.dropout3 = nn.Dropout(0.2)\n",
    "        self.fc4 = nn.Linear(32, 1)\n",
    "\n",
    "    def forward(self, x):\n",
    "        x = F.relu(self.fc1(x))\n",
    "        x = self.dropout1(x)\n",
    "        x = F.relu(self.fc2(x))\n",
    "        x = self.dropout2(x)\n",
    "        x = F.relu(self.fc3(x))\n",
    "        x = self.dropout3(x)\n",
    "        x = self.fc4(x)\n",
    "        return x"
   ]
  },
  {
   "cell_type": "code",
   "execution_count": 7,
   "id": "b85f1e5b",
   "metadata": {},
   "outputs": [],
   "source": [
    "X_train_tensor = torch.from_numpy(X_train).float()\n",
    "y_train_tensor = torch.from_numpy(y_train).float().unsqueeze(1)  # ensures shape (N, 1)\n",
    "X_test_tensor = torch.from_numpy(X_test).float()\n",
    "y_test_tensor = torch.from_numpy(y_test).float().unsqueeze(1)\n",
    "train_dataset = TensorDataset(X_train_tensor, y_train_tensor)\n",
    "test_dataset = TensorDataset(X_test_tensor, y_test_tensor)\n",
    "train_loader = DataLoader(train_dataset, batch_size=32, shuffle=True)\n",
    "test_loader = DataLoader(test_dataset, batch_size=32, shuffle=False)"
   ]
  },
  {
   "cell_type": "code",
   "execution_count": 8,
   "id": "f44eb096",
   "metadata": {},
   "outputs": [],
   "source": [
    "# device = torch.device('cuda' if torch.cuda.is_available() else 'cpu')\n",
    "# model = ANNModel(input_dim=X_train.shape[1])\n",
    "# criterion = nn.MSELoss()\n",
    "# optimizer = optim.Adam(model.parameters(), lr=0.001)\n",
    "\n",
    "# train_losses, test_losses = train_nn_model(model, train_loader, test_loader,\n",
    "#                                        criterion, optimizer, device, num_epochs=100)\n",
    "\n",
    "# plt.plot(train_losses, label='Train Loss')\n",
    "# plt.plot(test_losses, label='Test Loss')\n",
    "# plt.xlabel('Epochs')\n",
    "# plt.ylabel('Loss')\n",
    "# plt.legend()\n",
    "# plt.show()\n"
   ]
  },
  {
   "cell_type": "markdown",
   "id": "82c04f7d",
   "metadata": {},
   "source": [
    "# Symbolic Regression"
   ]
  },
  {
   "cell_type": "code",
   "execution_count": null,
   "id": "39ec23d6",
   "metadata": {},
   "outputs": [
    {
     "name": "stderr",
     "output_type": "stream",
     "text": [
      "[I 2025-08-12 13:56:13,365] A new study created in memory with name: no-name-ed46a7c0-11a7-436e-b9a7-bf6050f41f9a\n",
      "/home/hien/Work/AI/SDS-CP032-mlpaygrade/.venv/lib/python3.12/site-packages/pysr/sr.py:1469: UserWarning: Note: Using a large maxsize for the equation search will be exponentially slower and use significant memory.\n",
      "  warnings.warn(\n",
      "/home/hien/Work/AI/SDS-CP032-mlpaygrade/.venv/lib/python3.12/site-packages/pysr/sr.py:1873: UserWarning: Note: Setting `random_state` without also setting `deterministic=True` and `parallelism='serial'` will result in non-deterministic searches.\n",
      "  warnings.warn(\n",
      "[I 2025-08-12 13:57:12,872] Trial 0 finished with value: 0.1425873060875096 and parameters: {'niterations': 192, 'population_size': 137, 'populations': 41, 'maxsize': 44, 'parsimony': 0.11292997086139955, 'ncycles_per_iteration': 642}. Best is trial 0 with value: 0.1425873060875096.\n"
     ]
    }
   ],
   "source": [
    "output_path = output/'pysr_outputs'\n",
    "\n",
    "study, pysr_model, best_loss = sr_tuning(X_train, y_train, X_test, y_test, output_path)\n",
    "\n",
    "print(\"Best hyperparameters:\", study.best_params)\n",
    "print(\"Best loss:\", best_loss)\n"
   ]
  },
  {
   "cell_type": "code",
   "execution_count": null,
   "id": "90399357",
   "metadata": {},
   "outputs": [
    {
     "name": "stdout",
     "output_type": "stream",
     "text": [
      "Test MSE: 0.14244635720736357\n",
      "Test RMSE: 0.3774206634610293\n",
      "Test R2: 0.3628874136801372\n",
      "Best equation: exp(x40 - sin(exp(-1.6295533*(x34 + (0.82019717 - x0)*(-0.06354967) + sin(exp(x141*(-x136 - 0.8541837)))) + (x34 + x83*(0.37787116 - x0) + 0.5470588)*(-3.4572165))) - 1*0.34629324) + 11.155542\n"
     ]
    }
   ],
   "source": [
    "symbolic_eq = pysr_model.get_best()\n",
    "best_equation = pysr_model.sympy()\n",
    "y_pred = pysr_model.predict(X_test)\n",
    "print(\"Test MSE:\", mean_squared_error(y_test, y_pred))\n",
    "print(\"Test RMSE:\", root_mean_squared_error(y_test, y_pred))\n",
    "print(\"Test R2:\", r2_score(y_test, y_pred))\n",
    "print(\"Best equation:\", best_equation)"
   ]
  },
  {
   "cell_type": "code",
   "execution_count": null,
   "id": "21edf2f7",
   "metadata": {},
   "outputs": [
    {
     "data": {
      "text/plain": [
       "['nom__employee_continent_North America',\n",
       " 'nom__kmeans_group_0',\n",
       " 'nom__exp_level_job_MI_BI',\n",
       " 'nom__work_year_econtinent_2023_Asia',\n",
       " 'nom__kmeans_group_7',\n",
       " 'nom__work_year_econtinent_2024_South America']"
      ]
     },
     "execution_count": 11,
     "metadata": {},
     "output_type": "execute_result"
    }
   ],
   "source": [
    "equation_str = str(best_equation)\n",
    "# Find all 'xNN' occurrences, handling repeats\n",
    "variable_indices = [int(x[1:]) for x in re.findall(r'x\\d+', equation_str)]\n",
    "unique_features = [features.iloc[idx, 0] for idx in sorted(set(variable_indices))]\n",
    "unique_features"
   ]
  },
  {
   "cell_type": "code",
   "execution_count": null,
   "id": "23e18913",
   "metadata": {},
   "outputs": [
    {
     "data": {
      "text/plain": [
       "<Axes: xlabel='complexity'>"
      ]
     },
     "execution_count": 12,
     "metadata": {},
     "output_type": "execute_result"
    },
    {
     "data": {
      "image/png": "[encoded data removed]",
      "text/plain": [
       "<Figure size 640x480 with 1 Axes>"
      ]
     },
     "metadata": {},
     "output_type": "display_data"
    }
   ],
   "source": [
    "sr_training_loss = pysr_model.equations_\n",
    "sr_training_loss.plot(x=\"complexity\", y=\"loss\")"
   ]
  }
 ],
 "metadata": {
  "kernelspec": {
   "display_name": ".venv",
   "language": "python",
   "name": "python3"
  },
  "language_info": {
   "codemirror_mode": {
    "name": "ipython",
    "version": 3
   },
   "file_extension": ".py",
   "mimetype": "text/x-python",
   "name": "python",
   "nbconvert_exporter": "python",
   "pygments_lexer": "ipython3",
   "version": "3.12.3"
  }
 },
 "nbformat": 4,
 "nbformat_minor": 5
}
