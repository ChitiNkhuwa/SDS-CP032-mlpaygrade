{
 "cells": [
  {
   "cell_type": "code",
   "execution_count": null,
   "id": "4fde668a",
   "metadata": {},
   "outputs": [],
   "source": [
    "from pathlib import Path\n",
    "import numpy as np\n",
    "import pandas as pd\n",
    "import matplotlib.pyplot as plt\n",
    "from lib.utils import train_nn_model, sr_tuning, log_to_mlflow, log_ann_to_mlflow\n",
    "from sklearn.model_selection import train_test_split\n",
    "from sklearn.preprocessing import LabelEncoder, OrdinalEncoder, StandardScaler\n",
    "from sklearn.compose import ColumnTransformer\n",
    "from sklearn.metrics import mean_squared_error, r2_score, root_mean_squared_error, mean_absolute_error\n",
    "from pysr import PySRRegressor\n",
    "import torch\n",
    "import torch.nn as nn\n",
    "import torch.nn.functional as F\n",
    "import torch.optim as optim\n",
    "from torch.utils.data import TensorDataset\n",
    "from torch.utils.data import DataLoader\n",
    "import re\n",
    "import optuna\n",
    "import joblib\n",
    "import mlflow"
   ]
  },
  {
   "cell_type": "code",
   "execution_count": 14,
   "id": "1272b164",
   "metadata": {},
   "outputs": [],
   "source": [
    "cwd = Path.cwd()\n",
    "source_data = Path(cwd)/\"data\"\n",
    "output = Path(cwd)/\"output\"\n",
    "preprocessed_data = cwd/'output/preprocessed_data'"
   ]
  },
  {
   "cell_type": "markdown",
   "id": "44fdc28f",
   "metadata": {},
   "source": [
    "# Loading Dataset"
   ]
  },
  {
   "cell_type": "code",
   "execution_count": 15,
   "id": "87a7337c",
   "metadata": {},
   "outputs": [
    {
     "name": "stdout",
     "output_type": "stream",
     "text": [
      "<class 'pandas.core.frame.DataFrame'>\n",
      "RangeIndex: 16494 entries, 0 to 16493\n",
      "Data columns (total 19 columns):\n",
      " #   Column                Non-Null Count  Dtype  \n",
      "---  ------                --------------  -----  \n",
      " 0   experience_level      16494 non-null  object \n",
      " 1   company_size          16494 non-null  object \n",
      " 2   work_year             16494 non-null  object \n",
      " 3   remote_ratio          16494 non-null  object \n",
      " 4   salary_currency       16494 non-null  object \n",
      " 5   employment_type       16494 non-null  object \n",
      " 6   job_type              16494 non-null  object \n",
      " 7   employee_continent    16494 non-null  object \n",
      " 8   company_continent     16494 non-null  object \n",
      " 9   job_level             16494 non-null  object \n",
      " 10  exp_level_job         16494 non-null  object \n",
      " 11  exp_level_econtinent  16494 non-null  object \n",
      " 12  job_level_exp         16494 non-null  object \n",
      " 13  work_year_econtinent  16494 non-null  object \n",
      " 14  kmeans_group          16494 non-null  object \n",
      " 15  same_continent        16494 non-null  int64  \n",
      " 16  job_title_popularity  16494 non-null  int64  \n",
      " 17  GDP_USD               16494 non-null  float64\n",
      " 18  log_salaries          16494 non-null  float64\n",
      "dtypes: float64(2), int64(2), object(15)\n",
      "memory usage: 2.4+ MB\n"
     ]
    }
   ],
   "source": [
    "salaries = pd.read_parquet(preprocessed_data/'preprocessed_data.parquet')\n",
    "salaries.info()"
   ]
  },
  {
   "cell_type": "code",
   "execution_count": 16,
   "id": "b69755ce",
   "metadata": {},
   "outputs": [],
   "source": [
    "X_train = np.load(preprocessed_data/'preprocessed_X_train.npy')\n",
    "y_train = np.load(preprocessed_data/'preprocessed_y_train.npy')\n",
    "X_test = np.load(preprocessed_data/'preprocessed_X_test.npy')\n",
    "y_test = np.load(preprocessed_data/'preprocessed_y_test.npy')"
   ]
  },
  {
   "cell_type": "code",
   "execution_count": 17,
   "id": "ae891714",
   "metadata": {},
   "outputs": [
    {
     "data": {
      "text/html": [
       "<div>\n",
       "<style scoped>\n",
       "    .dataframe tbody tr th:only-of-type {\n",
       "        vertical-align: middle;\n",
       "    }\n",
       "\n",
       "    .dataframe tbody tr th {\n",
       "        vertical-align: top;\n",
       "    }\n",
       "\n",
       "    .dataframe thead th {\n",
       "        text-align: right;\n",
       "    }\n",
       "</style>\n",
       "<table border=\"1\" class=\"dataframe\">\n",
       "  <thead>\n",
       "    <tr style=\"text-align: right;\">\n",
       "      <th></th>\n",
       "      <th>Unnamed: 0</th>\n",
       "      <th>0</th>\n",
       "    </tr>\n",
       "  </thead>\n",
       "  <tbody>\n",
       "    <tr>\n",
       "      <th>0</th>\n",
       "      <td>nom__employee_continent_North America</td>\n",
       "      <td>0.330858</td>\n",
       "    </tr>\n",
       "    <tr>\n",
       "      <th>1</th>\n",
       "      <td>nom__kmeans_group_4</td>\n",
       "      <td>0.121863</td>\n",
       "    </tr>\n",
       "    <tr>\n",
       "      <th>2</th>\n",
       "      <td>nom__salary_currency_USD</td>\n",
       "      <td>0.088748</td>\n",
       "    </tr>\n",
       "    <tr>\n",
       "      <th>3</th>\n",
       "      <td>ord__experience_level</td>\n",
       "      <td>0.064487</td>\n",
       "    </tr>\n",
       "    <tr>\n",
       "      <th>4</th>\n",
       "      <td>remainder__GDP_USD</td>\n",
       "      <td>0.044038</td>\n",
       "    </tr>\n",
       "    <tr>\n",
       "      <th>...</th>\n",
       "      <td>...</td>\n",
       "      <td>...</td>\n",
       "    </tr>\n",
       "    <tr>\n",
       "      <th>146</th>\n",
       "      <td>nom__salary_currency_CLP</td>\n",
       "      <td>0.000000</td>\n",
       "    </tr>\n",
       "    <tr>\n",
       "      <th>147</th>\n",
       "      <td>nom__salary_currency_ZAR</td>\n",
       "      <td>0.000000</td>\n",
       "    </tr>\n",
       "    <tr>\n",
       "      <th>148</th>\n",
       "      <td>nom__job_level_exp_Head_MI</td>\n",
       "      <td>0.000000</td>\n",
       "    </tr>\n",
       "    <tr>\n",
       "      <th>149</th>\n",
       "      <td>nom__salary_currency_NZD</td>\n",
       "      <td>0.000000</td>\n",
       "    </tr>\n",
       "    <tr>\n",
       "      <th>150</th>\n",
       "      <td>nom__exp_level_job_MI_Robotics</td>\n",
       "      <td>0.000000</td>\n",
       "    </tr>\n",
       "  </tbody>\n",
       "</table>\n",
       "<p>151 rows × 2 columns</p>\n",
       "</div>"
      ],
      "text/plain": [
       "                                Unnamed: 0         0\n",
       "0    nom__employee_continent_North America  0.330858\n",
       "1                      nom__kmeans_group_4  0.121863\n",
       "2                 nom__salary_currency_USD  0.088748\n",
       "3                    ord__experience_level  0.064487\n",
       "4                       remainder__GDP_USD  0.044038\n",
       "..                                     ...       ...\n",
       "146               nom__salary_currency_CLP  0.000000\n",
       "147               nom__salary_currency_ZAR  0.000000\n",
       "148             nom__job_level_exp_Head_MI  0.000000\n",
       "149               nom__salary_currency_NZD  0.000000\n",
       "150         nom__exp_level_job_MI_Robotics  0.000000\n",
       "\n",
       "[151 rows x 2 columns]"
      ]
     },
     "execution_count": 17,
     "metadata": {},
     "output_type": "execute_result"
    }
   ],
   "source": [
    "features = pd.read_csv(preprocessed_data/'final_features.csv')\n",
    "features"
   ]
  },
  {
   "cell_type": "markdown",
   "id": "5375f97e",
   "metadata": {},
   "source": [
    "# Deep Learning"
   ]
  },
  {
   "cell_type": "code",
   "execution_count": 18,
   "id": "44e907ea",
   "metadata": {},
   "outputs": [],
   "source": [
    "class ANNModel(nn.Module):\n",
    "    def __init__(self, input_dim):\n",
    "        super(ANNModel, self).__init__()\n",
    "        self.fc1 = nn.Linear(input_dim, 128)\n",
    "        self.dropout1 = nn.Dropout(0.2)\n",
    "        self.fc2 = nn.Linear(128, 64)\n",
    "        self.dropout2 = nn.Dropout(0.2)\n",
    "        self.fc3 = nn.Linear(64, 32)\n",
    "        self.dropout3 = nn.Dropout(0.2)\n",
    "        self.fc4 = nn.Linear(32, 1)\n",
    "\n",
    "    def forward(self, x):\n",
    "        x = F.relu(self.fc1(x))\n",
    "        x = self.dropout1(x)\n",
    "        x = F.relu(self.fc2(x))\n",
    "        x = self.dropout2(x)\n",
    "        x = F.relu(self.fc3(x))\n",
    "        x = self.dropout3(x)\n",
    "        x = self.fc4(x)\n",
    "        return x"
   ]
  },
  {
   "cell_type": "code",
   "execution_count": 19,
   "id": "b85f1e5b",
   "metadata": {},
   "outputs": [],
   "source": [
    "X_train_tensor = torch.from_numpy(X_train).float()\n",
    "y_train_tensor = torch.from_numpy(y_train).float().unsqueeze(1)  # ensures shape (N, 1)\n",
    "X_test_tensor = torch.from_numpy(X_test).float()\n",
    "y_test_tensor = torch.from_numpy(y_test).float().unsqueeze(1)\n",
    "train_dataset = TensorDataset(X_train_tensor, y_train_tensor)\n",
    "test_dataset = TensorDataset(X_test_tensor, y_test_tensor)\n",
    "train_loader = DataLoader(train_dataset, batch_size=32, shuffle=True)\n",
    "test_loader = DataLoader(test_dataset, batch_size=32, shuffle=False)"
   ]
  },
  {
   "cell_type": "code",
   "execution_count": 20,
   "id": "f44eb096",
   "metadata": {},
   "outputs": [
    {
     "name": "stdout",
     "output_type": "stream",
     "text": [
      "Epoch [1/100], Train Loss: 14.5760, Test Loss: 0.4548\n",
      "Epoch [2/100], Train Loss: 3.9719, Test Loss: 0.4098\n",
      "Epoch [3/100], Train Loss: 3.5134, Test Loss: 0.4969\n",
      "Epoch [4/100], Train Loss: 3.3694, Test Loss: 0.3549\n",
      "Epoch [5/100], Train Loss: 3.2653, Test Loss: 0.9573\n",
      "Epoch [6/100], Train Loss: 3.1100, Test Loss: 0.2965\n",
      "Epoch [7/100], Train Loss: 2.9869, Test Loss: 0.2608\n",
      "Epoch [8/100], Train Loss: 2.8433, Test Loss: 0.4238\n",
      "Epoch [9/100], Train Loss: 2.6940, Test Loss: 0.2249\n",
      "Epoch [10/100], Train Loss: 2.5328, Test Loss: 0.4269\n",
      "Epoch [11/100], Train Loss: 2.4169, Test Loss: 0.2983\n",
      "Epoch [12/100], Train Loss: 2.2765, Test Loss: 0.2347\n",
      "Epoch [13/100], Train Loss: 2.0819, Test Loss: 0.2405\n",
      "Epoch [14/100], Train Loss: 2.0671, Test Loss: 0.2172\n",
      "Epoch [15/100], Train Loss: 1.8760, Test Loss: 0.2869\n",
      "Epoch [16/100], Train Loss: 1.8090, Test Loss: 0.1493\n",
      "Epoch [17/100], Train Loss: 1.6735, Test Loss: 0.2571\n",
      "Epoch [18/100], Train Loss: 1.5849, Test Loss: 0.1750\n",
      "Epoch [19/100], Train Loss: 1.5016, Test Loss: 0.2176\n",
      "Epoch [20/100], Train Loss: 1.4017, Test Loss: 0.1507\n",
      "Epoch [21/100], Train Loss: 1.3728, Test Loss: 0.1314\n",
      "Epoch [22/100], Train Loss: 1.2955, Test Loss: 0.1344\n",
      "Epoch [23/100], Train Loss: 1.2251, Test Loss: 0.1329\n",
      "Epoch [24/100], Train Loss: 1.1548, Test Loss: 0.2513\n",
      "Epoch [25/100], Train Loss: 1.0691, Test Loss: 0.1472\n",
      "Epoch [26/100], Train Loss: 1.0563, Test Loss: 0.1386\n",
      "Epoch [27/100], Train Loss: 1.0003, Test Loss: 0.1350\n",
      "Epoch [28/100], Train Loss: 0.9223, Test Loss: 0.1258\n",
      "Epoch [29/100], Train Loss: 0.8760, Test Loss: 0.1677\n",
      "Epoch [30/100], Train Loss: 0.8397, Test Loss: 0.1435\n",
      "Epoch [31/100], Train Loss: 0.7712, Test Loss: 0.1524\n",
      "Epoch [32/100], Train Loss: 0.7310, Test Loss: 0.1585\n",
      "Epoch [33/100], Train Loss: 0.7057, Test Loss: 0.1219\n",
      "Epoch [34/100], Train Loss: 0.6899, Test Loss: 0.1461\n",
      "Epoch [35/100], Train Loss: 0.6153, Test Loss: 0.1233\n",
      "Epoch [36/100], Train Loss: 0.6083, Test Loss: 0.1314\n",
      "Epoch [37/100], Train Loss: 0.5638, Test Loss: 0.1368\n",
      "Epoch [38/100], Train Loss: 0.5473, Test Loss: 0.1372\n",
      "Epoch [39/100], Train Loss: 0.5200, Test Loss: 0.1229\n",
      "Epoch [40/100], Train Loss: 0.5036, Test Loss: 0.1358\n",
      "Epoch [41/100], Train Loss: 0.4693, Test Loss: 0.1425\n",
      "Epoch [42/100], Train Loss: 0.4563, Test Loss: 0.1449\n",
      "Epoch [43/100], Train Loss: 0.4359, Test Loss: 0.1239\n",
      "Epoch [44/100], Train Loss: 0.4196, Test Loss: 0.1285\n",
      "Epoch [45/100], Train Loss: 0.4037, Test Loss: 0.1233\n",
      "Epoch [46/100], Train Loss: 0.3719, Test Loss: 0.1284\n",
      "Epoch [47/100], Train Loss: 0.3567, Test Loss: 0.1315\n",
      "Epoch [48/100], Train Loss: 0.3379, Test Loss: 0.1230\n",
      "Epoch [49/100], Train Loss: 0.3233, Test Loss: 0.1217\n",
      "Epoch [50/100], Train Loss: 0.3084, Test Loss: 0.1194\n",
      "Epoch [51/100], Train Loss: 0.2953, Test Loss: 0.1204\n",
      "Epoch [52/100], Train Loss: 0.2796, Test Loss: 0.1212\n",
      "Epoch [53/100], Train Loss: 0.2679, Test Loss: 0.1290\n",
      "Epoch [54/100], Train Loss: 0.2561, Test Loss: 0.1202\n",
      "Epoch [55/100], Train Loss: 0.2410, Test Loss: 0.1208\n",
      "Epoch [56/100], Train Loss: 0.2337, Test Loss: 0.1244\n",
      "Epoch [57/100], Train Loss: 0.2244, Test Loss: 0.1254\n",
      "Epoch [58/100], Train Loss: 0.2132, Test Loss: 0.1221\n",
      "Epoch [59/100], Train Loss: 0.2058, Test Loss: 0.1200\n",
      "Epoch [60/100], Train Loss: 0.1983, Test Loss: 0.1207\n",
      "Epoch [61/100], Train Loss: 0.1886, Test Loss: 0.1211\n",
      "Epoch [62/100], Train Loss: 0.1834, Test Loss: 0.1205\n",
      "Epoch [63/100], Train Loss: 0.1759, Test Loss: 0.1238\n",
      "Epoch [64/100], Train Loss: 0.1706, Test Loss: 0.1200\n",
      "Epoch [65/100], Train Loss: 0.1657, Test Loss: 0.1230\n",
      "Epoch [66/100], Train Loss: 0.1583, Test Loss: 0.1200\n",
      "Epoch [67/100], Train Loss: 0.1548, Test Loss: 0.1206\n",
      "Epoch [68/100], Train Loss: 0.1525, Test Loss: 0.1212\n",
      "Epoch [69/100], Train Loss: 0.1499, Test Loss: 0.1212\n",
      "Epoch [70/100], Train Loss: 0.1467, Test Loss: 0.1193\n",
      "Epoch [71/100], Train Loss: 0.1431, Test Loss: 0.1189\n",
      "Epoch [72/100], Train Loss: 0.1420, Test Loss: 0.1189\n",
      "Epoch [73/100], Train Loss: 0.1373, Test Loss: 0.1203\n",
      "Epoch [74/100], Train Loss: 0.1368, Test Loss: 0.1190\n",
      "Epoch [75/100], Train Loss: 0.1351, Test Loss: 0.1197\n",
      "Epoch [76/100], Train Loss: 0.1345, Test Loss: 0.1219\n",
      "Epoch [77/100], Train Loss: 0.1324, Test Loss: 0.1181\n",
      "Epoch [78/100], Train Loss: 0.1332, Test Loss: 0.1195\n",
      "Epoch [79/100], Train Loss: 0.1313, Test Loss: 0.1190\n",
      "Epoch [80/100], Train Loss: 0.1326, Test Loss: 0.1177\n",
      "Epoch [81/100], Train Loss: 0.1309, Test Loss: 0.1188\n",
      "Epoch [82/100], Train Loss: 0.1299, Test Loss: 0.1192\n",
      "Epoch [83/100], Train Loss: 0.1290, Test Loss: 0.1181\n",
      "Epoch [84/100], Train Loss: 0.1281, Test Loss: 0.1214\n",
      "Epoch [85/100], Train Loss: 0.1274, Test Loss: 0.1181\n",
      "Epoch [86/100], Train Loss: 0.1271, Test Loss: 0.1186\n",
      "Epoch [87/100], Train Loss: 0.1262, Test Loss: 0.1182\n",
      "Epoch [88/100], Train Loss: 0.1264, Test Loss: 0.1187\n",
      "Epoch [89/100], Train Loss: 0.1255, Test Loss: 0.1204\n",
      "Epoch [90/100], Train Loss: 0.1243, Test Loss: 0.1198\n",
      "Epoch [91/100], Train Loss: 0.1260, Test Loss: 0.1202\n",
      "Epoch [92/100], Train Loss: 0.1260, Test Loss: 0.1198\n",
      "Epoch [93/100], Train Loss: 0.1249, Test Loss: 0.1247\n",
      "Epoch [94/100], Train Loss: 0.1243, Test Loss: 0.1200\n",
      "Epoch [95/100], Train Loss: 0.1247, Test Loss: 0.1195\n",
      "Epoch [96/100], Train Loss: 0.1248, Test Loss: 0.1194\n",
      "Epoch [97/100], Train Loss: 0.1262, Test Loss: 0.1201\n",
      "Epoch [98/100], Train Loss: 0.1237, Test Loss: 0.1183\n",
      "Epoch [99/100], Train Loss: 0.1258, Test Loss: 0.1199\n",
      "Epoch [100/100], Train Loss: 0.1238, Test Loss: 0.1204\n"
     ]
    },
    {
     "data": {
      "image/png": "[encoded data removed]",
      "text/plain": [
       "<Figure size 640x480 with 1 Axes>"
      ]
     },
     "metadata": {},
     "output_type": "display_data"
    }
   ],
   "source": [
    "device = torch.device('cuda' if torch.cuda.is_available() else 'cpu')\n",
    "model = ANNModel(input_dim=X_train.shape[1])\n",
    "criterion = nn.MSELoss()\n",
    "optimizer = optim.Adam(model.parameters(), lr=0.001)\n",
    "\n",
    "train_losses, test_losses = train_nn_model(model, train_loader, test_loader,\n",
    "                                       criterion, optimizer, device, num_epochs=100)\n",
    "\n",
    "plt.plot(train_losses, label='Train Loss')\n",
    "plt.plot(test_losses, label='Test Loss')\n",
    "plt.xlabel('Epochs')\n",
    "plt.ylabel('Loss')\n",
    "plt.legend()\n",
    "plt.show()\n"
   ]
  },
  {
   "cell_type": "code",
   "execution_count": 39,
   "id": "65a4cdd2",
   "metadata": {},
   "outputs": [
    {
     "name": "stdout",
     "output_type": "stream",
     "text": [
      "Test MSE: 0.12042970955371857\n",
      "Test RMSE: 0.34702983498573303\n",
      "Test MAE: 0.27301034331321716\n",
      "Test R2: 0.4613601565361023\n",
      "Test RMSE in usd: 54,061.15\n",
      "Test MSE in usd: 2,922,607,872.00\n",
      "Test MAE in usd: 39,074.49\n"
     ]
    }
   ],
   "source": [
    "model.to(device)\n",
    "X_test_tensor = X_test_tensor.to(device)\n",
    "y_test_tensor = y_test_tensor.to(device)\n",
    "\n",
    "model.eval()\n",
    "with torch.no_grad():\n",
    "    ann_y_pred = model(X_test_tensor)\n",
    "    ann_y_pred = ann_y_pred.cpu().numpy().flatten()\n",
    "ann_y_test = y_test_tensor.cpu().numpy().flatten()\n",
    "ann_r2 = r2_score(ann_y_test, ann_y_pred)\n",
    "ann_rmse = root_mean_squared_error(ann_y_test, ann_y_pred)\n",
    "ann_mse = mean_squared_error(ann_y_test, ann_y_pred)\n",
    "ann_mae = mean_absolute_error(ann_y_test, ann_y_pred)\n",
    "ann_y_true_usd = np.exp(ann_y_test)\n",
    "ann_y_pred_usd = np.exp(ann_y_pred)\n",
    "ann_mse_usd = mean_squared_error(ann_y_true_usd, ann_y_pred_usd)\n",
    "ann_rmse_usd = root_mean_squared_error(ann_y_true_usd, ann_y_pred_usd)\n",
    "ann_mae_usd = mean_absolute_error(ann_y_true_usd, ann_y_pred_usd)\n",
    "print(\"Test MSE:\", ann_mse)\n",
    "print(\"Test RMSE:\", ann_rmse)\n",
    "print(\"Test MAE:\", ann_mae)\n",
    "print(\"Test R2:\", ann_r2)\n",
    "print(f\"Test RMSE in usd: {ann_rmse_usd:,.2f}\")\n",
    "print(f\"Test MSE in usd: {ann_mse_usd:,.2f}\")\n",
    "print(f\"Test MAE in usd: {ann_mae_usd:,.2f}\")"
   ]
  },
  {
   "cell_type": "markdown",
   "id": "82c04f7d",
   "metadata": {},
   "source": [
    "# Symbolic Regression"
   ]
  },
  {
   "cell_type": "code",
   "execution_count": 9,
   "id": "39ec23d6",
   "metadata": {},
   "outputs": [
    {
     "name": "stderr",
     "output_type": "stream",
     "text": [
      "[I 2025-08-12 14:21:03,661] A new study created in memory with name: no-name-63dd81f7-5d25-4185-9f7b-93a71a6f2d7a\n",
      "/home/hien/Work/AI/SDS-CP032-mlpaygrade/.venv/lib/python3.12/site-packages/pysr/sr.py:1469: UserWarning: Note: Using a large maxsize for the equation search will be exponentially slower and use significant memory.\n",
      "  warnings.warn(\n",
      "/home/hien/Work/AI/SDS-CP032-mlpaygrade/.venv/lib/python3.12/site-packages/pysr/sr.py:1873: UserWarning: Note: Setting `random_state` without also setting `deterministic=True` and `parallelism='serial'` will result in non-deterministic searches.\n",
      "  warnings.warn(\n",
      "[I 2025-08-12 14:24:00,378] Trial 0 finished with value: 0.1388359347416892 and parameters: {'niterations': 155, 'population_size': 176, 'populations': 92, 'maxsize': 65, 'parsimony': 0.0886763722309148, 'ncycles_per_iteration': 1244}. Best is trial 0 with value: 0.1388359347416892.\n",
      "/home/hien/Work/AI/SDS-CP032-mlpaygrade/.venv/lib/python3.12/site-packages/pysr/sr.py:1873: UserWarning: Note: Setting `random_state` without also setting `deterministic=True` and `parallelism='serial'` will result in non-deterministic searches.\n",
      "  warnings.warn(\n",
      "[I 2025-08-12 14:25:55,760] Trial 1 finished with value: 0.13556066461496127 and parameters: {'niterations': 249, 'population_size': 112, 'populations': 45, 'maxsize': 40, 'parsimony': 0.049396403764348444, 'ncycles_per_iteration': 1822}. Best is trial 1 with value: 0.13556066461496127.\n",
      "/home/hien/Work/AI/SDS-CP032-mlpaygrade/.venv/lib/python3.12/site-packages/pysr/sr.py:1469: UserWarning: Note: Using a large maxsize for the equation search will be exponentially slower and use significant memory.\n",
      "  warnings.warn(\n",
      "/home/hien/Work/AI/SDS-CP032-mlpaygrade/.venv/lib/python3.12/site-packages/pysr/sr.py:1873: UserWarning: Note: Setting `random_state` without also setting `deterministic=True` and `parallelism='serial'` will result in non-deterministic searches.\n",
      "  warnings.warn(\n",
      "[I 2025-08-12 14:26:54,481] Trial 2 finished with value: 0.14090564211929968 and parameters: {'niterations': 145, 'population_size': 159, 'populations': 14, 'maxsize': 48, 'parsimony': 0.11944186814669285, 'ncycles_per_iteration': 1868}. Best is trial 1 with value: 0.13556066461496127.\n",
      "/home/hien/Work/AI/SDS-CP032-mlpaygrade/.venv/lib/python3.12/site-packages/pysr/sr.py:1469: UserWarning: Note: Using a large maxsize for the equation search will be exponentially slower and use significant memory.\n",
      "  warnings.warn(\n",
      "/home/hien/Work/AI/SDS-CP032-mlpaygrade/.venv/lib/python3.12/site-packages/pysr/sr.py:1873: UserWarning: Note: Setting `random_state` without also setting `deterministic=True` and `parallelism='serial'` will result in non-deterministic searches.\n",
      "  warnings.warn(\n",
      "[I 2025-08-12 14:28:46,432] Trial 3 finished with value: 0.13134336344630182 and parameters: {'niterations': 201, 'population_size': 120, 'populations': 42, 'maxsize': 78, 'parsimony': 0.07621998075295422, 'ncycles_per_iteration': 1072}. Best is trial 3 with value: 0.13134336344630182.\n",
      "/home/hien/Work/AI/SDS-CP032-mlpaygrade/.venv/lib/python3.12/site-packages/pysr/sr.py:1469: UserWarning: Note: Using a large maxsize for the equation search will be exponentially slower and use significant memory.\n",
      "  warnings.warn(\n",
      "/home/hien/Work/AI/SDS-CP032-mlpaygrade/.venv/lib/python3.12/site-packages/pysr/sr.py:1873: UserWarning: Note: Setting `random_state` without also setting `deterministic=True` and `parallelism='serial'` will result in non-deterministic searches.\n",
      "  warnings.warn(\n",
      "[I 2025-08-12 14:31:45,376] Trial 4 finished with value: 0.13614385657068673 and parameters: {'niterations': 180, 'population_size': 300, 'populations': 62, 'maxsize': 100, 'parsimony': 0.054878690259805074, 'ncycles_per_iteration': 1018}. Best is trial 3 with value: 0.13134336344630182.\n",
      "/home/hien/Work/AI/SDS-CP032-mlpaygrade/.venv/lib/python3.12/site-packages/pysr/sr.py:1469: UserWarning: Note: Using a large maxsize for the equation search will be exponentially slower and use significant memory.\n",
      "  warnings.warn(\n",
      "/home/hien/Work/AI/SDS-CP032-mlpaygrade/.venv/lib/python3.12/site-packages/pysr/sr.py:1873: UserWarning: Note: Setting `random_state` without also setting `deterministic=True` and `parallelism='serial'` will result in non-deterministic searches.\n",
      "  warnings.warn(\n",
      "[I 2025-08-12 14:34:14,940] Trial 5 finished with value: 0.14463051243063885 and parameters: {'niterations': 245, 'population_size': 277, 'populations': 58, 'maxsize': 98, 'parsimony': 0.18455514364074677, 'ncycles_per_iteration': 827}. Best is trial 3 with value: 0.13134336344630182.\n",
      "/home/hien/Work/AI/SDS-CP032-mlpaygrade/.venv/lib/python3.12/site-packages/pysr/sr.py:1469: UserWarning: Note: Using a large maxsize for the equation search will be exponentially slower and use significant memory.\n",
      "  warnings.warn(\n",
      "/home/hien/Work/AI/SDS-CP032-mlpaygrade/.venv/lib/python3.12/site-packages/pysr/sr.py:1873: UserWarning: Note: Setting `random_state` without also setting `deterministic=True` and `parallelism='serial'` will result in non-deterministic searches.\n",
      "  warnings.warn(\n",
      "[I 2025-08-12 14:35:35,819] Trial 6 finished with value: 0.13912018513878027 and parameters: {'niterations': 92, 'population_size': 271, 'populations': 14, 'maxsize': 63, 'parsimony': 0.09825670112355954, 'ncycles_per_iteration': 1936}. Best is trial 3 with value: 0.13134336344630182.\n",
      "/home/hien/Work/AI/SDS-CP032-mlpaygrade/.venv/lib/python3.12/site-packages/pysr/sr.py:1469: UserWarning: Note: Using a large maxsize for the equation search will be exponentially slower and use significant memory.\n",
      "  warnings.warn(\n",
      "/home/hien/Work/AI/SDS-CP032-mlpaygrade/.venv/lib/python3.12/site-packages/pysr/sr.py:1873: UserWarning: Note: Setting `random_state` without also setting `deterministic=True` and `parallelism='serial'` will result in non-deterministic searches.\n",
      "  warnings.warn(\n",
      "[I 2025-08-12 14:37:41,818] Trial 7 finished with value: 0.1417644721097562 and parameters: {'niterations': 200, 'population_size': 193, 'populations': 72, 'maxsize': 87, 'parsimony': 0.13288811696239686, 'ncycles_per_iteration': 773}. Best is trial 3 with value: 0.13134336344630182.\n",
      "/home/hien/Work/AI/SDS-CP032-mlpaygrade/.venv/lib/python3.12/site-packages/pysr/sr.py:1873: UserWarning: Note: Setting `random_state` without also setting `deterministic=True` and `parallelism='serial'` will result in non-deterministic searches.\n",
      "  warnings.warn(\n",
      "[I 2025-08-12 14:38:34,626] Trial 8 finished with value: 0.14094714351420964 and parameters: {'niterations': 226, 'population_size': 230, 'populations': 15, 'maxsize': 29, 'parsimony': 0.019160516605943714, 'ncycles_per_iteration': 1041}. Best is trial 3 with value: 0.13134336344630182.\n",
      "/home/hien/Work/AI/SDS-CP032-mlpaygrade/.venv/lib/python3.12/site-packages/pysr/sr.py:1469: UserWarning: Note: Using a large maxsize for the equation search will be exponentially slower and use significant memory.\n",
      "  warnings.warn(\n",
      "/home/hien/Work/AI/SDS-CP032-mlpaygrade/.venv/lib/python3.12/site-packages/pysr/sr.py:1873: UserWarning: Note: Setting `random_state` without also setting `deterministic=True` and `parallelism='serial'` will result in non-deterministic searches.\n",
      "  warnings.warn(\n",
      "[I 2025-08-12 14:40:53,184] Trial 9 finished with value: 0.1381799282366294 and parameters: {'niterations': 222, 'population_size': 300, 'populations': 32, 'maxsize': 76, 'parsimony': 0.11551919372077549, 'ncycles_per_iteration': 1038}. Best is trial 3 with value: 0.13134336344630182.\n",
      "/home/hien/Work/AI/SDS-CP032-mlpaygrade/.venv/lib/python3.12/site-packages/pysr/sr.py:1469: UserWarning: Note: Using a large maxsize for the equation search will be exponentially slower and use significant memory.\n",
      "  warnings.warn(\n",
      "/home/hien/Work/AI/SDS-CP032-mlpaygrade/.venv/lib/python3.12/site-packages/pysr/sr.py:1873: UserWarning: Note: Setting `random_state` without also setting `deterministic=True` and `parallelism='serial'` will result in non-deterministic searches.\n",
      "  warnings.warn(\n"
     ]
    },
    {
     "name": "stdout",
     "output_type": "stream",
     "text": [
      "Best hyperparameters: {'niterations': 201, 'population_size': 120, 'populations': 42, 'maxsize': 78, 'parsimony': 0.07621998075295422, 'ncycles_per_iteration': 1072}\n",
      "Best loss: 0.13134336344630182\n"
     ]
    }
   ],
   "source": [
    "output_path = output/'pysr_outputs'\n",
    "\n",
    "study, pysr_model, best_loss = sr_tuning(X_train, y_train, X_test, y_test, output_path)\n",
    "\n",
    "print(\"Best hyperparameters:\", study.best_params)\n",
    "print(\"Best loss:\", best_loss)\n"
   ]
  },
  {
   "cell_type": "code",
   "execution_count": 41,
   "id": "90399357",
   "metadata": {},
   "outputs": [
    {
     "name": "stdout",
     "output_type": "stream",
     "text": [
      "Test MSE: 0.13084103182814563\n",
      "Test RMSE: 0.36171954858446015\n",
      "Test MAE: 0.2827402595811307\n",
      "Test R2: 0.4147939630113606\n",
      "Best equation: 11.656504 - (-1)*0.10735378*(x0 + x40 + x59 - (x141 - x25 + x33 + 1.8043643) - (-1)*0.10735378*(x0 - 0.72659254*x106 + x141 + x149 + x33 - sin(0.20380472) + 1.8043643 + 2.2645884)/0.4817265 + 2.2645884)\n",
      "Test RMSE in usd: 55,028.73\n",
      "Test MSE in usd: 3,028,160,752.11\n",
      "Test MAE in usd: 40,069.31\n"
     ]
    }
   ],
   "source": [
    "symbolic_eq = pysr_model.get_best()\n",
    "best_equation = pysr_model.sympy()\n",
    "y_pred = pysr_model.predict(X_test)\n",
    "pysr_r2 = r2_score(y_test, y_pred)\n",
    "pysr_rmse = root_mean_squared_error(y_test, y_pred)\n",
    "pysr_mse = mean_squared_error(y_test, y_pred)\n",
    "pysr_mae = mean_absolute_error(y_test, y_pred)\n",
    "pysr_y_true_usd = np.exp(y_test)\n",
    "pysr_y_pred_usd = np.exp(y_pred)\n",
    "pysr_mse_usd = mean_squared_error(pysr_y_true_usd, pysr_y_pred_usd)\n",
    "pysr_rmse_usd = root_mean_squared_error(pysr_y_true_usd, pysr_y_pred_usd)\n",
    "pysr_mae_usd = mean_absolute_error(pysr_y_true_usd, pysr_y_pred_usd)\n",
    "print(\"Test MSE:\", pysr_mse)\n",
    "print(\"Test RMSE:\", pysr_rmse)\n",
    "print(\"Test MAE:\", pysr_mae)\n",
    "print(\"Test R2:\", pysr_r2)\n",
    "print(\"Best equation:\", best_equation)\n",
    "print(f\"Test RMSE in usd: {pysr_rmse_usd:,.2f}\")\n",
    "print(f\"Test MSE in usd: {pysr_mse_usd:,.2f}\")\n",
    "print(f\"Test MAE in usd: {pysr_mae_usd:,.2f}\")"
   ]
  },
  {
   "cell_type": "code",
   "execution_count": 42,
   "id": "21edf2f7",
   "metadata": {},
   "outputs": [
    {
     "name": "stdout",
     "output_type": "stream",
     "text": [
      "x0: nom__employee_continent_North America\n",
      "x25: nom__exp_level_job_SE_Others\n",
      "x33: nom__employment_type_FT\n",
      "x40: nom__exp_level_job_MI_BI\n",
      "x59: nom__work_year_econtinent_2024_Africa\n",
      "x106: nom__work_year_econtinent_2020_North America\n",
      "x141: nom__work_year_econtinent_2024_South America\n",
      "x149: nom__salary_currency_NZD\n"
     ]
    }
   ],
   "source": [
    "equation_str = str(best_equation)\n",
    "# Find all 'xNN' variable indices (NN as integer)\n",
    "variable_indices = [int(x[1:]) for x in re.findall(r'x\\d+', equation_str)]\n",
    "unique_variable_indices = sorted(set(variable_indices))\n",
    "# Print x_index and its feature name side by side\n",
    "for idx in unique_variable_indices:\n",
    "    feature_name = features.iloc[idx, 0]\n",
    "    print(f\"x{idx}: {feature_name}\")\n"
   ]
  },
  {
   "cell_type": "code",
   "execution_count": 12,
   "id": "23e18913",
   "metadata": {},
   "outputs": [
    {
     "data": {
      "text/plain": [
       "<Axes: xlabel='complexity'>"
      ]
     },
     "execution_count": 12,
     "metadata": {},
     "output_type": "execute_result"
    },
    {
     "data": {
      "image/png": "[encoded data removed]",
      "text/plain": [
       "<Figure size 640x480 with 1 Axes>"
      ]
     },
     "metadata": {},
     "output_type": "display_data"
    }
   ],
   "source": [
    "sr_training_loss = pysr_model.equations_\n",
    "sr_training_loss.plot(x=\"complexity\", y=\"loss\")"
   ]
  },
  {
   "cell_type": "code",
   "execution_count": 24,
   "id": "457bb3a8",
   "metadata": {},
   "outputs": [
    {
     "data": {
      "text/plain": [
       "['/home/hien/Work/AI/SDS-CP032-mlpaygrade/submissions/team-members/hien-nguyen/output/models/ann_regressor.joblib']"
      ]
     },
     "execution_count": 24,
     "metadata": {},
     "output_type": "execute_result"
    }
   ],
   "source": [
    "joblib.dump(pysr_model, output/\"models/pysr_regressor.joblib\")\n",
    "joblib.dump(model, output/\"models/ann_regressor.joblib\")"
   ]
  },
  {
   "cell_type": "code",
   "execution_count": 44,
   "id": "0ee6053e",
   "metadata": {},
   "outputs": [
    {
     "data": {
      "text/plain": [
       "<Experiment: artifact_location='file:///home/hien/Work/AI/SDS-CP032-mlpaygrade/submissions/team-members/hien-nguyen/mlruns/666463114177868666', creation_time=1754627494217, experiment_id='666463114177868666', last_update_time=1754627494217, lifecycle_stage='active', name='salary_prediction', tags={}>"
      ]
     },
     "execution_count": 44,
     "metadata": {},
     "output_type": "execute_result"
    }
   ],
   "source": [
    "mlflow.set_experiment(\"salary_prediction\")\n",
    "# log_to_mlflow(pysr_model, 'symbolic_regression', 'pysr', pysr_r2, pysr_rmse, pysr_mse, pysr_mae)\n",
    "# ann_params = {\n",
    "#     \"epochs\": 100,\n",
    "#     \"learning_rate\": 0.001,\n",
    "#     \"batch_size\": 32,\n",
    "#     \"optimizer\": \"Adam\"\n",
    "# }\n",
    "# log_ann_to_mlflow(model, 'deep_learning', 'mlp', ann_r2, ann_rmse, ann_mse, ann_mae, ann_params)"
   ]
  },
  {
   "cell_type": "code",
   "execution_count": 45,
   "id": "b846f122",
   "metadata": {},
   "outputs": [
    {
     "name": "stdout",
     "output_type": "stream",
     "text": [
      "[2025-08-18 12:48:09 +1200] [324817] [INFO] Starting gunicorn 23.0.0\n",
      "[2025-08-18 12:48:09 +1200] [324817] [ERROR] Connection in use: ('127.0.0.1', 5000)\n",
      "[2025-08-18 12:48:09 +1200] [324817] [ERROR] connection to ('127.0.0.1', 5000) failed: [Errno 98] Address already in use\n",
      "[2025-08-18 12:48:10 +1200] [324817] [ERROR] Connection in use: ('127.0.0.1', 5000)\n",
      "[2025-08-18 12:48:10 +1200] [324817] [ERROR] connection to ('127.0.0.1', 5000) failed: [Errno 98] Address already in use\n",
      "[2025-08-18 12:48:11 +1200] [324817] [ERROR] Connection in use: ('127.0.0.1', 5000)\n",
      "[2025-08-18 12:48:11 +1200] [324817] [ERROR] connection to ('127.0.0.1', 5000) failed: [Errno 98] Address already in use\n",
      "[2025-08-18 12:48:12 +1200] [324817] [ERROR] Connection in use: ('127.0.0.1', 5000)\n",
      "[2025-08-18 12:48:12 +1200] [324817] [ERROR] connection to ('127.0.0.1', 5000) failed: [Errno 98] Address already in use\n",
      "[2025-08-18 12:48:13 +1200] [324817] [ERROR] Connection in use: ('127.0.0.1', 5000)\n",
      "[2025-08-18 12:48:13 +1200] [324817] [ERROR] connection to ('127.0.0.1', 5000) failed: [Errno 98] Address already in use\n",
      "[2025-08-18 12:48:14 +1200] [324817] [ERROR] Can't connect to ('127.0.0.1', 5000)\n",
      "Running the mlflow server failed. Please see the logs above for details.\n"
     ]
    }
   ],
   "source": [
    "! mlflow ui"
   ]
  }
 ],
 "metadata": {
  "kernelspec": {
   "display_name": ".venv",
   "language": "python",
   "name": "python3"
  },
  "language_info": {
   "codemirror_mode": {
    "name": "ipython",
    "version": 3
   },
   "file_extension": ".py",
   "mimetype": "text/x-python",
   "name": "python",
   "nbconvert_exporter": "python",
   "pygments_lexer": "ipython3",
   "version": "3.12.3"
  }
 },
 "nbformat": 4,
 "nbformat_minor": 5
}
