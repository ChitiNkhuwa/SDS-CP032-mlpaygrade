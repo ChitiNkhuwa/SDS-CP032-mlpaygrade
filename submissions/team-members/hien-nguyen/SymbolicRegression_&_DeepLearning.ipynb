{
 "cells": [
  {
   "cell_type": "code",
   "execution_count": null,
   "id": "4fde668a",
   "metadata": {},
   "outputs": [
    {
     "name": "stderr",
     "output_type": "stream",
     "text": [
      "/home/hien/Work/AI/SDS-CP032-mlpaygrade/.venv/lib/python3.12/site-packages/juliacall/__init__.py:61: UserWarning: torch was imported before juliacall. This may cause a segfault. To avoid this, import juliacall before importing torch. For updates, see https://github.com/pytorch/pytorch/issues/78829.\n",
      "  warnings.warn(\n"
     ]
    },
    {
     "name": "stdout",
     "output_type": "stream",
     "text": [
      "Detected IPython. Loading juliacall extension. See https://juliapy.github.io/PythonCall.jl/stable/compat/#IPython\n"
     ]
    }
   ],
   "source": [
    "from pathlib import Path\n",
    "import numpy as np\n",
    "import pandas as pd\n",
    "import matplotlib.pyplot as plt\n",
    "from lib.utils import train_nn_model\n",
    "from sklearn.model_selection import train_test_split\n",
    "from sklearn.preprocessing import LabelEncoder, OrdinalEncoder, StandardScaler\n",
    "from sklearn.compose import ColumnTransformer\n",
    "from sklearn.metrics import mean_squared_error, r2_score, root_mean_squared_error\n",
    "import torch\n",
    "import torch.nn as nn\n",
    "import torch.nn.functional as F\n",
    "import torch.optim as optim\n",
    "from torch.utils.data import TensorDataset\n",
    "from torch.utils.data import DataLoader\n",
    "from pysr import PySRRegressor"
   ]
  },
  {
   "cell_type": "code",
   "execution_count": null,
   "id": "1272b164",
   "metadata": {},
   "outputs": [],
   "source": [
    "cwd = Path.cwd()\n",
    "source_data = Path(cwd)/\"data\"\n",
    "output = Path(cwd)/\"output\"\n",
    "preprocessed_data = cwd/'output/preprocessed_data'"
   ]
  },
  {
   "cell_type": "markdown",
   "id": "44fdc28f",
   "metadata": {},
   "source": [
    "# Loading Dataset"
   ]
  },
  {
   "cell_type": "code",
   "execution_count": 3,
   "id": "87a7337c",
   "metadata": {},
   "outputs": [
    {
     "name": "stdout",
     "output_type": "stream",
     "text": [
      "<class 'pandas.core.frame.DataFrame'>\n",
      "RangeIndex: 16494 entries, 0 to 16493\n",
      "Data columns (total 19 columns):\n",
      " #   Column                Non-Null Count  Dtype  \n",
      "---  ------                --------------  -----  \n",
      " 0   experience_level      16494 non-null  object \n",
      " 1   company_size          16494 non-null  object \n",
      " 2   work_year             16494 non-null  object \n",
      " 3   remote_ratio          16494 non-null  object \n",
      " 4   salary_currency       16494 non-null  object \n",
      " 5   employment_type       16494 non-null  object \n",
      " 6   job_type              16494 non-null  object \n",
      " 7   employee_continent    16494 non-null  object \n",
      " 8   company_continent     16494 non-null  object \n",
      " 9   job_level             16494 non-null  object \n",
      " 10  exp_level_job         16494 non-null  object \n",
      " 11  exp_level_econtinent  16494 non-null  object \n",
      " 12  job_level_exp         16494 non-null  object \n",
      " 13  work_year_econtinent  16494 non-null  object \n",
      " 14  kmeans_group          16494 non-null  object \n",
      " 15  same_continent        16494 non-null  int64  \n",
      " 16  job_title_popularity  16494 non-null  int64  \n",
      " 17  GDP_USD               16494 non-null  float64\n",
      " 18  log_salaries          16494 non-null  float64\n",
      "dtypes: float64(2), int64(2), object(15)\n",
      "memory usage: 2.4+ MB\n"
     ]
    }
   ],
   "source": [
    "salaries = pd.read_parquet(preprocessed_data/'preprocessed_data.parquet')\n",
    "salaries.info()"
   ]
  },
  {
   "cell_type": "code",
   "execution_count": 4,
   "id": "b69755ce",
   "metadata": {},
   "outputs": [],
   "source": [
    "X_train = np.load(preprocessed_data/'preprocessed_X_train.npy')\n",
    "y_train = np.load(preprocessed_data/'preprocessed_y_train.npy')\n",
    "X_test = np.load(preprocessed_data/'preprocessed_X_test.npy')\n",
    "y_test = np.load(preprocessed_data/'preprocessed_y_test.npy')"
   ]
  },
  {
   "cell_type": "markdown",
   "id": "5375f97e",
   "metadata": {},
   "source": [
    "# Deep Learning"
   ]
  },
  {
   "cell_type": "code",
   "execution_count": 5,
   "id": "44e907ea",
   "metadata": {},
   "outputs": [],
   "source": [
    "class ANNModel(nn.Module):\n",
    "    def __init__(self, input_dim):\n",
    "        super(ANNModel, self).__init__()\n",
    "        self.fc1 = nn.Linear(input_dim, 128)\n",
    "        self.dropout1 = nn.Dropout(0.2)\n",
    "        self.fc2 = nn.Linear(128, 64)\n",
    "        self.dropout2 = nn.Dropout(0.2)\n",
    "        self.fc3 = nn.Linear(64, 32)\n",
    "        self.dropout3 = nn.Dropout(0.2)\n",
    "        self.fc4 = nn.Linear(32, 1)\n",
    "\n",
    "    def forward(self, x):\n",
    "        x = F.relu(self.fc1(x))\n",
    "        x = self.dropout1(x)\n",
    "        x = F.relu(self.fc2(x))\n",
    "        x = self.dropout2(x)\n",
    "        x = F.relu(self.fc3(x))\n",
    "        x = self.dropout3(x)\n",
    "        x = self.fc4(x)\n",
    "        return x"
   ]
  },
  {
   "cell_type": "code",
   "execution_count": 6,
   "id": "b85f1e5b",
   "metadata": {},
   "outputs": [],
   "source": [
    "X_train_tensor = torch.from_numpy(X_train).float()\n",
    "y_train_tensor = torch.from_numpy(y_train).float().unsqueeze(1)  # ensures shape (N, 1)\n",
    "X_test_tensor = torch.from_numpy(X_test).float()\n",
    "y_test_tensor = torch.from_numpy(y_test).float().unsqueeze(1)\n",
    "train_dataset = TensorDataset(X_train_tensor, y_train_tensor)\n",
    "test_dataset = TensorDataset(X_test_tensor, y_test_tensor)\n",
    "train_loader = DataLoader(train_dataset, batch_size=32, shuffle=True)\n",
    "test_loader = DataLoader(test_dataset, batch_size=32, shuffle=False)"
   ]
  },
  {
   "cell_type": "code",
   "execution_count": null,
   "id": "f44eb096",
   "metadata": {},
   "outputs": [
    {
     "name": "stdout",
     "output_type": "stream",
     "text": [
      "Epoch [1/100], Train Loss: 13.9620, Test Loss: 0.6532\n",
      "Epoch [2/100], Train Loss: 3.6056, Test Loss: 0.6198\n",
      "Epoch [3/100], Train Loss: 3.2712, Test Loss: 0.3510\n",
      "Epoch [4/100], Train Loss: 3.0662, Test Loss: 0.3522\n",
      "Epoch [5/100], Train Loss: 2.9762, Test Loss: 0.5212\n",
      "Epoch [6/100], Train Loss: 2.8925, Test Loss: 0.3101\n",
      "Epoch [7/100], Train Loss: 2.6820, Test Loss: 0.2799\n",
      "Epoch [8/100], Train Loss: 2.5792, Test Loss: 0.3139\n",
      "Epoch [9/100], Train Loss: 2.4171, Test Loss: 0.2489\n",
      "Epoch [10/100], Train Loss: 2.3041, Test Loss: 0.1983\n",
      "Epoch [11/100], Train Loss: 2.1383, Test Loss: 0.3465\n",
      "Epoch [12/100], Train Loss: 2.0757, Test Loss: 0.2099\n",
      "Epoch [13/100], Train Loss: 1.9461, Test Loss: 0.1731\n",
      "Epoch [14/100], Train Loss: 1.7751, Test Loss: 0.1604\n",
      "Epoch [15/100], Train Loss: 1.6793, Test Loss: 0.2094\n",
      "Epoch [16/100], Train Loss: 1.5736, Test Loss: 0.1792\n",
      "Epoch [17/100], Train Loss: 1.4936, Test Loss: 0.2432\n",
      "Epoch [18/100], Train Loss: 1.4242, Test Loss: 0.1431\n",
      "Epoch [19/100], Train Loss: 1.3333, Test Loss: 0.1756\n",
      "Epoch [20/100], Train Loss: 1.2777, Test Loss: 0.1483\n",
      "Epoch [21/100], Train Loss: 1.2280, Test Loss: 0.1402\n",
      "Epoch [22/100], Train Loss: 1.1521, Test Loss: 0.1415\n",
      "Epoch [23/100], Train Loss: 1.1312, Test Loss: 0.1312\n",
      "Epoch [24/100], Train Loss: 1.0409, Test Loss: 0.1287\n",
      "Epoch [25/100], Train Loss: 0.9713, Test Loss: 0.1461\n",
      "Epoch [26/100], Train Loss: 0.9542, Test Loss: 0.1244\n",
      "Epoch [27/100], Train Loss: 0.8988, Test Loss: 0.1276\n",
      "Epoch [28/100], Train Loss: 0.8735, Test Loss: 0.1249\n",
      "Epoch [29/100], Train Loss: 0.8412, Test Loss: 0.1321\n",
      "Epoch [30/100], Train Loss: 0.7774, Test Loss: 0.1298\n",
      "Epoch [31/100], Train Loss: 0.7217, Test Loss: 0.1209\n",
      "Epoch [32/100], Train Loss: 0.7050, Test Loss: 0.1239\n",
      "Epoch [33/100], Train Loss: 0.6611, Test Loss: 0.1328\n",
      "Epoch [34/100], Train Loss: 0.6005, Test Loss: 0.1394\n",
      "Epoch [35/100], Train Loss: 0.5905, Test Loss: 0.1496\n",
      "Epoch [36/100], Train Loss: 0.5673, Test Loss: 0.1443\n",
      "Epoch [37/100], Train Loss: 0.5366, Test Loss: 0.1310\n",
      "Epoch [38/100], Train Loss: 0.5267, Test Loss: 0.1312\n",
      "Epoch [39/100], Train Loss: 0.4953, Test Loss: 0.1369\n",
      "Epoch [40/100], Train Loss: 0.4896, Test Loss: 0.1285\n",
      "Epoch [41/100], Train Loss: 0.4472, Test Loss: 0.1260\n",
      "Epoch [42/100], Train Loss: 0.4412, Test Loss: 0.1272\n",
      "Epoch [43/100], Train Loss: 0.4100, Test Loss: 0.1235\n",
      "Epoch [44/100], Train Loss: 0.3972, Test Loss: 0.1236\n",
      "Epoch [45/100], Train Loss: 0.3899, Test Loss: 0.1356\n",
      "Epoch [46/100], Train Loss: 0.3686, Test Loss: 0.1295\n",
      "Epoch [47/100], Train Loss: 0.3489, Test Loss: 0.1223\n",
      "Epoch [48/100], Train Loss: 0.3291, Test Loss: 0.1257\n",
      "Epoch [49/100], Train Loss: 0.3166, Test Loss: 0.1259\n",
      "Epoch [50/100], Train Loss: 0.3014, Test Loss: 0.1258\n",
      "Epoch [51/100], Train Loss: 0.2894, Test Loss: 0.1350\n",
      "Epoch [52/100], Train Loss: 0.2762, Test Loss: 0.1231\n",
      "Epoch [53/100], Train Loss: 0.2641, Test Loss: 0.1211\n",
      "Epoch [54/100], Train Loss: 0.2529, Test Loss: 0.1225\n",
      "Epoch [55/100], Train Loss: 0.2461, Test Loss: 0.1231\n",
      "Epoch [56/100], Train Loss: 0.2370, Test Loss: 0.1200\n",
      "Epoch [57/100], Train Loss: 0.2222, Test Loss: 0.1261\n",
      "Epoch [58/100], Train Loss: 0.2134, Test Loss: 0.1201\n",
      "Epoch [59/100], Train Loss: 0.2076, Test Loss: 0.1204\n",
      "Epoch [60/100], Train Loss: 0.1966, Test Loss: 0.1249\n",
      "Epoch [61/100], Train Loss: 0.1884, Test Loss: 0.1198\n",
      "Epoch [62/100], Train Loss: 0.1838, Test Loss: 0.1192\n",
      "Epoch [63/100], Train Loss: 0.1820, Test Loss: 0.1185\n",
      "Epoch [64/100], Train Loss: 0.1756, Test Loss: 0.1207\n",
      "Epoch [65/100], Train Loss: 0.1710, Test Loss: 0.1238\n",
      "Epoch [66/100], Train Loss: 0.1655, Test Loss: 0.1227\n",
      "Epoch [67/100], Train Loss: 0.1604, Test Loss: 0.1217\n",
      "Epoch [68/100], Train Loss: 0.1578, Test Loss: 0.1206\n",
      "Epoch [69/100], Train Loss: 0.1535, Test Loss: 0.1214\n",
      "Epoch [70/100], Train Loss: 0.1525, Test Loss: 0.1199\n",
      "Epoch [71/100], Train Loss: 0.1476, Test Loss: 0.1205\n",
      "Epoch [72/100], Train Loss: 0.1455, Test Loss: 0.1201\n",
      "Epoch [73/100], Train Loss: 0.1445, Test Loss: 0.1214\n",
      "Epoch [74/100], Train Loss: 0.1418, Test Loss: 0.1264\n",
      "Epoch [75/100], Train Loss: 0.1383, Test Loss: 0.1209\n",
      "Epoch [76/100], Train Loss: 0.1368, Test Loss: 0.1199\n",
      "Epoch [77/100], Train Loss: 0.1377, Test Loss: 0.1203\n",
      "Epoch [78/100], Train Loss: 0.1348, Test Loss: 0.1217\n",
      "Epoch [79/100], Train Loss: 0.1333, Test Loss: 0.1182\n",
      "Epoch [80/100], Train Loss: 0.1329, Test Loss: 0.1197\n",
      "Epoch [81/100], Train Loss: 0.1316, Test Loss: 0.1197\n",
      "Epoch [82/100], Train Loss: 0.1306, Test Loss: 0.1183\n",
      "Epoch [83/100], Train Loss: 0.1295, Test Loss: 0.1205\n",
      "Epoch [84/100], Train Loss: 0.1301, Test Loss: 0.1206\n",
      "Epoch [85/100], Train Loss: 0.1290, Test Loss: 0.1213\n",
      "Epoch [86/100], Train Loss: 0.1281, Test Loss: 0.1197\n",
      "Epoch [87/100], Train Loss: 0.1284, Test Loss: 0.1196\n",
      "Epoch [88/100], Train Loss: 0.1282, Test Loss: 0.1189\n",
      "Epoch [89/100], Train Loss: 0.1282, Test Loss: 0.1192\n",
      "Epoch [90/100], Train Loss: 0.1275, Test Loss: 0.1196\n",
      "Epoch [91/100], Train Loss: 0.1264, Test Loss: 0.1199\n",
      "Epoch [92/100], Train Loss: 0.1255, Test Loss: 0.1234\n",
      "Epoch [93/100], Train Loss: 0.1262, Test Loss: 0.1204\n",
      "Epoch [94/100], Train Loss: 0.1264, Test Loss: 0.1210\n",
      "Epoch [95/100], Train Loss: 0.1258, Test Loss: 0.1195\n",
      "Epoch [96/100], Train Loss: 0.1242, Test Loss: 0.1206\n",
      "Epoch [97/100], Train Loss: 0.1254, Test Loss: 0.1203\n",
      "Epoch [98/100], Train Loss: 0.1243, Test Loss: 0.1200\n",
      "Epoch [99/100], Train Loss: 0.1236, Test Loss: 0.1197\n",
      "Epoch [100/100], Train Loss: 0.1247, Test Loss: 0.1203\n"
     ]
    },
    {
     "data": {
      "image/png": "[encoded data removed]",
      "text/plain": [
       "<Figure size 640x480 with 1 Axes>"
      ]
     },
     "metadata": {},
     "output_type": "display_data"
    }
   ],
   "source": [
    "device = torch.device('cuda' if torch.cuda.is_available() else 'cpu')\n",
    "model = ANNModel(input_dim=X_train.shape[1])\n",
    "criterion = nn.MSELoss()\n",
    "optimizer = optim.Adam(model.parameters(), lr=0.001)\n",
    "\n",
    "train_losses, test_losses = train_nn_model(model, train_loader, test_loader,\n",
    "                                       criterion, optimizer, device, num_epochs=100)\n",
    "\n",
    "plt.plot(train_losses, label='Train Loss')\n",
    "plt.plot(test_losses, label='Test Loss')\n",
    "plt.xlabel('Epochs')\n",
    "plt.ylabel('Loss')\n",
    "plt.legend()\n",
    "plt.show()\n"
   ]
  },
  {
   "cell_type": "markdown",
   "id": "82c04f7d",
   "metadata": {},
   "source": [
    "# Symbolic Regression"
   ]
  },
  {
   "cell_type": "code",
   "execution_count": null,
   "id": "3287a133",
   "metadata": {},
   "outputs": [],
   "source": [
    "pysr_model = PySRRegressor(\n",
    "    model_selection='accuracy',\n",
    "    niterations=1,  # Adjust this based on needs\n",
    "    binary_operators=['+', '*', '-', '/'],\n",
    "    unary_operators=['cos', 'exp', 'sin', 'log'],\n",
    "    loss=\"loss(x, y) = (x - y)^2\",  # MSE loss,,\n",
    "    populations=300, # Adjust this based on needs,\n",
    "    population_size=500, # Adjust this based on needs,\n",
    "    ncyclesperiteration=1000,\n",
    "    maxsize=200, # Adjust this based on needs\n",
    "    batching=True,\n",
    "    nested_constraints={\"sin\": {\"sin\": 0, \"cos\": 0}, \"cos\": {\"sin\": 0, \"cos\": 0}},\n",
    "    parsimony=0.20,\n",
    "    bumper=True,\n",
    "    verbosity=0,\n",
    "    progress=False,\n",
    "    procs=100,\n",
    "    output_directory=output/'pysr_outputs'\n",
    ")\n",
    "\n",
    "pysr_model.fit(X_train, y_train)"
   ]
  },
  {
   "cell_type": "code",
   "execution_count": null,
   "id": "90399357",
   "metadata": {},
   "outputs": [
    {
     "name": "stdout",
     "output_type": "stream",
     "text": [
      "Best equation: cos(x107*x54)*cos(x107*x141*x40 + 0.169984640067597) + 10.97349235\n",
      "Test MSE: 0.14757214478730887\n",
      "Test RMSE: 0.3841512004241414\n",
      "Test R2: 0.3399615639356529\n"
     ]
    }
   ],
   "source": [
    "symbolic_eq = pysr_model.get_best()\n",
    "best_equation = pysr_model.sympy()\n",
    "y_pred = pysr_model.predict(X_test)\n",
    "print(\"Test MSE:\", mean_squared_error(y_test, y_pred))\n",
    "print(\"Test RMSE:\", root_mean_squared_error(y_test, y_pred))\n",
    "print(\"Test R2:\", r2_score(y_test, y_pred))\n",
    "print(\"Best equation:\", best_equation)\n"
   ]
  },
  {
   "cell_type": "code",
   "execution_count": null,
   "id": "cd0a2a77",
   "metadata": {},
   "outputs": [],
   "source": [
    "symbolic_eq"
   ]
  },
  {
   "cell_type": "code",
   "execution_count": null,
   "id": "23e18913",
   "metadata": {},
   "outputs": [
    {
     "ename": "AttributeError",
     "evalue": "'ANNModel' object has no attribute 'equations_'",
     "output_type": "error",
     "traceback": [
      "\u001b[31m---------------------------------------------------------------------------\u001b[39m",
      "\u001b[31mAttributeError\u001b[39m                            Traceback (most recent call last)",
      "\u001b[36mCell\u001b[39m\u001b[36m \u001b[39m\u001b[32mIn[11]\u001b[39m\u001b[32m, line 1\u001b[39m\n\u001b[32m----> \u001b[39m\u001b[32m1\u001b[39m sr_training_loss = \u001b[43mmodel\u001b[49m\u001b[43m.\u001b[49m\u001b[43mequations_\u001b[49m\n\u001b[32m      2\u001b[39m sr_training_loss.plot(x=\u001b[33m\"\u001b[39m\u001b[33mcomplexity\u001b[39m\u001b[33m\"\u001b[39m, y=\u001b[33m\"\u001b[39m\u001b[33mloss\u001b[39m\u001b[33m\"\u001b[39m)\n",
      "\u001b[36mFile \u001b[39m\u001b[32m~/Work/AI/SDS-CP032-mlpaygrade/.venv/lib/python3.12/site-packages/torch/nn/modules/module.py:1962\u001b[39m, in \u001b[36mModule.__getattr__\u001b[39m\u001b[34m(self, name)\u001b[39m\n\u001b[32m   1960\u001b[39m     \u001b[38;5;28;01mif\u001b[39;00m name \u001b[38;5;129;01min\u001b[39;00m modules:\n\u001b[32m   1961\u001b[39m         \u001b[38;5;28;01mreturn\u001b[39;00m modules[name]\n\u001b[32m-> \u001b[39m\u001b[32m1962\u001b[39m \u001b[38;5;28;01mraise\u001b[39;00m \u001b[38;5;167;01mAttributeError\u001b[39;00m(\n\u001b[32m   1963\u001b[39m     \u001b[33mf\u001b[39m\u001b[33m\"\u001b[39m\u001b[33m'\u001b[39m\u001b[38;5;132;01m{\u001b[39;00m\u001b[38;5;28mtype\u001b[39m(\u001b[38;5;28mself\u001b[39m).\u001b[34m__name__\u001b[39m\u001b[38;5;132;01m}\u001b[39;00m\u001b[33m'\u001b[39m\u001b[33m object has no attribute \u001b[39m\u001b[33m'\u001b[39m\u001b[38;5;132;01m{\u001b[39;00mname\u001b[38;5;132;01m}\u001b[39;00m\u001b[33m'\u001b[39m\u001b[33m\"\u001b[39m\n\u001b[32m   1964\u001b[39m )\n",
      "\u001b[31mAttributeError\u001b[39m: 'ANNModel' object has no attribute 'equations_'"
     ]
    }
   ],
   "source": [
    "sr_training_loss = pysr_model.equations_\n",
    "sr_training_loss.plot(x=\"complexity\", y=\"loss\")"
   ]
  }
 ],
 "metadata": {
  "kernelspec": {
   "display_name": ".venv",
   "language": "python",
   "name": "python3"
  },
  "language_info": {
   "codemirror_mode": {
    "name": "ipython",
    "version": 3
   },
   "file_extension": ".py",
   "mimetype": "text/x-python",
   "name": "python",
   "nbconvert_exporter": "python",
   "pygments_lexer": "ipython3",
   "version": "3.12.3"
  }
 },
 "nbformat": 4,
 "nbformat_minor": 5
}
