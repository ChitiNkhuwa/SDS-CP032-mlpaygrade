{
 "cells": [
  {
   "cell_type": "code",
   "execution_count": 1,
   "id": "25652646",
   "metadata": {},
   "outputs": [],
   "source": [
    "import pandas as pd\n",
    "import matplotlib.pyplot as plt\n",
    "from pathlib import Path\n",
    "import seaborn as sns"
   ]
  },
  {
   "cell_type": "code",
   "execution_count": 2,
   "id": "88d889e9",
   "metadata": {},
   "outputs": [],
   "source": [
    "cwd = Path.cwd()\n",
    "source_data = Path(cwd)/\"data\""
   ]
  },
  {
   "cell_type": "markdown",
   "id": "ab921e32",
   "metadata": {},
   "source": [
    "# Exploratory Data Analysis"
   ]
  },
  {
   "cell_type": "code",
   "execution_count": 3,
   "id": "37492cad",
   "metadata": {},
   "outputs": [],
   "source": [
    "salaries = pd.read_csv(source_data/\"salaries.csv\")"
   ]
  },
  {
   "cell_type": "code",
   "execution_count": 4,
   "id": "570df2bc",
   "metadata": {},
   "outputs": [
    {
     "name": "stdout",
     "output_type": "stream",
     "text": [
      "<class 'pandas.core.frame.DataFrame'>\n",
      "RangeIndex: 16494 entries, 0 to 16493\n",
      "Data columns (total 11 columns):\n",
      " #   Column              Non-Null Count  Dtype \n",
      "---  ------              --------------  ----- \n",
      " 0   work_year           16494 non-null  int64 \n",
      " 1   experience_level    16494 non-null  object\n",
      " 2   employment_type     16494 non-null  object\n",
      " 3   job_title           16494 non-null  object\n",
      " 4   salary              16494 non-null  int64 \n",
      " 5   salary_currency     16494 non-null  object\n",
      " 6   salary_in_usd       16494 non-null  int64 \n",
      " 7   employee_residence  16494 non-null  object\n",
      " 8   remote_ratio        16494 non-null  int64 \n",
      " 9   company_location    16494 non-null  object\n",
      " 10  company_size        16494 non-null  object\n",
      "dtypes: int64(4), object(7)\n",
      "memory usage: 1.4+ MB\n"
     ]
    }
   ],
   "source": [
    "salaries.info()"
   ]
  },
  {
   "cell_type": "code",
   "execution_count": 5,
   "id": "f70d8b39",
   "metadata": {},
   "outputs": [
    {
     "data": {
      "text/html": [
       "<div>\n",
       "<style scoped>\n",
       "    .dataframe tbody tr th:only-of-type {\n",
       "        vertical-align: middle;\n",
       "    }\n",
       "\n",
       "    .dataframe tbody tr th {\n",
       "        vertical-align: top;\n",
       "    }\n",
       "\n",
       "    .dataframe thead th {\n",
       "        text-align: right;\n",
       "    }\n",
       "</style>\n",
       "<table border=\"1\" class=\"dataframe\">\n",
       "  <thead>\n",
       "    <tr style=\"text-align: right;\">\n",
       "      <th></th>\n",
       "      <th>work_year</th>\n",
       "      <th>experience_level</th>\n",
       "      <th>employment_type</th>\n",
       "      <th>job_title</th>\n",
       "      <th>employee_residence</th>\n",
       "      <th>remote_ratio</th>\n",
       "      <th>company_location</th>\n",
       "      <th>company_size</th>\n",
       "      <th>salary_in_usd</th>\n",
       "    </tr>\n",
       "  </thead>\n",
       "  <tbody>\n",
       "    <tr>\n",
       "      <th>0</th>\n",
       "      <td>2024</td>\n",
       "      <td>MI</td>\n",
       "      <td>FT</td>\n",
       "      <td>Data Scientist</td>\n",
       "      <td>AU</td>\n",
       "      <td>0</td>\n",
       "      <td>AU</td>\n",
       "      <td>S</td>\n",
       "      <td>120000</td>\n",
       "    </tr>\n",
       "    <tr>\n",
       "      <th>1</th>\n",
       "      <td>2024</td>\n",
       "      <td>MI</td>\n",
       "      <td>FT</td>\n",
       "      <td>Data Scientist</td>\n",
       "      <td>AU</td>\n",
       "      <td>0</td>\n",
       "      <td>AU</td>\n",
       "      <td>S</td>\n",
       "      <td>70000</td>\n",
       "    </tr>\n",
       "    <tr>\n",
       "      <th>2</th>\n",
       "      <td>2024</td>\n",
       "      <td>MI</td>\n",
       "      <td>CT</td>\n",
       "      <td>Data Scientist</td>\n",
       "      <td>US</td>\n",
       "      <td>0</td>\n",
       "      <td>US</td>\n",
       "      <td>M</td>\n",
       "      <td>130000</td>\n",
       "    </tr>\n",
       "    <tr>\n",
       "      <th>3</th>\n",
       "      <td>2024</td>\n",
       "      <td>MI</td>\n",
       "      <td>CT</td>\n",
       "      <td>Data Scientist</td>\n",
       "      <td>US</td>\n",
       "      <td>0</td>\n",
       "      <td>US</td>\n",
       "      <td>M</td>\n",
       "      <td>110000</td>\n",
       "    </tr>\n",
       "    <tr>\n",
       "      <th>4</th>\n",
       "      <td>2024</td>\n",
       "      <td>MI</td>\n",
       "      <td>FT</td>\n",
       "      <td>Data Science Manager</td>\n",
       "      <td>US</td>\n",
       "      <td>0</td>\n",
       "      <td>US</td>\n",
       "      <td>M</td>\n",
       "      <td>240000</td>\n",
       "    </tr>\n",
       "    <tr>\n",
       "      <th>...</th>\n",
       "      <td>...</td>\n",
       "      <td>...</td>\n",
       "      <td>...</td>\n",
       "      <td>...</td>\n",
       "      <td>...</td>\n",
       "      <td>...</td>\n",
       "      <td>...</td>\n",
       "      <td>...</td>\n",
       "      <td>...</td>\n",
       "    </tr>\n",
       "    <tr>\n",
       "      <th>16489</th>\n",
       "      <td>2020</td>\n",
       "      <td>SE</td>\n",
       "      <td>FT</td>\n",
       "      <td>Data Scientist</td>\n",
       "      <td>US</td>\n",
       "      <td>100</td>\n",
       "      <td>US</td>\n",
       "      <td>L</td>\n",
       "      <td>412000</td>\n",
       "    </tr>\n",
       "    <tr>\n",
       "      <th>16490</th>\n",
       "      <td>2021</td>\n",
       "      <td>MI</td>\n",
       "      <td>FT</td>\n",
       "      <td>Principal Data Scientist</td>\n",
       "      <td>US</td>\n",
       "      <td>100</td>\n",
       "      <td>US</td>\n",
       "      <td>L</td>\n",
       "      <td>151000</td>\n",
       "    </tr>\n",
       "    <tr>\n",
       "      <th>16491</th>\n",
       "      <td>2020</td>\n",
       "      <td>EN</td>\n",
       "      <td>FT</td>\n",
       "      <td>Data Scientist</td>\n",
       "      <td>US</td>\n",
       "      <td>100</td>\n",
       "      <td>US</td>\n",
       "      <td>S</td>\n",
       "      <td>105000</td>\n",
       "    </tr>\n",
       "    <tr>\n",
       "      <th>16492</th>\n",
       "      <td>2020</td>\n",
       "      <td>EN</td>\n",
       "      <td>CT</td>\n",
       "      <td>Business Data Analyst</td>\n",
       "      <td>US</td>\n",
       "      <td>100</td>\n",
       "      <td>US</td>\n",
       "      <td>L</td>\n",
       "      <td>100000</td>\n",
       "    </tr>\n",
       "    <tr>\n",
       "      <th>16493</th>\n",
       "      <td>2021</td>\n",
       "      <td>SE</td>\n",
       "      <td>FT</td>\n",
       "      <td>Data Science Manager</td>\n",
       "      <td>IN</td>\n",
       "      <td>50</td>\n",
       "      <td>IN</td>\n",
       "      <td>L</td>\n",
       "      <td>94665</td>\n",
       "    </tr>\n",
       "  </tbody>\n",
       "</table>\n",
       "<p>16494 rows × 9 columns</p>\n",
       "</div>"
      ],
      "text/plain": [
       "       work_year experience_level employment_type                 job_title  \\\n",
       "0           2024               MI              FT            Data Scientist   \n",
       "1           2024               MI              FT            Data Scientist   \n",
       "2           2024               MI              CT            Data Scientist   \n",
       "3           2024               MI              CT            Data Scientist   \n",
       "4           2024               MI              FT      Data Science Manager   \n",
       "...          ...              ...             ...                       ...   \n",
       "16489       2020               SE              FT            Data Scientist   \n",
       "16490       2021               MI              FT  Principal Data Scientist   \n",
       "16491       2020               EN              FT            Data Scientist   \n",
       "16492       2020               EN              CT     Business Data Analyst   \n",
       "16493       2021               SE              FT      Data Science Manager   \n",
       "\n",
       "      employee_residence  remote_ratio company_location company_size  \\\n",
       "0                     AU             0               AU            S   \n",
       "1                     AU             0               AU            S   \n",
       "2                     US             0               US            M   \n",
       "3                     US             0               US            M   \n",
       "4                     US             0               US            M   \n",
       "...                  ...           ...              ...          ...   \n",
       "16489                 US           100               US            L   \n",
       "16490                 US           100               US            L   \n",
       "16491                 US           100               US            S   \n",
       "16492                 US           100               US            L   \n",
       "16493                 IN            50               IN            L   \n",
       "\n",
       "       salary_in_usd  \n",
       "0             120000  \n",
       "1              70000  \n",
       "2             130000  \n",
       "3             110000  \n",
       "4             240000  \n",
       "...              ...  \n",
       "16489         412000  \n",
       "16490         151000  \n",
       "16491         105000  \n",
       "16492         100000  \n",
       "16493          94665  \n",
       "\n",
       "[16494 rows x 9 columns]"
      ]
     },
     "execution_count": 5,
     "metadata": {},
     "output_type": "execute_result"
    }
   ],
   "source": [
    "salaries = salaries[['work_year', 'experience_level', 'employment_type', 'job_title',\n",
    "                      'employee_residence', 'remote_ratio', 'company_location', 'company_size',\n",
    "                      'salary_in_usd']]\n",
    "salaries"
   ]
  },
  {
   "cell_type": "code",
   "execution_count": 6,
   "id": "6416c82c",
   "metadata": {},
   "outputs": [
    {
     "name": "stdout",
     "output_type": "stream",
     "text": [
      "[2024 2022 2023 2020 2021]\n",
      "['MI' 'SE' 'EN' 'EX']\n",
      "['FT' 'CT' 'PT' 'FL']\n",
      "['Data Scientist' 'Data Science Manager' 'Business Intelligence Engineer'\n",
      " 'Data Architect' 'Data Analyst' 'Business Intelligence' 'ML Engineer'\n",
      " 'Data Modeler' 'Machine Learning Engineer' 'Data Integration Specialist'\n",
      " 'Research Scientist' 'Data Engineer' 'Data Product Manager'\n",
      " 'Data Manager' 'Data Visualization Specialist' 'Data Science'\n",
      " 'Data Specialist' 'Business Intelligence Lead' 'Research Analyst'\n",
      " 'Business Intelligence Analyst' 'AI Engineer' 'AI Software Engineer'\n",
      " 'Machine Learning Scientist' 'Data Science Engineer' 'Applied Scientist'\n",
      " 'Machine Learning Operations Engineer' 'Analytics Engineer'\n",
      " 'Data Management Analyst' 'Encounter Data Management Professional'\n",
      " 'Data Analytics Specialist' 'Head of Data' 'Data Analytics Lead'\n",
      " 'Research Engineer' 'AI Scientist' 'Business Intelligence Developer'\n",
      " 'Machine Learning Developer' 'Data Management Specialist'\n",
      " 'Data Infrastructure Engineer' 'BI Developer' 'Admin & Data Analyst'\n",
      " 'Insight Analyst' 'Consultant Data Engineer'\n",
      " 'Business Intelligence Manager' 'Manager Data Management'\n",
      " 'Data Quality Manager' 'Data Analytics Manager' 'Robotics Engineer'\n",
      " 'Business Intelligence Specialist' 'Data Operations Analyst'\n",
      " 'Director of Business Intelligence' 'Data Product Owner'\n",
      " 'Data Operations Manager' 'AI Research Scientist'\n",
      " 'Data Operations Specialist' 'Bear Robotics' 'Data Science Consultant'\n",
      " 'Data Lead' 'Data Operations Associate' 'AI Architect'\n",
      " 'Lead Data Scientist' 'MLOps Engineer' 'BI Analyst'\n",
      " 'Applied Research Scientist' 'Prompt Engineer'\n",
      " 'Data Integration Engineer' 'Machine Learning Infrastructure Engineer'\n",
      " 'Data Developer' 'CRM Data Analyst' 'ETL Developer'\n",
      " 'Cloud Database Engineer' 'Data Science Analyst'\n",
      " 'Data Science Practitioner' 'BI Data Analyst' 'Applied Data Scientist'\n",
      " 'Data Quality Engineer' 'Computational Biologist' 'Big Data Engineer'\n",
      " 'Data Analytics Associate' 'Data Reporting Analyst'\n",
      " 'Data Management Consultant' 'Data Quality Analyst'\n",
      " 'Robotics Software Engineer' 'Machine Learning Researcher'\n",
      " 'Data DevOps Engineer' 'Data Science Director' 'Data Strategist'\n",
      " 'Big Data Developer' 'Quantitative Research Analyst'\n",
      " 'Lead Machine Learning Engineer' 'Machine Learning Research Engineer'\n",
      " 'Data Analytics Consultant' 'AI Research Engineer' 'AI Programmer'\n",
      " 'ETL Engineer' 'AI Product Manager' 'AI Developer'\n",
      " 'Computer Vision Engineer' 'Head of Machine Learning' 'Data Analyst Lead'\n",
      " 'Data Integration Developer' 'ML Ops Engineer' 'Data Pipeline Engineer'\n",
      " 'Lead Data Analyst' 'Data Science Lead' 'Director of Data Science'\n",
      " 'Managing Director Data Science' 'Business Data Analyst' 'NLP Engineer'\n",
      " 'Marketing Data Scientist' 'Deep Learning Engineer'\n",
      " 'Machine Learning Modeler' 'Decision Scientist' 'Financial Data Analyst'\n",
      " 'Data Strategy Manager' 'Data Visualization Engineer'\n",
      " 'Azure Data Engineer' 'Principal Data Scientist' 'Staff Data Analyst'\n",
      " 'Machine Learning Software Engineer' 'Applied Machine Learning Scientist'\n",
      " 'Data Operations Engineer' 'Machine Learning Manager'\n",
      " 'Principal Machine Learning Engineer' 'Principal Data Engineer'\n",
      " 'Power BI Developer' 'Head of Data Science'\n",
      " 'Staff Machine Learning Engineer' 'Staff Data Scientist'\n",
      " 'Machine Learning Specialist' 'Business Intelligence Data Analyst'\n",
      " 'Data Modeller' 'Finance Data Analyst' 'Software Data Engineer'\n",
      " 'Compliance Data Analyst' 'Cloud Data Engineer'\n",
      " 'Analytics Engineering Manager' 'AWS Data Architect'\n",
      " 'Product Data Analyst' 'Data Visualization Analyst'\n",
      " 'Autonomous Vehicle Technician' 'Sales Data Analyst'\n",
      " 'Applied Machine Learning Engineer' 'BI Data Engineer'\n",
      " 'Deep Learning Researcher' 'Big Data Architect'\n",
      " 'Computer Vision Software Engineer' 'Marketing Data Engineer'\n",
      " 'Data Science Tech Lead' 'Data Scientist Lead' 'Marketing Data Analyst'\n",
      " 'Principal Data Architect' 'Data Analytics Engineer'\n",
      " 'Cloud Data Architect' 'Lead Data Engineer' 'Principal Data Analyst']\n",
      "['AU' 'US' 'GB' 'CA' 'NL' 'LT' 'DK' 'FR' 'ZA' 'NZ' 'AR' 'ES' 'KE' 'LV'\n",
      " 'GE' 'IN' 'DE' 'IL' 'FI' 'AT' 'HR' 'BR' 'CH' 'AE' 'GR' 'PL' 'SA' 'UA'\n",
      " 'EG' 'PH' 'TR' 'OM' 'MX' 'PT' 'BA' 'IT' 'IE' 'EE' 'MT' 'LB' 'RO' 'HU'\n",
      " 'VN' 'NG' 'CZ' 'PK' 'UG' 'CO' 'SI' 'MU' 'AM' 'TH' 'KR' 'QA' 'RU' 'TN'\n",
      " 'GH' 'BE' 'AD' 'EC' 'PE' 'MD' 'NO' 'UZ' 'JP' 'HK' 'CF' 'SG' 'SE' 'KW'\n",
      " 'CY' 'IR' 'AS' 'CN' 'CR' 'CL' 'PR' 'BO' 'DO' 'ID' 'MY' 'HN' 'DZ' 'IQ'\n",
      " 'BG' 'JE' 'RS' 'LU']\n",
      "[  0 100  50]\n",
      "['AU' 'US' 'GB' 'CA' 'NL' 'LT' 'DK' 'FR' 'ZA' 'NZ' 'AR' 'ES' 'KE' 'LV'\n",
      " 'IN' 'DE' 'IL' 'FI' 'AT' 'BR' 'CH' 'AE' 'PL' 'SA' 'UA' 'EG' 'PH' 'TR'\n",
      " 'OM' 'MX' 'PT' 'BA' 'IT' 'AS' 'IE' 'EE' 'MT' 'HU' 'LB' 'RO' 'VN' 'NG'\n",
      " 'LU' 'GI' 'CO' 'SI' 'GR' 'MU' 'RU' 'KR' 'CZ' 'QA' 'GH' 'SE' 'AD' 'EC'\n",
      " 'NO' 'JP' 'HK' 'CF' 'SG' 'TH' 'HR' 'AM' 'PK' 'IR' 'BS' 'PR' 'BE' 'ID'\n",
      " 'MY' 'HN' 'DZ' 'IQ' 'CN' 'CL' 'MD']\n",
      "['S' 'M' 'L']\n",
      "[120000  70000 130000 ...  28369 412000  94665]\n"
     ]
    }
   ],
   "source": [
    "cols = salaries.columns.values\n",
    "for col in cols:\n",
    "    print(salaries[col].unique())"
   ]
  },
  {
   "cell_type": "code",
   "execution_count": 7,
   "id": "345739d0",
   "metadata": {},
   "outputs": [
    {
     "data": {
      "text/plain": [
       "<Axes: >"
      ]
     },
     "execution_count": 7,
     "metadata": {},
     "output_type": "execute_result"
    },
    {
     "data": {
      "image/png": "[encoded data removed]",
      "text/plain": [
       "<Figure size 640x480 with 2 Axes>"
      ]
     },
     "metadata": {},
     "output_type": "display_data"
    }
   ],
   "source": [
    "numeric_sal = salaries[['work_year', 'remote_ratio', 'salary_in_usd']]\n",
    "sns.heatmap(numeric_sal.corr(), annot=True)"
   ]
  },
  {
   "cell_type": "code",
   "execution_count": 13,
   "id": "ae9cead3",
   "metadata": {},
   "outputs": [],
   "source": [
    "salaries2 = salaries.copy()\n",
    "salaries2['work_year'] = salaries2['work_year'].astype(str)\n",
    "salaries2['remote_ratio'] = salaries2['remote_ratio'].astype(str)"
   ]
  },
  {
   "cell_type": "code",
   "execution_count": 26,
   "id": "d80706bf",
   "metadata": {},
   "outputs": [],
   "source": [
    "def job_type_label(title):\n",
    "    if 'Robotics' in title:\n",
    "        return 'Robotics'\n",
    "    elif 'Machine Learning' in title:\n",
    "        return 'Machine Learning'\n",
    "    elif \"ML\" in title:\n",
    "        return 'Machine Learning'\n",
    "    elif 'AI' in title:\n",
    "        return 'AI'\n",
    "    elif 'Deep Learning' in title:\n",
    "        return 'AI'\n",
    "    elif 'NLP' in title:\n",
    "        return 'AI'\n",
    "    elif 'Data' in title:\n",
    "        return 'Data'\n",
    "    elif 'Insight' in title:\n",
    "        return 'Data'\n",
    "    elif 'Analytics' in title:\n",
    "        return 'Data'\n",
    "    elif 'Business Intelligence' in title:\n",
    "        return 'Business Intelligence'\n",
    "    elif 'BI' in title:\n",
    "        return 'Business Intelligence'\n",
    "    else:\n",
    "        return \"Others\""
   ]
  },
  {
   "cell_type": "code",
   "execution_count": 27,
   "id": "5949df32",
   "metadata": {},
   "outputs": [
    {
     "data": {
      "text/plain": [
       "array(['Data', 'Business Intelligence', 'Machine Learning', 'Others',\n",
       "       'AI', 'Robotics'], dtype=object)"
      ]
     },
     "execution_count": 27,
     "metadata": {},
     "output_type": "execute_result"
    }
   ],
   "source": [
    "salaries2['job_type'] = salaries2['job_title'].apply(job_type_label)\n",
    "salaries2['job_type'].unique()"
   ]
  },
  {
   "cell_type": "code",
   "execution_count": 29,
   "id": "cf4497b9",
   "metadata": {},
   "outputs": [
    {
     "data": {
      "text/plain": [
       "90"
      ]
     },
     "execution_count": 29,
     "metadata": {},
     "output_type": "execute_result"
    }
   ],
   "source": [
    "country_codes = list(set(salaries['employee_residence'].tolist() + salaries['company_location'].tolist()))\n",
    "len(country_codes)"
   ]
  },
  {
   "cell_type": "code",
   "execution_count": 30,
   "id": "c071f1b5",
   "metadata": {},
   "outputs": [],
   "source": [
    "country_to_continent = {\n",
    "    'ES': 'Europe', 'SI': 'Europe', 'IQ': 'Asia', 'IL': 'Asia', 'HK': 'Asia',\n",
    "    'NG': 'Africa', 'LV': 'Europe', 'AS': 'North America', 'BO': 'South America',\n",
    "    'AE': 'Asia', 'GH': 'Africa', 'QA': 'Asia', 'AU': 'Oceania', 'SE': 'Europe',\n",
    "    'RS': 'Europe', 'JP': 'Asia', 'DK': 'Europe', 'IT': 'Europe', 'PR': 'North America',\n",
    "    'AM': 'Asia', 'TH': 'Asia', 'NL': 'Europe', 'PE': 'South America', 'BG': 'Europe',\n",
    "    'HN': 'North America', 'NO': 'Europe', 'MX': 'North America', 'KW': 'Asia',\n",
    "    'VN': 'Asia', 'SA': 'Asia', 'GI': 'Europe', 'PK': 'Asia', 'BR': 'South America',\n",
    "    'AD': 'Europe', 'BA': 'Europe', 'UG': 'Africa', 'LB': 'Asia', 'LU': 'Europe',\n",
    "    'GR': 'Europe', 'BS': 'North America', 'EC': 'South America', 'IN': 'Asia',\n",
    "    'CN': 'Asia', 'CL': 'South America', 'DZ': 'Africa', 'RU': 'Europe', 'HU': 'Europe',\n",
    "    'FR': 'Europe', 'UZ': 'Asia', 'EE': 'Europe', 'IR': 'Asia', 'AT': 'Europe',\n",
    "    'ID': 'Asia', 'AR': 'South America', 'SG': 'Asia', 'DO': 'North America',\n",
    "    'GB': 'Europe', 'CR': 'North America', 'UA': 'Europe', 'PH': 'Asia', 'BE': 'Europe',\n",
    "    'LT': 'Europe', 'NZ': 'Oceania', 'EG': 'Africa', 'CA': 'North America', 'IE': 'Europe',\n",
    "    'OM': 'Asia', 'MY': 'Asia', 'KR': 'Asia', 'KE': 'Africa', 'TR': 'Asia',\n",
    "    'GE': 'Asia', 'DE': 'Europe', 'CY': 'Europe', 'ZA': 'Africa', 'CH': 'Europe',\n",
    "    'MT': 'Europe', 'MD': 'Europe', 'MU': 'Africa', 'US': 'North America',\n",
    "    'HR': 'Europe', 'FI': 'Europe', 'CF': 'Africa', 'RO': 'Europe', 'CO': 'South America',\n",
    "    'TN': 'Africa', 'JE': 'Europe', 'PL': 'Europe', 'CZ': 'Europe', 'PT': 'Europe'\n",
    "}\n",
    "salaries2['employee_continent'] = salaries2['employee_residence'].map(country_to_continent)\n",
    "salaries2['company_continent'] = salaries2['company_location'].map(country_to_continent)"
   ]
  },
  {
   "cell_type": "code",
   "execution_count": 32,
   "id": "686878fe",
   "metadata": {},
   "outputs": [
    {
     "data": {
      "image/png": "[encoded data removed]",
      "text/plain": [
       "<Figure size 1300x700 with 6 Axes>"
      ]
     },
     "metadata": {},
     "output_type": "display_data"
    }
   ],
   "source": [
    "fig, axes = plt.subplots(2, 3, figsize=(13,7))\n",
    "sns.countplot(salaries2['experience_level'], ax=axes[0,0])\n",
    "sns.countplot(salaries2['employment_type'], ax=axes[0,1])\n",
    "sns.countplot(salaries2['job_type'], ax=axes[0,2])\n",
    "sns.countplot(salaries2['employee_continent'], ax=axes[1,0])\n",
    "sns.countplot(salaries2['company_continent'], ax=axes[1,1])\n",
    "sns.countplot(salaries2['company_size'], ax=axes[1,2])\n",
    "plt.tight_layout()"
   ]
  }
 ],
 "metadata": {
  "kernelspec": {
   "display_name": ".venv",
   "language": "python",
   "name": "python3"
  },
  "language_info": {
   "codemirror_mode": {
    "name": "ipython",
    "version": 3
   },
   "file_extension": ".py",
   "mimetype": "text/x-python",
   "name": "python",
   "nbconvert_exporter": "python",
   "pygments_lexer": "ipython3",
   "version": "3.12.3"
  }
 },
 "nbformat": 4,
 "nbformat_minor": 5
}
